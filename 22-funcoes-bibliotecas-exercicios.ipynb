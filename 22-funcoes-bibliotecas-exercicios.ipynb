{
 "cells": [
  {
   "cell_type": "markdown",
   "metadata": {},
   "source": [
    "# Exercícios sobre Funções (parte 2)\n",
    "\n",
    "> Antes de iniciar qualquer notebook, é importante que você limpe as saídas de todas as células para que você só veja o resultado de uma célula quando executá-la. Para isso, utilize o menu **Cell > All Output > Clear **.\n",
    "\n",
    "## Requisitos\n",
    "\n",
    "Certifique-se de que você concluiu os seguintes notebooks:\n",
    "* [Introdução à sintaxe de Python](02-sintaxe.ipynb)\n",
    "* [Strings, saída e entrada de dados e a biblioteca math](03-strings.ipynb)\n",
    "* [Exercícios sobre Estrutura Sequencial](04-exercicios.ipynb)\n",
    "* [Estrutura condicional](05-condicoes-fluxo-controle.ipynb)\n",
    "* [O comando while](07-while.ipynb)\n",
    "* [Exercícios sobre o comando while](08-while-exercicios.ipynb)\n",
    "* [O comando for](09-for.ipynb)\n",
    "* [Exercícios sobre o comando for](11-for-exercicios-parte2.ipynb)\n",
    "* [Exercícios sobre strings](12-exercicios-strings.ipynb)\n",
    "* [Exercícios de revisão](13-exercicios-revisao.ipynb)\n",
    "* [Listas em Python](14-vetores-listas.ipynb)\n",
    "* [Exercícios sobre Vetores (Listas)](15-listas-exercicios-parte1.ipynb)\n",
    "* [Exercícios sobre Listas (parte 2)](16-listas-exercicios-parte2.ipynb)\n",
    "* [Matrizes em Python](17-matrizes.ipynb)\n",
    "* [Exercícios sobre Matrizes)](18-matrizes-exercicios.ipynb)\n",
    "* [Funções](19-funcoes.ipynb)\n",
    "* [Exercícios sobre Funções](20-funcoes-exercicios.ipynb)\n",
    "* [Começando a sua biblioteca de funções](21-funcoes-bibliotecas.ipynb)\n",
    "\n",
    "## Exercícios"
   ]
  },
  {
   "cell_type": "markdown",
   "metadata": {},
   "source": [
    "### Questão 1\n",
    "\n",
    "Na célula abaixo, escreva uma função recursiva para calcular o fatorial de um número inteiro não negativo n. O fatorial pode ser definido como sendo:\n",
    "$ n! = \\begin{cases}\n",
    "1 & ,\\ se\\ 0 \\leq n \\leq 1 \\\\\n",
    "n \\times (n-1)! &,\\ caso\\ contrário \\\\\n",
    "\\end{cases}$\n",
    "\n",
    "No programa principal, chame a sua função para calcular 5!\n"
   ]
  },
  {
   "cell_type": "code",
   "execution_count": null,
   "metadata": {},
   "outputs": [],
   "source": [
    "# Defina a sua função recursiva aqui\n",
    "\n",
    "\n",
    "# Escreva o seu programa principal aqui\n",
    "\n"
   ]
  },
  {
   "cell_type": "markdown",
   "metadata": {},
   "source": [
    "### Questão 2\n",
    "\n",
    "Na célula abaixo, crie uma função recursiva que calcula o n-ésimo termo da sequência de Fibonacci, definido como: \n",
    "\n",
    "$ fibonacci(n) = \\begin{cases}\n",
    "n & ,\\ se\\ n \\leq 1 \\\\\n",
    "fibonacci(n-1) + fibonacci(n-2) &,\\ caso\\ contrário \\\\\n",
    "\\end{cases}$\n",
    "\n",
    "Também escreva um programa principal que recebe n do usuário e que mostra todos os n termos da sequência de Fibonacci (você vai precisar de um laço para isso)."
   ]
  },
  {
   "cell_type": "code",
   "execution_count": 1,
   "metadata": {
    "collapsed": true
   },
   "outputs": [],
   "source": [
    "# Defina a sua função recursiva aqui\n",
    "\n",
    "\n",
    "# Escreva o seu programa principal aqui\n"
   ]
  },
  {
   "cell_type": "markdown",
   "metadata": {},
   "source": [
    "### Questão 3\n",
    "\n",
    "Na célula abaixo, escreva uma função recursiva para calcular o M.D.C. de dois números. O M.D.C. de dois números a e b, onde a > b, é definido como: \n",
    "\n",
    "$ MDC(a,b) = \\begin{cases}\n",
    "a & ,\\ se\\ b = 0 \\\\\n",
    "MDC(b, a \\% b) &,\\ caso\\ contrário \\\\\n",
    "\\end{cases}$\n",
    "\n",
    "Escreva um programa principal que receba os dois números e calcule o MDC deles usando uma função recursiva. O seu\n",
    "programa deve garantir que que a > b (ou seja, troque os números se b > a)."
   ]
  },
  {
   "cell_type": "code",
   "execution_count": null,
   "metadata": {
    "collapsed": true
   },
   "outputs": [],
   "source": [
    "# Defina a sua função recursiva aqui\n",
    "\n",
    "\n",
    "# Escreva o seu programa principal aqui\n"
   ]
  },
  {
   "cell_type": "markdown",
   "metadata": {},
   "source": [
    "### Questão 4\n",
    "\n",
    "Na célula abaixo, crie uma função chamada `patternCount(pattern, text)` que vai computar o número de vezes que um k-mer `pattern`aparece como substring de text. Veja o pdf da aula da manhã para a dica de como proceder.\n",
    "\n",
    "Teste a sua função com os seguintes casos:\n",
    "\n",
    "```python\n",
    "print(patternCount(\"ATA\", \"GACCATACTG\")) # deve mostrar 1\n",
    "print(patternCount(\"ACTAT\", \"ACAACTATGCATACTATCGGGAACTATCCT\")) #deve mostrar 3\n",
    "print(patternCount(\"ATA\", \"CGATATATCCATAG\")) # deve mostrar 3\n",
    "```"
   ]
  },
  {
   "cell_type": "code",
   "execution_count": null,
   "metadata": {},
   "outputs": [],
   "source": [
    "# Defina a sua função aqui\n",
    "\n",
    "# Teste a sua função aqui"
   ]
  },
  {
   "cell_type": "markdown",
   "metadata": {},
   "source": [
    "### Questão 5\n",
    "\n",
    "Na célula abaixo, ori contém a origem de *Vibrio Cholerae*.\n",
    "\n",
    "Faça o que se pede:\n",
    "\n",
    "1. Quantos nucleotídeos tem em ori?\n",
    "2. Qual o nucleotídeo mais frequente?\n",
    "3. Quantas vezes o pattern \"TGATCA\" aparece em ori?"
   ]
  },
  {
   "cell_type": "code",
   "execution_count": null,
   "metadata": {
    "collapsed": true
   },
   "outputs": [],
   "source": [
    "ori = 'ATCAATGATCAACGTAAGCTTCTAAGCATGATCAAGGTGCTCACACAGTTTATCCACAACCTGAGTGGATGACATCAAGATAGGTCGTTGTATCTCCTTCCTCTCGTACTCTCATGACCACGGAAAGATGATCAAGAGAGGATGATTTCTTGGCCATATCGCAATGAATACTTGTGACTTGTGCTTCCAATTGACATCTTCAGCGCCATATTGCGCTGGCCAAGGTGACGGAGCGGGATTACGAAAGCATGATCATGGCTGTTGTTCTGTTTATCTTGTTTTGACTGAGACTTGTTAGGATAGACGGTTTTTCATCACTGACTAGCCAAAGCCTTACTCTGCCTGACATCGACCGTAAATTGATAATGAATTTACATGCTTCCGCGACGATTTACCTCTTGATCATCGATCCGATTGAAGATCTTCAATTGTTAATTCTCTTGCCTCGACTCATAGCCATGATGAGCTCTTGATCATGTTTCCTTAACCCTCTATTTTTTACGGAAGAATGATCAAGCTGCTGCTCTTGATCATCGTTTC'\n",
    "\n",
    "# Comece a responder as perguntas aqui\n"
   ]
  },
  {
   "cell_type": "markdown",
   "metadata": {},
   "source": [
    "### Questão 6\n",
    "Crie um arquivo chamado dna.py e inclua a função `complementos` feita na [questão 4 da aula passada](09-exercicios-funcoes.ipynb). Salve o seu arquivo na sua biblioteca, e na célula abaixo, use a sua função em ori."
   ]
  },
  {
   "cell_type": "code",
   "execution_count": null,
   "metadata": {
    "collapsed": true
   },
   "outputs": [],
   "source": [
    "# Importe a sua função aqui\n",
    "\n",
    "\n",
    "ori = 'ATCAATGATCAACGTAAGCTTCTAAGCATGATCAAGGTGCTCACACAGTTTATCCACAACCTGAGTGGATGACATCAAGATAGGTCGTTGTATCTCCTTCCTCTCGTACTCTCATGACCACGGAAAGATGATCAAGAGAGGATGATTTCTTGGCCATATCGCAATGAATACTTGTGACTTGTGCTTCCAATTGACATCTTCAGCGCCATATTGCGCTGGCCAAGGTGACGGAGCGGGATTACGAAAGCATGATCATGGCTGTTGTTCTGTTTATCTTGTTTTGACTGAGACTTGTTAGGATAGACGGTTTTTCATCACTGACTAGCCAAAGCCTTACTCTGCCTGACATCGACCGTAAATTGATAATGAATTTACATGCTTCCGCGACGATTTACCTCTTGATCATCGATCCGATTGAAGATCTTCAATTGTTAATTCTCTTGCCTCGACTCATAGCCATGATGAGCTCTTGATCATGTTTCCTTAACCCTCTATTTTTTACGGAAGAATGATCAAGCTGCTGCTCTTGATCATCGTTTC'\n",
    "\n",
    "# Aplique a sua função em ori e mostre o resultado."
   ]
  }
 ],
 "metadata": {
  "kernelspec": {
   "display_name": "Python 3",
   "language": "python",
   "name": "python3"
  },
  "language_info": {
   "codemirror_mode": {
    "name": "ipython",
    "version": 3
   },
   "file_extension": ".py",
   "mimetype": "text/x-python",
   "name": "python",
   "nbconvert_exporter": "python",
   "pygments_lexer": "ipython3",
   "version": "3.5.2"
  }
 },
 "nbformat": 4,
 "nbformat_minor": 2
}
