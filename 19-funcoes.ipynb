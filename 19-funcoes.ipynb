{
 "cells": [
  {
   "cell_type": "markdown",
   "metadata": {
    "collapsed": true
   },
   "source": [
    "# Funções\n",
    "\n",
    "Uma função é um trecho de código reutilizável escrito para realizar uma tarefa específica em um programa.\n",
    "\n",
    "Você já experimentou um pouco utilizando funções ao trabalhar com strings e listas, por exemplo: `len()` e `range()`. Agora você irá aprender a criar suas próprias funções.\n",
    "\n",
    "## Por que usar funções?\n",
    "\n",
    "Sempre que você encontrar uma situação em que você gostaria de reutilizar uma parte do código, mas precisaria mudar apenas alguns valores, em vez de copiar e colar o código inteiro novamente, é muito mais prático e elegante definir uma função com aquele código e essa função poderá ser usada repetidamente.\n",
    "\n",
    "Observe o código abaixo. Nele estão definidas duas funções: `imposto` para adicionar o valor do imposto a uma conta e `servico` para adicionar o valor da taxa de servico. \n",
    "\n",
    "Veja se você consegue entender o que está acontecendo. Mais abaixo explicaremos todos os conceitos envolvidos. Depois de dar uma olhada, execute a célula (`Shift + Enter`)."
   ]
  },
  {
   "cell_type": "code",
   "execution_count": 1,
   "metadata": {},
   "outputs": [
    {
     "name": "stdout",
     "output_type": "stream",
     "text": [
      "Valor com o imposto: R$113.00\n",
      "Valor com a taxa de serviço: R$124.30\n"
     ]
    }
   ],
   "source": [
    "def imposto(conta):\n",
    "    \"\"\"Adiciona 13% de imposto a uma conta de restaurante.\"\"\"\n",
    "    conta = conta * 1.13\n",
    "    print(\"Valor com o imposto: R$%.2f\" % conta)\n",
    "    return conta\n",
    "\n",
    "def servico(conta):\n",
    "    \"\"\"Adiciona 10% de taxa de servico a uma conta de restaurante.\"\"\"\n",
    "    conta = conta * 1.10\n",
    "    print(\"Valor com a taxa de serviço: R$%.2f\" % conta)\n",
    "    return conta\n",
    "  \n",
    "custo_refeicao = 100\n",
    "refeicao_com_imposto = imposto(custo_refeicao)\n",
    "refeicao_com_taxa = servico(refeicao_com_imposto)"
   ]
  },
  {
   "cell_type": "markdown",
   "metadata": {},
   "source": [
    "## Definição de funções\n",
    "\n",
    "As funções são definidas com três componentes: \n",
    "###  O cabeçalho\n",
    "Inclui a palavra reservada `def`, o nome da função, e quaisquer parâmetros que a função necessite dentro dos parênteses. Por exemplo:\n",
    "```python\n",
    "def alo_mundo(): # Não possui parâmetros\n",
    "```\n",
    "\n",
    "### A documentação da função (opcional)\n",
    "A documentação é importante pois explica o que a função faz e descreve os parâmetros. Ela ajuda no entendimento da função.\n",
    "\n",
    "```python\n",
    "    \"\"\"Mostra 'Alô Mundo!' na tela.\"\"\"\n",
    "```\n",
    "\n",
    "### O corpo da função\n",
    "Contém os comandos que fazem parte da função. O corpo da função é indentado, como os blocos de comandos `if` e `for`.\n",
    "```python\n",
    "    print(\"Alô Mundo!\")\n",
    "```\n",
    "\n",
    "Juntando tudo, temos a função completa abaixo:"
   ]
  },
  {
   "cell_type": "code",
   "execution_count": 3,
   "metadata": {
    "collapsed": true
   },
   "outputs": [],
   "source": [
    "def alo_mundo(): # Não possui parâmetros\n",
    "    \"\"\"Mostra 'Alô Mundo!' na tela.\"\"\"\n",
    "    print(\"Alô Mundo!\")    "
   ]
  },
  {
   "cell_type": "markdown",
   "metadata": {},
   "source": [
    "Se você executou a célula acima, você observou que nada aconteceu. Isso é esperado porque apenas definimos a função, ainda precisamos chamá-la para que ele possa realmente executar. Veja a célula abaixo:"
   ]
  },
  {
   "cell_type": "code",
   "execution_count": 4,
   "metadata": {},
   "outputs": [
    {
     "name": "stdout",
     "output_type": "stream",
     "text": [
      "Alô Mundo!\n"
     ]
    }
   ],
   "source": [
    "# só execute essa célula após executar a célula acima \n",
    "alo_mundo()"
   ]
  },
  {
   "cell_type": "markdown",
   "metadata": {},
   "source": [
    "Agora sim, a função `alo_mundo()` foi chamada e o código dentro dela foi executado. \n",
    "\n",
    "Na célula abaixo defina uma função `proverbio` que mostra um provérbio à sua escolha na tela. Não esqueça de chamar a sua função depois de defini-la para o provérbio ser mostrado na tela.  "
   ]
  },
  {
   "cell_type": "code",
   "execution_count": null,
   "metadata": {
    "collapsed": true
   },
   "outputs": [],
   "source": [
    "# crie aqui a sua função proverbio"
   ]
  },
  {
   "cell_type": "markdown",
   "metadata": {},
   "source": [
    "## Chamada e retorno de funções\n",
    "\n",
    "Normalmente, em vez de só mostrar o resultado na tela, as funções podem retornar o resultado para o programa que a chamou para ser utilizado depois. Veja essa próxima função:"
   ]
  },
  {
   "cell_type": "code",
   "execution_count": 5,
   "metadata": {},
   "outputs": [
    {
     "name": "stdout",
     "output_type": "stream",
     "text": [
      "10 elevado ao quadrado é 100.\n"
     ]
    }
   ],
   "source": [
    "def quadrado(n):\n",
    "    \"\"\"Retorna o quadrado de um número n.\"\"\"\n",
    "    quad = n ** 2\n",
    "    return quad\n",
    "\n",
    "quad_10 = quadrado(10)\n",
    "print(\"10 elevado ao quadrado é %s.\" % quad_10)"
   ]
  },
  {
   "cell_type": "markdown",
   "metadata": {},
   "source": [
    "O resultado de chamar a função `quadrado` com o número `10` é retornado com o comando `return` e armazenado na variável quad_10.\n",
    "\n",
    "Na célula abaixo, crie uma função chamada `cubo` que recebe um parâmetro `n` e retorna o cubo desse número. Chame a sua função com o número 5 e depois mostre o resultado de chamar a sua função com o comando print."
   ]
  },
  {
   "cell_type": "code",
   "execution_count": null,
   "metadata": {
    "collapsed": true
   },
   "outputs": [],
   "source": [
    "# crie aqui a sua função cubo"
   ]
  },
  {
   "cell_type": "markdown",
   "metadata": {},
   "source": [
    "## Parâmetros e Argumentos\n",
    "\n",
    "Vamos examinar o cabeçalho da função quadrado.\n",
    "```python\n",
    "def quadrado(n):\n",
    "```\n",
    "n é um parâmetro da função `quadrado`. Um parâmetro atua como um nome de variável para um argumento que foi passado. No exemplo anterior, nós chamamos `quadrado` com o argumento 10. Nessa instância, a função foi chamada e o parâmetro n armazena o valor 10.\n",
    "\n",
    "Uma função pode ter quantos parâmetros você quiser, mas ao chamar a função, você deve normalmente passar um número correspondente de argumentos.\n",
    "\n",
    "Na célula abaixo, crie uma função `potencia`. Ela deve receber dois argumentos, uma base e um expoente e elevar o primeiro argumento à potência do segundo argumento e retornar esse valor. Depois chame a função com uma base 37 e um expoente 4 e mostre o resultado na tela."
   ]
  },
  {
   "cell_type": "code",
   "execution_count": null,
   "metadata": {
    "collapsed": true
   },
   "outputs": [],
   "source": [
    "# crie aqui a sua função potencia"
   ]
  },
  {
   "cell_type": "markdown",
   "metadata": {},
   "source": [
    "## Funções que chamam funções\n",
    "Nós vimos funções que mostram texto na tela ou fazem simples cálculos matemáticos, mas as funções podem ser bem mais poderosas do que isso. Por exemplo, uma função pode chamar outra função:\n",
    "\n",
    "```python\n",
    "def fun_um(n):\n",
    "    return n * 5\n",
    "\n",
    "def fun_dois(m):\n",
    "  return fun_um(m) + 7\n",
    "```\n",
    "\n",
    "Vejamos as funções na célula abaixo, `recebe_um` (que adiciona um ao número que recebe como argumento) e `merece_mais_um` (que adiciona 2). Altere o corpo de `merece_mais_um` tal que a função sempre adiciona 2 ao resultado de `recebe_um`. "
   ]
  },
  {
   "cell_type": "code",
   "execution_count": 9,
   "metadata": {
    "collapsed": true
   },
   "outputs": [],
   "source": [
    "def recebe_um(n):\n",
    "    return n + 1\n",
    "    \n",
    "def merece_mais_um(n):\n",
    "    return n + 2"
   ]
  },
  {
   "cell_type": "markdown",
   "metadata": {},
   "source": [
    "## Prática\n",
    "### Exercício 1\n",
    "Defina uma função `aumenta_salario` que recebe como parâmetros `salario` e `aumento`. `aumento` é dado em porcentagem. A sua função deve retornar o valor do salário com o aumento. Mostre o resultado na tela para um salario de 1000 reais e um aumento de 18%."
   ]
  },
  {
   "cell_type": "code",
   "execution_count": null,
   "metadata": {
    "collapsed": true
   },
   "outputs": [],
   "source": []
  },
  {
   "cell_type": "markdown",
   "metadata": {},
   "source": [
    "### Exercício 2\n",
    "Defina uma função `par` que recebe como parâmetro um número inteiro e retorna `True` se for par ou `False` se for ímpar. Mostre o resultado de chamar a sua função com dois números inteiros diferentes, de preferência um par e o outro ímpar."
   ]
  },
  {
   "cell_type": "code",
   "execution_count": null,
   "metadata": {
    "collapsed": true
   },
   "outputs": [],
   "source": []
  },
  {
   "cell_type": "markdown",
   "metadata": {},
   "source": [
    "### Exercício 3\n",
    "Defina uma função `contagem_regressiva` que recebe como parâmetro um inteiro representando o início da contagem. Sua função deve contar (mostrando na tela) de n até o zero."
   ]
  },
  {
   "cell_type": "code",
   "execution_count": null,
   "metadata": {
    "collapsed": true
   },
   "outputs": [],
   "source": []
  },
  {
   "cell_type": "markdown",
   "metadata": {},
   "source": [
    "Ao terminar, você já pode ir para o próximo notebook: [Exercícios sobre Funções](20-funcoes-exercicios.ipynb)."
   ]
  }
 ],
 "metadata": {
  "kernelspec": {
   "display_name": "Python 3",
   "language": "python",
   "name": "python3"
  },
  "language_info": {
   "codemirror_mode": {
    "name": "ipython",
    "version": 3
   },
   "file_extension": ".py",
   "mimetype": "text/x-python",
   "name": "python",
   "nbconvert_exporter": "python",
   "pygments_lexer": "ipython3",
   "version": "3.5.2"
  }
 },
 "nbformat": 4,
 "nbformat_minor": 2
}
