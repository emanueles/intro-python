{
 "cells": [
  {
   "cell_type": "markdown",
   "metadata": {},
   "source": [
    "# Exercícios de Revisão\n",
    "\n",
    "> Antes de iniciar qualquer notebook, é importante que você limpe as saídas de todas as células para que você só veja o resultado de uma célula quando executá-la. Para isso, utilize o menu **Cell > All Output > Clear **.\n",
    "\n",
    "## Requisitos\n",
    "\n",
    "Certifique-se de que você concluiu os seguintes notebooks:\n",
    "\n",
    "* [Introdução ao Python](01-intro.ipynb)\n",
    "* [Introdução à sintaxe de Python](02-sintaxe.ipynb)\n",
    "* [Strings, saída e entrada de dados e a biblioteca math](03-strings.ipynb)\n",
    "* [Exercícios sobre Estrutura Sequencial](04-exercicios.ipynb)\n",
    "* [Estrutura condicional](05-condicoes-fluxo-controle.ipynb)\n",
    "* [O comando while](07-while.ipynb)\n",
    "* [Exercícios sobre o comando while](08-while-exercicios.ipynb)\n",
    "* [O comando for](09-for.ipynb)\n",
    "* [Exercícios sobre o comando for](11-for-exercicios-parte2.ipynb)\n",
    "* [Exercícios sobre strings](02-exercicios-strings.ipynb)\n",
    "\n",
    "## Exercícios\n",
    "### Questão 1\n",
    "\n",
    "Na célula abaixo, escreva um programa para calcular o fatorial de vários números numa mesma execução. O usuário deve digitar um número menor ou igual a zero para interromper a execução.\n",
    "\n",
    "> Dica 1: você já fez um programa para calcular o fatorial de um único número [nesse notebook](05-exercicios-parte-2.ipynb). Você pode aproveitá-lo para resolver essa questão.\n",
    "\n",
    "> Dica 2: você vai precisar de dois laços aninhados para implementar esse programa. Um laço para receber os números e outro laço para calcular o fatorial.\n",
    "\n",
    "Exemplo de execução do programa:\n",
    "\n",
    "```\n",
    "Digite um número inteiro positivo: 4\n",
    "Fatorial de 4: 24\n",
    "Digite um número inteiro positivo: 5\n",
    "Fatorial de 4: 120\n",
    "Digite um número inteiro positivo: 0\n",
    "Fim.\n",
    "```"
   ]
  },
  {
   "cell_type": "code",
   "execution_count": null,
   "metadata": {},
   "outputs": [],
   "source": [
    "# Escreva o seu código aqui"
   ]
  },
  {
   "cell_type": "markdown",
   "metadata": {},
   "source": [
    "### Questão 2\n",
    "\n",
    "Na célula abaixo, faça um programa que receba um número inteiro maior que 1, verifique se o número fornecido é primo ou não e mostre uma mensagem de número primo ou de número não primo. Um número é primo quando é divisível apenas por 1 e por ele mesmo."
   ]
  },
  {
   "cell_type": "code",
   "execution_count": 1,
   "metadata": {
    "collapsed": true
   },
   "outputs": [],
   "source": [
    "# Escreva o seu código aqui"
   ]
  },
  {
   "cell_type": "markdown",
   "metadata": {},
   "source": [
    "### Questão 3\n",
    "\n",
    "Na célula abaixo, faça um programa que receba o número de alunos de uma turma, e para cada aluno receba duas notas, calcule e mostre:\n",
    "* A média das duas notas, sabendo-se que a segunda nota possui peso 2\n",
    "* O resultado do aluno: Aprovado (se M ≥ 7), Reprovado (se M < 4) e AF (4 ≤ M < 7).\n",
    "* Ao final, mostre:\n",
    " + Os totais de alunos aprovados, reprovados e que ficaram de AF e a média da turma.\n"
   ]
  },
  {
   "cell_type": "code",
   "execution_count": 1,
   "metadata": {},
   "outputs": [],
   "source": [
    "# Escreva o seu código aqui"
   ]
  },
  {
   "cell_type": "markdown",
   "metadata": {},
   "source": [
    "### Questão 4\n",
    "\n",
    "Na célula abaixo, faça um programa para calcular a área de um triângulo, recebendo a base e altura e que não permita a entrada de dados inválidos (valores menores ou iguais a 0)."
   ]
  },
  {
   "cell_type": "code",
   "execution_count": null,
   "metadata": {
    "collapsed": true
   },
   "outputs": [],
   "source": [
    "# Escreva o seu código aqui"
   ]
  },
  {
   "cell_type": "markdown",
   "metadata": {},
   "source": [
    "### Questão 5\n",
    "\n",
    "Na célula abaixo, faça um programa que leia um conjunto não determinado de valores e mostre o valor lido, seu quadrado, seu cubo e sua raiz quadrada. Finalize a entrada de dados com um valor negativo ou zero."
   ]
  },
  {
   "cell_type": "code",
   "execution_count": null,
   "metadata": {
    "collapsed": true
   },
   "outputs": [],
   "source": [
    "# Escreva o seu código aqui"
   ]
  },
  {
   "cell_type": "markdown",
   "metadata": {},
   "source": [
    "### Questão 6\n",
    "\n",
    "Na célula abaixo, faça um programa que receba dez números inteiros e mostre a quantidade de números primos dentre os números que foram digitados."
   ]
  },
  {
   "cell_type": "code",
   "execution_count": null,
   "metadata": {
    "collapsed": true
   },
   "outputs": [],
   "source": [
    "# Escreva o seu código aqui"
   ]
  },
  {
   "cell_type": "markdown",
   "metadata": {},
   "source": [
    "### Questão 7\n",
    "\n",
    "Na célula abaixo, faça um programa que receba dez números inteiros, calcule e mostre a soma dos números pares e a soma dos números primos."
   ]
  },
  {
   "cell_type": "code",
   "execution_count": null,
   "metadata": {
    "collapsed": true
   },
   "outputs": [],
   "source": [
    "# Escreva o seu código aqui"
   ]
  },
  {
   "cell_type": "markdown",
   "metadata": {},
   "source": [
    "### Questão 8\n",
    "\n",
    "Cada espectador de um cinema respondeu a um questionário no qual constava sua idade e um número representando sua opinião em relação ao filme: \n",
    "* 3 para ótimo\n",
    "* 2 para bom\n",
    "* 1 para regular\n",
    "\n",
    "Na célula abaixo, faça um programa que receba a idade e a opinião de 8 espectadores, calcule e mostre:\n",
    "* A média das idades das pessoas que responderam ótimo;\n",
    "* A quantidade de pessoas que responderam regular;\n",
    "* A percentagem de pessoas que responderam bom, entre todos os espectadores analisados."
   ]
  },
  {
   "cell_type": "code",
   "execution_count": null,
   "metadata": {
    "collapsed": true
   },
   "outputs": [],
   "source": [
    "# Escreva o seu código aqui"
   ]
  },
  {
   "cell_type": "markdown",
   "metadata": {},
   "source": [
    "### Questão 9\n",
    "\n",
    "Na célula abaixo, mostre quantas vezes aparece a letra `e` na string de nome `latim`."
   ]
  },
  {
   "cell_type": "code",
   "execution_count": null,
   "metadata": {
    "collapsed": true
   },
   "outputs": [],
   "source": [
    "latim = \"Lorem ipsum dolor sit amet, consectetur adipiscing elit, sed do eiusmod tempor\"\n",
    "# Escreva o seu código aqui"
   ]
  },
  {
   "cell_type": "markdown",
   "metadata": {},
   "source": [
    "### Questão 10\n",
    "\n",
    "Na célula abaixo, peça para o usuário entrar com uma string, depois mostre a string codificada, trocando a letra `a` por um `4`, a letra `o` por um `*` e a letra `s` por `5`. Aceite caracteres maiúsculos e minúsculos e não utilize os métodos de strings `replace` ou `translate`.\n",
    "\n",
    "Exemplo de execução:\n",
    "\n",
    "```\n",
    "Digite uma string: Nada como um dia depois do outro.\n",
    "String codificada: N4d4 c*m* um di4 dep*i5 d* *utr*.\n",
    "```"
   ]
  },
  {
   "cell_type": "code",
   "execution_count": null,
   "metadata": {
    "collapsed": true
   },
   "outputs": [],
   "source": [
    "# Escreva o seu código aqui"
   ]
  }
 ],
 "metadata": {
  "kernelspec": {
   "display_name": "Python 3",
   "language": "python",
   "name": "python3"
  },
  "language_info": {
   "codemirror_mode": {
    "name": "ipython",
    "version": 3
   },
   "file_extension": ".py",
   "mimetype": "text/x-python",
   "name": "python",
   "nbconvert_exporter": "python",
   "pygments_lexer": "ipython3",
   "version": "3.5.2"
  }
 },
 "nbformat": 4,
 "nbformat_minor": 2
}
