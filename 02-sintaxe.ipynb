{
 "cells": [
  {
   "cell_type": "markdown",
   "metadata": {
    "collapsed": true
   },
   "source": [
    "# Sintaxe de Python\n",
    "\n",
    "> Antes de iniciar qualquer notebook, é importante que você limpe as saídas de todas as células para que você só veja o resultado de uma célula quando executá-la. Para isso, utilize o menu **Cell > All Output > Clear **.\n",
    "\n",
    "## Variáveis"
   ]
  },
  {
   "cell_type": "markdown",
   "metadata": {},
   "source": [
    "Para criar as mais diversas aplicações, precisamos armazenar e manipular diferentes tipos de dados. Fazemos usando **variáveis**. Uma **variável** armazena um item de dado (valor) e recebe um nome específico.\n",
    "\n",
    "Por exemplo:"
   ]
  },
  {
   "cell_type": "code",
   "execution_count": null,
   "metadata": {
    "collapsed": true
   },
   "outputs": [],
   "source": [
    "num = 9"
   ]
  },
  {
   "cell_type": "markdown",
   "metadata": {},
   "source": [
    "A linha acima cria uma variável ```num``` que armazena o número ```9```.\n",
    "\n",
    "Na célula de código abaixo, crie uma variável chamada ```contador``` que armazena o número ```7```.\n"
   ]
  },
  {
   "cell_type": "code",
   "execution_count": null,
   "metadata": {
    "collapsed": true
   },
   "outputs": [],
   "source": []
  },
  {
   "cell_type": "markdown",
   "metadata": {},
   "source": [
    "Não se esqueça de executar a célula acima (pressionando ```Shift + Enter```).\n",
    "\n",
    "Ótimo! Você acabou de armazenar um número inteiro em uma variável. Números são um dos tipos de dados que usamos em programação. Outro tipo que também usamos são booleanos."
   ]
  },
  {
   "cell_type": "markdown",
   "metadata": {},
   "source": [
    "## Booleanos\n",
    "\n",
    "Um booleano é como um interruptor de luz, que só pode estar em dois estados: **ligado** ou **desligado**. Assim, um booleano pode possuir apenas dois valores: **True** (verdadeiro) ou **False** (falso).\n",
    "\n",
    "Você pode usar variáveis para armazenar booleanos da seguinte maneira:\n",
    "\n",
    "```python\n",
    "a = True\n",
    "b = False\n",
    "```\n",
    "\n",
    "Na célula abaixo, crie uma variável booleana ``` aprendendo_python``` e atribua o valor ```True```. Sempre se lembre de executar a célula com ```Shift+Enter```."
   ]
  },
  {
   "cell_type": "code",
   "execution_count": null,
   "metadata": {
    "collapsed": true
   },
   "outputs": [],
   "source": []
  },
  {
   "cell_type": "markdown",
   "metadata": {},
   "source": [
    "## Números Inteiros\n",
    "\n",
    "Agora você já sabe como usar variáveis para armazenar valores booleanos. Variáveis numéricas são criadas de modo semelhante:\n",
    "\n",
    "```python\n",
    "semestre = 3\n",
    "```\n",
    "Na célula abaixo, crie uma variável ```idade``` e armazene um número correspondendo à sua idade."
   ]
  },
  {
   "cell_type": "code",
   "execution_count": null,
   "metadata": {},
   "outputs": [],
   "source": []
  },
  {
   "cell_type": "markdown",
   "metadata": {},
   "source": [
    "Suponha que você criou a variável idade com o valor 20, ou seja, ```idade = 20```. Você pode alterar o valor de uma variável, atribuindo um outro valor à idade:\n",
    "\n",
    "```\n",
    "idade = 19\n",
    "\n",
    "```\n",
    "\n",
    "Tente você também. Na célula abaixo foi criada uma variável tamanho com valor 10."
   ]
  },
  {
   "cell_type": "code",
   "execution_count": 9,
   "metadata": {
    "collapsed": true
   },
   "outputs": [],
   "source": [
    "tamanho = 10"
   ]
  },
  {
   "cell_type": "markdown",
   "metadata": {},
   "source": [
    " Atribua o novo valor 15 a tamanho na linha abaixo:"
   ]
  },
  {
   "cell_type": "code",
   "execution_count": null,
   "metadata": {
    "collapsed": true
   },
   "outputs": [],
   "source": [
    "tamanho = "
   ]
  },
  {
   "cell_type": "markdown",
   "metadata": {},
   "source": [
    "Abaixo está um código que mostra o valor de tamanho. Ao executá-la, é mostrado o valor 15?"
   ]
  },
  {
   "cell_type": "code",
   "execution_count": 11,
   "metadata": {},
   "outputs": [
    {
     "name": "stdout",
     "output_type": "stream",
     "text": [
      "10\n"
     ]
    }
   ],
   "source": [
    "print(tamanho)"
   ]
  },
  {
   "cell_type": "markdown",
   "metadata": {},
   "source": [
    "## Números reais\n",
    "\n",
    "Você também pode armazenar números não inteiros em variáveis. Devido a uma limitação de representação nem todos os números reais podem ser representados em um computador, mas uma boa parte. \n",
    "\n",
    "Para isso, usamos o ```.``` (ponto) como separador de casas decimais. Por exemplo:\n",
    "\n",
    "```python\n",
    "altura = 1.78\n",
    "```\n",
    "\n",
    "Na célula abaixo, crie uma variável altura e atribua o valor correspondente à sua altura."
   ]
  },
  {
   "cell_type": "code",
   "execution_count": null,
   "metadata": {},
   "outputs": [],
   "source": []
  },
  {
   "cell_type": "markdown",
   "metadata": {
    "collapsed": true
   },
   "source": [
    "## Espaços\n",
    "\n",
    "Em Python, espaços são usados para estruturar o código. Espaços são importantes e, portanto, você deve tomar cuidado como você os utiliza dentro do código.\n",
    "\n",
    "Por exemplo, a célula abaixo está mal formatada. Existe um *espaço inadequado* no início da segunda linha. Tente executá-la e veja o que acontece:"
   ]
  },
  {
   "cell_type": "code",
   "execution_count": 1,
   "metadata": {},
   "outputs": [
    {
     "ename": "IndentationError",
     "evalue": "unexpected indent (<ipython-input-1-6d2a838c2a0b>, line 2)",
     "output_type": "error",
     "traceback": [
      "\u001b[0;36m  File \u001b[0;32m\"<ipython-input-1-6d2a838c2a0b>\"\u001b[0;36m, line \u001b[0;32m2\u001b[0m\n\u001b[0;31m    idade = 19\u001b[0m\n\u001b[0m    ^\u001b[0m\n\u001b[0;31mIndentationError\u001b[0m\u001b[0;31m:\u001b[0m unexpected indent\n"
     ]
    }
   ],
   "source": [
    "tamanho = 15\n",
    " idade = 19"
   ]
  },
  {
   "cell_type": "markdown",
   "metadata": {},
   "source": [
    "Você verá algo como:\n",
    "```\n",
    "File \"<ipython-input-1-6d2a838c2a0b>\", line 2\n",
    "    idade = 19\n",
    "    ^\n",
    "IndentationError: unexpected indent\n",
    "```\n",
    "\n",
    "Para corrigir o erro acima, basta remover o espaço no início da linha onde está variável idade e re-executar a célula.\n",
    "\n",
    "Veja que o interpretador Python executa cada célula, linha por linha, e verifica se existe algum erro."
   ]
  },
  {
   "cell_type": "markdown",
   "metadata": {},
   "source": [
    "## Comentários\n",
    "\n",
    "### Comentários de uma linha só\n",
    "\n",
    "Você já viu que em algumas células usamos o símbolo **#** para criar comentários. Um comentário é uma linha de texto que o Python não executará como código. Comentários existem apenas para serem lidos por humanos.\n",
    "\n",
    "Comentários tornam o seu programa mais fácil de ser lido e entendido. Quando você revisitar os códigos escritos no passado ou então compartilhar o seu código com colaboradores, eles podem ler os comentários e facilmente compreender o que o código faz.\n",
    "\n",
    "Na primeira linha da célula abaixo crie um comentário que explica pra que serve a variável ```misterio```. \n",
    "\n",
    "> Observação: Evite o uso de acentos e ç em nomes de variáveis."
   ]
  },
  {
   "cell_type": "code",
   "execution_count": 2,
   "metadata": {
    "collapsed": true
   },
   "outputs": [],
   "source": [
    "\n",
    "misterio = 3.1416"
   ]
  },
  {
   "cell_type": "markdown",
   "metadata": {},
   "source": [
    "> Observação: Note o uso do ponto como separador de casas decimais. Em Python **não usamos a vírgula, e sim o ponto**.\n",
    "\n",
    "### Comentários de múltiplas linhas\n",
    "\n",
    "O símbolo **#** irá comentar apenas uma única linha de texto. Mesmo podendo criar um comentário com múltiplas linhas, iniciando cada linha com **#**, como foi feito anteriormente, existe uma maneira mais elegante. Para criar comentários grandes, com várias linhas de texto, você pode demarcar todo o bloco de texto do comentário por três aspas duplas (```\"\"\"```) no início e três aspas duplas no final (```\"\"\"```):"
   ]
  },
  {
   "cell_type": "code",
   "execution_count": null,
   "metadata": {
    "collapsed": true
   },
   "outputs": [],
   "source": [
    "\"\"\" Esse é um comentário com\n",
    "várias \n",
    "linhas.\n",
    "Não preciso iniciá-las com #\n",
    "\"\"\""
   ]
  },
  {
   "cell_type": "markdown",
   "metadata": {},
   "source": [
    "## Operações Matemáticas\n",
    "\n",
    "Python também permite operações matemáticas. Você pode somar, subtrair, multiplicar e dividir números da seguinte maneira:"
   ]
  },
  {
   "cell_type": "code",
   "execution_count": 4,
   "metadata": {
    "collapsed": true
   },
   "outputs": [],
   "source": [
    "soma = 42 + 27\n",
    "subtracao = 103 - 254\n",
    "multiplicacao = 100 * 0.5\n",
    "divisao = 100 / 9"
   ]
  },
  {
   "cell_type": "markdown",
   "metadata": {},
   "source": [
    "Na célula abaixo, crie uma variável ```horas``` que armazena o número total de horas no mês de janeiro."
   ]
  },
  {
   "cell_type": "code",
   "execution_count": 5,
   "metadata": {},
   "outputs": [
    {
     "ename": "SyntaxError",
     "evalue": "invalid syntax (<ipython-input-5-7a99a3c0f823>, line 1)",
     "output_type": "error",
     "traceback": [
      "\u001b[0;36m  File \u001b[0;32m\"<ipython-input-5-7a99a3c0f823>\"\u001b[0;36m, line \u001b[0;32m1\u001b[0m\n\u001b[0;31m    horas =\u001b[0m\n\u001b[0m            ^\u001b[0m\n\u001b[0;31mSyntaxError\u001b[0m\u001b[0;31m:\u001b[0m invalid syntax\n"
     ]
    }
   ],
   "source": [
    "horas = \n",
    "print(horas)"
   ]
  },
  {
   "cell_type": "markdown",
   "metadata": {},
   "source": [
    "### Exponenciação\n",
    "\n",
    "Além das operações simples, também podemos elevar um número a outro em Python. Por exemplo, para calcular $3^2$, fazemos:"
   ]
  },
  {
   "cell_type": "code",
   "execution_count": 6,
   "metadata": {},
   "outputs": [
    {
     "name": "stdout",
     "output_type": "stream",
     "text": [
      "9\n"
     ]
    }
   ],
   "source": [
    "nove = 3 ** 2\n",
    "print(nove)"
   ]
  },
  {
   "cell_type": "markdown",
   "metadata": {},
   "source": [
    "Na célula acima, criamos uma variável chamada nove e atribuímos ```3 ** 2```. Note o uso do operador ```**``` para denotar exponenciação.  \n",
    "\n",
    "Na célula abaixo, crie uma variável oito e armazene o valor $2^3$."
   ]
  },
  {
   "cell_type": "code",
   "execution_count": 7,
   "metadata": {},
   "outputs": [
    {
     "ename": "SyntaxError",
     "evalue": "invalid syntax (<ipython-input-7-2d37d570ec12>, line 1)",
     "output_type": "error",
     "traceback": [
      "\u001b[0;36m  File \u001b[0;32m\"<ipython-input-7-2d37d570ec12>\"\u001b[0;36m, line \u001b[0;32m1\u001b[0m\n\u001b[0;31m    oito =\u001b[0m\n\u001b[0m           ^\u001b[0m\n\u001b[0;31mSyntaxError\u001b[0m\u001b[0;31m:\u001b[0m invalid syntax\n"
     ]
    }
   ],
   "source": [
    "oito = \n",
    "print(oito)"
   ]
  },
  {
   "cell_type": "markdown",
   "metadata": {},
   "source": [
    "## Operadores Divisao Inteira e Modulo\n",
    "\n",
    "Sempre que quisermos a parte inteira da divisão entre dois números, usamos o operador ```//```. E sempre que quisermos o resto da divisão inteira, usamos o operador modulo: ```%```.\n",
    "\n",
    "Por exemplo, a célula abaixo não faz a divisão inteira."
   ]
  },
  {
   "cell_type": "code",
   "execution_count": 10,
   "metadata": {},
   "outputs": [
    {
     "name": "stdout",
     "output_type": "stream",
     "text": [
      "2.5\n"
     ]
    }
   ],
   "source": [
    "divisao = 5 / 2\n",
    "print(divisao)"
   ]
  },
  {
   "cell_type": "markdown",
   "metadata": {},
   "source": [
    "Para calcular a divisão inteira e o resto, fazemos:"
   ]
  },
  {
   "cell_type": "code",
   "execution_count": 11,
   "metadata": {},
   "outputs": [
    {
     "name": "stdout",
     "output_type": "stream",
     "text": [
      "2\n",
      "1\n"
     ]
    }
   ],
   "source": [
    "divisao = 5 // 2\n",
    "resto = 5 % 2\n",
    "print(divisao)\n",
    "print(resto)"
   ]
  },
  {
   "cell_type": "markdown",
   "metadata": {},
   "source": [
    "Pratique o uso desses operadores, mostrando na célula abaixo o total de dias existentes em 80 horas e quantas horas sobram."
   ]
  },
  {
   "cell_type": "code",
   "execution_count": null,
   "metadata": {
    "collapsed": true
   },
   "outputs": [],
   "source": [
    "dias = \n",
    "horas = \n",
    "print(dias)\n",
    "print(horas)"
   ]
  },
  {
   "cell_type": "markdown",
   "metadata": {},
   "source": [
    "## Precedência de operadores\n",
    "\n",
    "Quando múltiplos operadores aparecerem em uma mesma expressão, devemos resolvê-los de acordo com a prioridade mostrada na figura abaixo:\n",
    "\n",
    "![Precedência de operadores aritméticos](images/operadores_aritmeticos_precedencia.png)\n",
    "\n",
    "## Revisão\n",
    "Muito bem, até agora aprendemos sobre:\n",
    "\n",
    "* **Variáveis**, que armazenam valores para serem utilizados posteriormente\n",
    "* **Tipos de dados**, tais como números e booleandos\n",
    "* **Espaços**, usados para delimitar blocos em Python e precisam ser respeitados\n",
    "* **Comentários**, usados para deixar o código mais legível\n",
    "* **Operações aritméticas**, incluindo +, -, *, /, // e %\n",
    "\n",
    "### Exercícios\n",
    "Na célula de código abaixo, faça o seguinte:\n",
    "\n",
    "1. Escreva um comentário na primeira linha (pode ser qualquer coisa)\n",
    "2. Crie uma variável ```feliz``` com o valor ```True```\n",
    "3. Crie uma outra variável ```lado``` com o valor 2.5\n",
    "4. Crie uma variável ```area``` com valor de ```lado``` ao quadrado\n",
    "\n",
    "Ao final execute a sua célula e a célula abaixo. Se nenhuma mensagem de erro aparecer, você concluiu essa atividade com sucesso!"
   ]
  },
  {
   "cell_type": "code",
   "execution_count": null,
   "metadata": {
    "collapsed": true
   },
   "outputs": [],
   "source": []
  },
  {
   "cell_type": "markdown",
   "metadata": {},
   "source": [
    "Ao terminar, você já pode ir para o próximo notebook: [Strings e saída de dados](03-strings.ipynb)."
   ]
  }
 ],
 "metadata": {
  "kernelspec": {
   "display_name": "Python 3",
   "language": "python",
   "name": "python3"
  },
  "language_info": {
   "codemirror_mode": {
    "name": "ipython",
    "version": 3
   },
   "file_extension": ".py",
   "mimetype": "text/x-python",
   "name": "python",
   "nbconvert_exporter": "python",
   "pygments_lexer": "ipython3",
   "version": "3.5.2"
  }
 },
 "nbformat": 4,
 "nbformat_minor": 2
}
