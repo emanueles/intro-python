{
 "cells": [
  {
   "cell_type": "markdown",
   "metadata": {},
   "source": [
    "# Exercícios de Revisão\n",
    "\n",
    "> Antes de iniciar qualquer notebook, é importante que você limpe as saídas de todas as células para que você só veja o resultado de uma célula quando executá-la. Para isso, utilize o menu **Cell > All Output > Clear **.\n",
    "\n",
    "## Requisitos\n",
    "\n",
    "Certifique-se de que você concluiu os seguintes notebooks:\n",
    "* [Introdução ao Python](01-intro.ipynb)\n",
    "* [Introdução à sintaxe de Python](02-sintaxe.ipynb)\n",
    "* [Strings, saída e entrada de dados e a biblioteca math](03-strings.ipynb)\n",
    "* [Exercícios sobre Estrutura Sequencial](04-exercicios.ipynb)\n",
    "* [Estrutura condicional](05-condicoes-fluxo-controle.ipynb)\n",
    "* [O comando while](07-while.ipynb)\n",
    "* [Exercícios sobre o comando while](08-while-exercicios.ipynb)\n",
    "* [O comando for](09-for.ipynb)\n",
    "* [Exercícios sobre o comando for](11-for-exercicios-parte2.ipynb)\n",
    "* [Exercícios sobre strings](12-exercicios-strings.ipynb)\n",
    "* [Exercícios de revisão](13-exercicios-revisao.ipynb)\n",
    "* [Listas em Python](14-vetores-listas.ipynb)\n",
    "* [Exercícios sobre Vetores (Listas)](15-listas-exercicios-parte1.ipynb)\n",
    "* [Exercícios sobre Listas (parte 2)](16-listas-exercicios-parte2.ipynb)\n",
    "* [Matrizes em Python](17-matrizes.ipynb)\n",
    "* [Exercícios sobre Matrizes)](18-matrizes-exercicios.ipynb)\n",
    "* [Funções](19-funcoes.ipynb)\n",
    "* [Exercícios sobre Funções](20-funcoes-exercicios.ipynb)\n",
    "* [Começando a sua biblioteca de funções](21-funcoes-bibliotecas.ipynb)\n",
    "* [Exercícios sobre Funções (parte 2)](22-funcoes-bibliotecas-exercicios.ipynb)\n",
    "* [Dicionários em Python](23-dicionarios.ipynb)\n",
    "* [Exercícios sobre dicionários](24-dicionarios-exercicios.ipynb)\n",
    "* [Arquivos em Python](25-arquivos.ipynb)\n",
    "* [Exercícios sobre arquivos](26-arquivos-exercicios.ipynb)\n",
    "\n",
    "## Exercícios\n",
    "\n",
    "Abaixo estão os exercícios de programação da lista 2."
   ]
  },
  {
   "cell_type": "markdown",
   "metadata": {},
   "source": [
    "### Questão 01\n",
    "\n",
    "Na célula abaixo, escreva uma função recursiva `potencia(base, exp)` que quando chamada, retorna `base` elevada a `exp`. Por exemplo, potencia(2,4) = 16. Assuma que `exp` é um inteiro maior ou igual a 0. Para a recursão, observe que `base` elevada a `exp` = `base` x `base` elevada a `exp-1` e que a base da recursão é quando `exp = 0` , retornando 1. "
   ]
  },
  {
   "cell_type": "code",
   "execution_count": 1,
   "metadata": {},
   "outputs": [],
   "source": [
    "# escreva o seu código aqui"
   ]
  },
  {
   "cell_type": "markdown",
   "metadata": {},
   "source": [
    "### Questão 2\n",
    "\n",
    "Na célula abaixo, defina uma função primo(x) que recebe um número inteiro x e retorna verdadeiro se x for primo ou retorna falso caso contrário. Um número é primo quando só é divisível por 1 e por ele mesmo.\n",
    "\n",
    "Teste a sua função com os números: 2, 5 e 9."
   ]
  },
  {
   "cell_type": "code",
   "execution_count": null,
   "metadata": {},
   "outputs": [],
   "source": [
    "# escreva o seu código aqui\n"
   ]
  },
  {
   "cell_type": "markdown",
   "metadata": {},
   "source": [
    "### Questão 3\n",
    "Na célula abaixo, faça uma função que recebe, por parâmetro, a hora de inicio e a hora de término de um jogo,\n",
    "ambas subdivididas em 2 valores distintos: horas e minutos. A função deve retornar, a duração do\n",
    "jogo em minutos, considerando que o tempo máximo de duração de um jogo é de 24 horas e que\n",
    "o jogo pode começar em um dia e terminar no outro."
   ]
  },
  {
   "cell_type": "code",
   "execution_count": null,
   "metadata": {},
   "outputs": [],
   "source": [
    "# escreva o seu código aqui\n"
   ]
  },
  {
   "cell_type": "markdown",
   "metadata": {},
   "source": [
    "### Questão 4\n",
    "\n",
    "Na célula abaixo, escreva uma função merge(lista1,lista2) que vai receber duas listas de números em ordem\n",
    "crescente e vai retornar uma única lista correspondendo à fusão das duas listas (também em\n",
    "ordem crescente). Assuma que não haverá repetições nas listas. Você não pode usar a função **sort** nem **sorted**.\n",
    "\n",
    "Teste a sua função com as listas abaixo:\n",
    "\n",
    "```python\n",
    "lis1 = [1, 4, 5, 8, 9, 14]\n",
    "lis2 = [2, 3, 6, 10, 11, 15] \n",
    "```"
   ]
  },
  {
   "cell_type": "code",
   "execution_count": 1,
   "metadata": {
    "collapsed": true
   },
   "outputs": [],
   "source": [
    "# escreva o seu código aqui"
   ]
  },
  {
   "cell_type": "markdown",
   "metadata": {},
   "source": [
    "### Questão 5\n",
    "\n",
    "Na célula abaixo, escreva um programa que peça ao usuário para entrar com informações necessárias para\n",
    "realizar um pagamento com cartão de crédito e armazene-as em um dicionário. Você deve pedir pelo\n",
    "número do cartão (int), nome do titular do cartão (texto), valor da compra (float), data de validade do\n",
    "cartão (texto) e número de parcelas (int). \n",
    "\n",
    "Mostre o valor de cada parcela da seguinte maneira: se o número de parcelas for maior ou igual a 6, acrescente juros de 2% ao mês, caso contrário, as parcelas serão sem juros. \n",
    "\n",
    "Qual a saída do seu algoritmo para a seguinte entrada:\n",
    "``` \n",
    "Número do cartão: 8765098712349876\n",
    "Titular: João Silva\n",
    "Valor da compra: 600.00\n",
    "Validade do cartão: 12/2015\n",
    "Número de parcelas: 6\n",
    "``` "
   ]
  },
  {
   "cell_type": "code",
   "execution_count": 4,
   "metadata": {},
   "outputs": [],
   "source": [
    "# escreva o seu código aqui\n",
    "    "
   ]
  }
 ],
 "metadata": {
  "kernelspec": {
   "display_name": "Python 3",
   "language": "python",
   "name": "python3"
  },
  "language_info": {
   "codemirror_mode": {
    "name": "ipython",
    "version": 3
   },
   "file_extension": ".py",
   "mimetype": "text/x-python",
   "name": "python",
   "nbconvert_exporter": "python",
   "pygments_lexer": "ipython3",
   "version": "3.5.2"
  }
 },
 "nbformat": 4,
 "nbformat_minor": 2
}
