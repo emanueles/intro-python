{
 "cells": [
  {
   "cell_type": "markdown",
   "metadata": {},
   "source": [
    "## Começando a nossa biblioteca de funções\n",
    "\n",
    "Nós vamos começar a guardar as funções que formos criando em uma biblioteca para poder usar em outros notebooks sem precisar redefinir as funções criadas novamente.\n",
    "\n",
    "Para isso precisamos aprender como usar bibliotecas em Python. Complete o notebook [Importando bibliotecas em Python](08-import.ipynb).\n",
    "\n",
    "Vamos criar uma biblioteca de funções para lidar com matrizes. \n",
    "\n",
    "Copie a função que você criou na [questão 3](09-exercicios-funcoes.ipynb) do exercício da aula passada. A função cria uma matriz identidade. Copie apenas a definição da função (apenas a linha do def e tudo o que estiver dentro da função).\n",
    "\n",
    "No seu computador abra um editor de texto (recomendo utilizar o Sublime, mas pode ser qualquer um) e copie e cole a definição da sua função `identidade`, feita na célula acima.\n",
    "\n",
    "Salve na sua área de trabalho o seu arquivo com o nome `matriz.py`. Não se esqueça de colocar a extensão `.py` no nome do arquivo.\n",
    "\n",
    "Depois é só enviar o arquivo para o Azure da mesma forma que você importou um arquivo de notebook. Ele estará disponível para ser usado por qualquer notebook dentro da sua biblioteca."
   ]
  },
  {
   "cell_type": "markdown",
   "metadata": {},
   "source": [
    "##  Importando a função da biblioteca\n",
    "\n",
    "Antes de prosseguir, você deve reiniciar o kernel para que o interpretados veja o arquivo matriz.py. \n",
    "\n",
    "Supondo que o nome da função que você criou seja identidade, você pode chamar a função da seguinte maneira:\n",
    "\n",
    "```python\n",
    "from matriz import identidade\n",
    "I = identidade(3)\n",
    "for linha in I:\n",
    "    print(linha)\n",
    "```\n",
    "\n",
    "Na célula abaixo, importe a sua função e mostre uma matriz identidade de ordem 10."
   ]
  },
  {
   "cell_type": "code",
   "execution_count": null,
   "metadata": {
    "collapsed": true
   },
   "outputs": [],
   "source": [
    "# Escreva o seu código aqui"
   ]
  },
  {
   "cell_type": "markdown",
   "metadata": {
    "collapsed": true
   },
   "source": [
    "Pronto. Agora é só adicionar mais funções ao arquivo e enviar para a sua biblioteca (você precisa remover o arquivo matriz.py anterior da biblioteca antes de enviá-lo novamente). Outra opção é editar o arquivo matriz.py diretamente no browser (na tela da biblioteca, selecione o arquivo matriz.py e clique em `Edit File` na barra de ferramentas. Apenas tome cuidado com os espaços e tabs. Use apenas um tipo. Se misturar o python reclama.\n",
    "\n",
    "Como exercício, adicione a função `traco` da aula passada ao arquivo matriz.py, faça o upload para a sua biblioteca (ou edite o arquivo diretamente) e reinicie o kernel.\n",
    "\n",
    "Na célula abaixo para calcular o traço da matriz M abaixo:"
   ]
  },
  {
   "cell_type": "code",
   "execution_count": null,
   "metadata": {
    "collapsed": true
   },
   "outputs": [],
   "source": [
    "# importe a sua função aqui\n",
    "\n",
    "\n",
    "M = [[1, 2, 3],\n",
    "     [4, 5, 6],\n",
    "     [7, 8, 9]]\n",
    "\n",
    "# Chame a função aqui para calcular o traço da matriz M\n"
   ]
  },
  {
   "cell_type": "markdown",
   "metadata": {},
   "source": [
    "Ao terminar, você já pode ir para o próximo notebook: [Exercícios sobre Funções (parte 2)](22-funcoes-bibliotecas-exercicios)."
   ]
  }
 ],
 "metadata": {
  "kernelspec": {
   "display_name": "Python 3",
   "language": "python",
   "name": "python3"
  },
  "language_info": {
   "codemirror_mode": {
    "name": "ipython",
    "version": 3
   },
   "file_extension": ".py",
   "mimetype": "text/x-python",
   "name": "python",
   "nbconvert_exporter": "python",
   "pygments_lexer": "ipython3",
   "version": "3.5.2"
  }
 },
 "nbformat": 4,
 "nbformat_minor": 2
}
