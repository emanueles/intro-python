{
 "cells": [
  {
   "cell_type": "markdown",
   "metadata": {},
   "source": [
    "# Exercícios sobre Estrutura Sequencial\n",
    "\n",
    "> Antes de iniciar qualquer notebook, é importante que você limpe as saídas de todas as células para que você só veja o resultado de uma célula quando executá-la. Para isso, utilize o menu **Cell > All Output > Clear **.\n",
    "\n",
    "## Requisitos\n",
    "\n",
    "Certifique-se de que você concluiu os seguintes notebooks:\n",
    "* [Introdução ao Python](01-intro.ipynb)\n",
    "* [Introdução à sintaxe de Python](02-sintaxe.ipynb)\n",
    "* [Strings, saída e entrada de dados e a biblioteca math](03-strings.ipynb)\n",
    "\n",
    "## Exercícios\n",
    "\n",
    "### Questão 1\n",
    "\n",
    "Suponha que você deseja preencher a seguinte ficha de inscrição de um estudante:\n",
    "\n",
    "```\n",
    "nome:\n",
    "matrícula:\n",
    "curso:\n",
    "idade:\n",
    "e-mail:\n",
    "```\n",
    "Na célula abaixo, escreva um programa que pede os dados do usuário e ao final mostra a ficha preenchida.\n"
   ]
  },
  {
   "cell_type": "code",
   "execution_count": null,
   "metadata": {
    "collapsed": true
   },
   "outputs": [],
   "source": [
    "# Escreva o seu código aqui"
   ]
  },
  {
   "cell_type": "markdown",
   "metadata": {},
   "source": [
    "### Questão 2\n",
    "\n",
    "Na célula abaixo, escreva um programa que receba três notas, calcule e mostre a média aritmética."
   ]
  },
  {
   "cell_type": "code",
   "execution_count": null,
   "metadata": {
    "collapsed": true
   },
   "outputs": [],
   "source": [
    "# Escreva o seu código aqui"
   ]
  },
  {
   "cell_type": "markdown",
   "metadata": {},
   "source": [
    "### Questão 3\n",
    "Na célula abaixo, escreva um programa que receba duas notas e seus respectivos pesos e calcule a média ponderada."
   ]
  },
  {
   "cell_type": "code",
   "execution_count": null,
   "metadata": {
    "collapsed": true
   },
   "outputs": [],
   "source": [
    "# Escreva o seu código aqui"
   ]
  },
  {
   "cell_type": "markdown",
   "metadata": {},
   "source": [
    "### Questão 4\n",
    "Na céĺula abaixo, escreva um programa que calcule e mostre a área de um círculo. Sabe-se que área = $\\pi*r²$.\n",
    "\n",
    "> Não se esqueça de importar **pi** da biblioteca **math**."
   ]
  },
  {
   "cell_type": "code",
   "execution_count": null,
   "metadata": {
    "collapsed": true
   },
   "outputs": [],
   "source": [
    "# Escreva o seu código aqui"
   ]
  },
  {
   "cell_type": "markdown",
   "metadata": {},
   "source": [
    "### Questão 5\n",
    "Na célula abaixo, escreva um programa que receba um número positivo maior que zero, calcule e mostre:\n",
    "* a) o número digitado ao quadrado\n",
    "* b) o número digitado ao cubo\n",
    "* c) a raiz quadrada do número digitado\n",
    "* d) a raiz cúbica do número digitado"
   ]
  },
  {
   "cell_type": "code",
   "execution_count": null,
   "metadata": {
    "collapsed": true
   },
   "outputs": [],
   "source": [
    "# Escreva o seu código aqui"
   ]
  },
  {
   "cell_type": "markdown",
   "metadata": {},
   "source": [
    "### Questão 6\n",
    "Na célula abaixo, escreva um programa que pede os seguintes dados:\n",
    "* Valor do salário de um funcionário\n",
    "* Aumento em porcentagem\n",
    "Depois mostre o valor do aumento e o salário com aumento, ambos arredondados para duas casas decimais. Veja um  exemplo de execução desse programa abaixo:\n",
    "```\n",
    "Digite o salário: 1000.45\n",
    "Digite o aumento em porcentagem: 15\n",
    "O aumento será: R$150.07\n",
    "E o salário será: R$1150.52\n",
    "```\n"
   ]
  },
  {
   "cell_type": "code",
   "execution_count": null,
   "metadata": {
    "collapsed": true
   },
   "outputs": [],
   "source": [
    "# Escreva o seu código aqui"
   ]
  },
  {
   "cell_type": "markdown",
   "metadata": {},
   "source": [
    "### Questão 7\n",
    "Na célula abaixo, escreva um programa que pede uma temperatura em graus Fahrenheit,converta e mostre a temperatura em Celsius, arredondada para uma casa decimal."
   ]
  },
  {
   "cell_type": "code",
   "execution_count": null,
   "metadata": {
    "collapsed": true
   },
   "outputs": [],
   "source": [
    "# Escreva o seu código aqui"
   ]
  },
  {
   "cell_type": "markdown",
   "metadata": {},
   "source": [
    "Ao terminar, você já pode ir para o próximo notebook: [Estrutura Condicional](05-condicoes-fluxo-controle.ipynb)."
   ]
  }
 ],
 "metadata": {
  "kernelspec": {
   "display_name": "Python 3",
   "language": "python",
   "name": "python3"
  },
  "language_info": {
   "codemirror_mode": {
    "name": "ipython",
    "version": 3
   },
   "file_extension": ".py",
   "mimetype": "text/x-python",
   "name": "python",
   "nbconvert_exporter": "python",
   "pygments_lexer": "ipython3",
   "version": "3.5.2"
  }
 },
 "nbformat": 4,
 "nbformat_minor": 2
}
