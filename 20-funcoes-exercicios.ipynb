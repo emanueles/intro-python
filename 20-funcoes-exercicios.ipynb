{
 "cells": [
  {
   "cell_type": "markdown",
   "metadata": {},
   "source": [
    "# Exercícios sobre Funções\n",
    "\n",
    "> Antes de iniciar qualquer notebook, é importante que você limpe as saídas de todas as células para que você só veja o resultado de uma célula quando executá-la. Para isso, utilize o menu **Cell > All Output > Clear **.\n",
    "\n",
    "## Requisitos\n",
    "\n",
    "Certifique-se de que você concluiu os seguintes notebooks:\n",
    "* [Introdução à sintaxe de Python](02-sintaxe.ipynb)\n",
    "* [Strings, saída e entrada de dados e a biblioteca math](03-strings.ipynb)\n",
    "* [Exercícios sobre Estrutura Sequencial](04-exercicios.ipynb)\n",
    "* [Estrutura condicional](05-condicoes-fluxo-controle.ipynb)\n",
    "* [O comando while](07-while.ipynb)\n",
    "* [Exercícios sobre o comando while](08-while-exercicios.ipynb)\n",
    "* [O comando for](09-for.ipynb)\n",
    "* [Exercícios sobre o comando for](11-for-exercicios-parte2.ipynb)\n",
    "* [Exercícios sobre strings](12-exercicios-strings.ipynb)\n",
    "* [Exercícios de revisão](13-exercicios-revisao.ipynb)\n",
    "* [Listas em Python](14-vetores-listas.ipynb)\n",
    "* [Exercícios sobre Vetores (Listas)](15-listas-exercicios-parte1.ipynb)\n",
    "* [Exercícios sobre Listas (parte 2)](16-listas-exercicios-parte2.ipynb)\n",
    "* [Matrizes em Python](17-matrizes.ipynb)\n",
    "* [Exercícios sobre Matrizes)](18-matrizes-exercicios.ipynb)\n",
    "* [Funções](19-funcoes.ipynb)\n",
    "\n",
    "## Exercícios"
   ]
  },
  {
   "cell_type": "markdown",
   "metadata": {},
   "source": [
    "### Questão 1\n",
    "\n",
    "Na célula abaixo, crie uma função chamada `complemento` que recebe um parâmetro representando um nucleotídeo (A, C, T ou G) e retorne o complemento dele. A sua função deve aceitar maiúsculas ou minúsculas, sem fazer diferenciação e retornar apenas maiúsculas. Se o usuário entrar com uma letra inválida, retorne `None`. \n",
    "\n",
    "> **Observação:** None é um tipo em Python que representa o vazio ou nulo. Ele é usado para indicar variáveis que não tem valor atribuído ou para funções que não retornam valor.\n",
    "\n",
    "```python\n",
    "resultado = None\n",
    "```\n"
   ]
  },
  {
   "cell_type": "code",
   "execution_count": 1,
   "metadata": {
    "collapsed": true
   },
   "outputs": [],
   "source": [
    "# Escreva o seu código aqui\n",
    "\n",
    "\n",
    "# Testando a sua função\n",
    "print(complemento('A'))\n",
    "print(complemento('T'))\n",
    "print(complemento('C'))\n",
    "print(complemento('G'))\n",
    "if complemento('B') == None:\n",
    "    print('B não é um nucleotídeo.')\n",
    "else:\n",
    "    print('B não é um nucleotídeo, portanto o resultado deveria ser None.')"
   ]
  },
  {
   "cell_type": "markdown",
   "metadata": {},
   "source": [
    "### Questão 2\n",
    "\n",
    "Na célula abaixo, escreva uma função chamada `fatorial` que recebe como parâmetro um número inteiro positivo n e retorna o seu fatorial. Depois chame a sua função para calcular o fatorial de 8."
   ]
  },
  {
   "cell_type": "code",
   "execution_count": null,
   "metadata": {
    "collapsed": true
   },
   "outputs": [],
   "source": [
    "# Escreva o seu código aqui"
   ]
  },
  {
   "cell_type": "markdown",
   "metadata": {},
   "source": [
    "### Questão 3\n",
    "\n",
    "Na célula abaixo, escreva uma função chamada identidade que retorna uma matriz identidade de ordem n, onde n é passado como parâmetro. Veja o exercício da aula passada para aproveitar parte do código. Veja um exemplo de uma matriz identidade de ordem 3:\n",
    "\n",
    "$I = \\left[\\begin{array}{ccc}\n",
    "1 & 0 & 0\\\\\n",
    "0 & 1 & 0\\\\\n",
    "0 & 0 & 1\\\\\n",
    "\\end{array}\\right]$\n",
    "\n",
    "Depois chame a sua função para criar uma matriz identidade de ordem 10 e a mostre na tela em forma de matriz."
   ]
  },
  {
   "cell_type": "code",
   "execution_count": null,
   "metadata": {
    "collapsed": true
   },
   "outputs": [],
   "source": [
    "# Escreva o seu código aqui"
   ]
  },
  {
   "cell_type": "markdown",
   "metadata": {},
   "source": [
    "### Questão 4\n",
    "\n",
    "Na célula abaixo, crie uma função chamada `complementos` que vai receber uma string de nucleotídeos como parâmetro, vai invertê-la e depois retornar uma string de complementos. A sua função `complementos` deve chamar a sua outra função `complemento` definida na Questão 1. Note que você não precisa defini-la novamente. Ao executar a célula de código após a Questão 1, a função `complemento` fica disponível para ser chamada em qualquer célula desse notebook. \n",
    "\n",
    "Teste a sua função com a string `'ACTGCGA'`."
   ]
  },
  {
   "cell_type": "code",
   "execution_count": null,
   "metadata": {
    "collapsed": true
   },
   "outputs": [],
   "source": [
    "# Escreva o seu código aqui"
   ]
  },
  {
   "cell_type": "markdown",
   "metadata": {},
   "source": [
    "### Questão 5\n",
    "\n",
    "Na célula abaixo, defina uma função chamada `primo` que vai receber como parâmetro um número inteiro positivo e a função retorna `True` se o número passado for primo ou `False`, caso contrário. \n",
    "\n",
    "Teste a sua função com o vetor de números abaixo e mostre na tela apenas os números primos."
   ]
  },
  {
   "cell_type": "code",
   "execution_count": null,
   "metadata": {
    "collapsed": true
   },
   "outputs": [],
   "source": [
    "# Defina a sua função aqui\n",
    "\n",
    "\n",
    "# Percorra o vetor v abaixo e use a sua função para mostrar apenas os números primos na tela.\n",
    "\n",
    "v = [5, 4, 8, 7, 3, 2, 9, 11, 12]\n",
    "\n",
    "# Escreva o seu código aqui."
   ]
  },
  {
   "cell_type": "markdown",
   "metadata": {},
   "source": [
    "### Questão 6\n",
    "Na célula abaixo, escreva uma função chamada `traco` que recebe uma matriz quadrada `Q` como parâmetro e retorna o traço dessa matriz. O traço de uma matriz é a soma dos elementos da diagonal principal.\n",
    "\n",
    "Teste a sua função com a matriz abaixo:\n"
   ]
  },
  {
   "cell_type": "code",
   "execution_count": null,
   "metadata": {
    "collapsed": true
   },
   "outputs": [],
   "source": [
    "# Defina a sua função aqui\n",
    "\n",
    "\n",
    "# testando a sua função:\n",
    "M = [[5, 4, 2, -8],\n",
    "     [1, 10, 5, 7],\n",
    "     [9, -4, 2, 6],\n",
    "     [2, 7, 6, 8]]\n",
    "\n",
    "print(traco(M))\n"
   ]
  },
  {
   "cell_type": "markdown",
   "metadata": {},
   "source": [
    "### Questão 7\n",
    "Na célula abaixo, escreva uma função chamada `iniciais` que recebe um nome completo como parâmetro e retorna uma string com as iniciais do nome. Não suponha que somente as letras iniciais serão digitadas em maiúsculas.\n",
    "\n",
    "Alguns exemplos:\n",
    "\n",
    "```python\n",
    "print(iniciais('Harry Potter'))\n",
    "HP\n",
    "print(iniciais('hermione granger'))\n",
    "HG\n",
    "print(iniciais('SIRIUS BLACK'))\n",
    "SB\n",
    "print(iniciais('João da Silva'))\n",
    "JDS\n",
    "```"
   ]
  },
  {
   "cell_type": "code",
   "execution_count": null,
   "metadata": {
    "collapsed": true
   },
   "outputs": [],
   "source": []
  }
 ],
 "metadata": {
  "kernelspec": {
   "display_name": "Python 3",
   "language": "python",
   "name": "python3"
  },
  "language_info": {
   "codemirror_mode": {
    "name": "ipython",
    "version": 3
   },
   "file_extension": ".py",
   "mimetype": "text/x-python",
   "name": "python",
   "nbconvert_exporter": "python",
   "pygments_lexer": "ipython3",
   "version": "3.5.2"
  }
 },
 "nbformat": 4,
 "nbformat_minor": 2
}
