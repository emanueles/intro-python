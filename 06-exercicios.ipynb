{
 "cells": [
  {
   "cell_type": "markdown",
   "metadata": {},
   "source": [
    "# Exercícios sobre Estrutura Condicional\n",
    "\n",
    "> Antes de iniciar qualquer notebook, é importante que você limpe as saídas de todas as células para que você só veja o resultado de uma célula quando executá-la. Para isso, utilize o menu **Cell > All Output > Clear **.\n",
    "\n",
    "## Requisitos\n",
    "\n",
    "Certifique-se de que você concluiu os seguintes notebooks:\n",
    "* [Introdução ao Python](01-intro.ipynb)\n",
    "* [Introdução à sintaxe de Python](02-sintaxe.ipynb)\n",
    "* [Strings, saída e entrada de dados e a biblioteca math](03-strings.ipynb)\n",
    "* [Exercícios sobre Estrutura Sequencial](04-exercicios.ipynb)\n",
    "* [Estrutura condicional](05-condicoes-fluxo-controle.ipynb)\n",
    "\n",
    "## Exercícios\n",
    "\n",
    "### Questão 1\n",
    "\n",
    "Faça um programa que receba dois números e mostre o maior deles.\n"
   ]
  },
  {
   "cell_type": "code",
   "execution_count": null,
   "metadata": {
    "collapsed": true
   },
   "outputs": [],
   "source": [
    "# Escreva o seu código aqui"
   ]
  },
  {
   "cell_type": "markdown",
   "metadata": {},
   "source": [
    "### Questão 2\n",
    "\n",
    "Modifique o programa da célula abaixo, de modo que se a média for maior ou igual a 4 e menor que 7, diga que o aluno está de AF e peça a nota da AF, calcule a nova média e mostre o resultado do aluno (aprovado, para média maior ou igual a 5, ou reprovado caso contrário)."
   ]
  },
  {
   "cell_type": "code",
   "execution_count": null,
   "metadata": {
    "collapsed": true
   },
   "outputs": [],
   "source": [
    "n1 = float(input(\"Entre com a nota 1: \"))\n",
    "n2 = float(input(\"Entre com a nota 2: \"))\n",
    "media = (n1+n2)/2\n",
    "print(\"A média é: \", media)\n",
    "if media >= 7:\n",
    "    print(\"Aprovado\")\n",
    "else:\n",
    "    print(\"Reprovado\")"
   ]
  },
  {
   "cell_type": "markdown",
   "metadata": {},
   "source": [
    "### Questão 3\n",
    "\n",
    "Faça um programa que receba as três notas, calcule e mostre a média ponderada e o conceito que segue a tabela:\n",
    "\n",
    "|           Nota          | Peso |\n",
    "|:-----------------------:|:----:|\n",
    "| Trabalho de laboratório |   2  |\n",
    "|   Avaliação semestral   |   3  |\n",
    "|       Exame Final       |   5  |\n",
    "\n",
    "A nota final de um estudante é calculada a partir de três notas atribuídas e os respectivos pesos conforme a tabela abaixo:\n",
    "\n",
    "|      Média Ponderada    | Conceito |\n",
    "|-------------------------|:--------:|\n",
    "|$8.0\\bullet-\\bullet10.0$ |     A    |\n",
    "|$7.0\\bullet-\\circ8.0$    |     B    |\n",
    "|$6.0\\bullet-\\circ7.0$    |     C    |\n",
    "|$5.0\\bullet-\\circ6.0$    |     D    |\n",
    "|$0.0\\bullet-\\circ5.0$    |     E    |\n"
   ]
  },
  {
   "cell_type": "code",
   "execution_count": 2,
   "metadata": {
    "collapsed": true
   },
   "outputs": [],
   "source": [
    "# Escreva o seu código aqui"
   ]
  },
  {
   "cell_type": "markdown",
   "metadata": {},
   "source": [
    "### Questão 4\n",
    "Na céĺula abaixo, faça um programa que receba três números e mostre-os em ordem crescente. Suponha que o usuário irá digitar três números diferentes."
   ]
  },
  {
   "cell_type": "code",
   "execution_count": null,
   "metadata": {
    "collapsed": true
   },
   "outputs": [],
   "source": [
    "# Escreva o seu código aqui"
   ]
  },
  {
   "cell_type": "markdown",
   "metadata": {},
   "source": [
    "### Questão 5\n",
    "Na célula abaixo, peça um número inteiro para o usuário. Diga se ele é par ou ímpar."
   ]
  },
  {
   "cell_type": "code",
   "execution_count": null,
   "metadata": {
    "collapsed": true
   },
   "outputs": [],
   "source": [
    "# Escreva o seu código aqui"
   ]
  },
  {
   "cell_type": "markdown",
   "metadata": {},
   "source": [
    "### Questão 6\n",
    "Na célula abaixo, escreva um programa que pede para o usuário entrar com um ano. Diga se o ano é bissexto ou não.\n",
    "\n",
    "Por exemplo:\n",
    "```\n",
    "Digite o ano: 2016\n",
    "2016 é bissexto.\n",
    "```\n",
    "\n",
    "Outro exemplo:\n",
    "\n",
    "```\n",
    "Digite o ano: 2002\n",
    "2002 não é bissexto.\n",
    "```\n",
    "\n",
    "> **Observação: O ano bissexto ocorre a cada quatro anos (exceto anos múltiplos de 100 que não são múltiplos de 400).**"
   ]
  },
  {
   "cell_type": "code",
   "execution_count": null,
   "metadata": {
    "collapsed": true
   },
   "outputs": [],
   "source": [
    "# Escreva o seu código aqui"
   ]
  },
  {
   "cell_type": "markdown",
   "metadata": {},
   "source": [
    "### Questão 7\n",
    "Na célula abaixo, escreva um programa que pede para o usuário entrar com uma letra representando um nucleotídeo (A, C, T ou G) e mostre o complemento dele. O seu programa deve aceitar maiúsculas ou minúsculas. Se o usuário entrar com uma letra inválida, mostre uma mensagem de erro."
   ]
  },
  {
   "cell_type": "code",
   "execution_count": null,
   "metadata": {
    "collapsed": true
   },
   "outputs": [],
   "source": [
    "# Escreva o seu código aqui"
   ]
  },
  {
   "cell_type": "markdown",
   "metadata": {},
   "source": [
    "Ao terminar, você já pode ir para o próximo notebook: [Estrutura de Repetição while](07-while.ipynb)."
   ]
  }
 ],
 "metadata": {
  "kernelspec": {
   "display_name": "Python 3",
   "language": "python",
   "name": "python3"
  },
  "language_info": {
   "codemirror_mode": {
    "name": "ipython",
    "version": 3
   },
   "file_extension": ".py",
   "mimetype": "text/x-python",
   "name": "python",
   "nbconvert_exporter": "python",
   "pygments_lexer": "ipython3",
   "version": "3.5.2"
  }
 },
 "nbformat": 4,
 "nbformat_minor": 2
}
