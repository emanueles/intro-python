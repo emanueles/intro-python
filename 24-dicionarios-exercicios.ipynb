{
 "cells": [
  {
   "cell_type": "markdown",
   "metadata": {},
   "source": [
    "# Exercícios sobre Dicionários\n",
    "\n",
    "> Antes de iniciar qualquer notebook, é importante que você limpe as saídas de todas as células para que você só veja o resultado de uma célula quando executá-la. Para isso, utilize o menu **Cell > All Output > Clear **.\n",
    "\n",
    "## Requisitos\n",
    "\n",
    "Certifique-se de que você concluiu os seguintes notebooks:\n",
    "* [Introdução à sintaxe de Python](02-sintaxe.ipynb)\n",
    "* [Strings, saída e entrada de dados e a biblioteca math](03-strings.ipynb)\n",
    "* [Exercícios sobre Estrutura Sequencial](04-exercicios.ipynb)\n",
    "* [Estrutura condicional](05-condicoes-fluxo-controle.ipynb)\n",
    "* [O comando while](07-while.ipynb)\n",
    "* [Exercícios sobre o comando while](08-while-exercicios.ipynb)\n",
    "* [O comando for](09-for.ipynb)\n",
    "* [Exercícios sobre o comando for](11-for-exercicios-parte2.ipynb)\n",
    "* [Exercícios sobre strings](12-exercicios-strings.ipynb)\n",
    "* [Exercícios de revisão](13-exercicios-revisao.ipynb)\n",
    "* [Listas em Python](14-vetores-listas.ipynb)\n",
    "* [Exercícios sobre Vetores (Listas)](15-listas-exercicios-parte1.ipynb)\n",
    "* [Exercícios sobre Listas (parte 2)](16-listas-exercicios-parte2.ipynb)\n",
    "* [Matrizes em Python](17-matrizes.ipynb)\n",
    "* [Exercícios sobre Matrizes)](18-matrizes-exercicios.ipynb)\n",
    "* [Funções](19-funcoes.ipynb)\n",
    "* [Exercícios sobre Funções](20-funcoes-exercicios.ipynb)\n",
    "* [Começando a sua biblioteca de funções](21-funcoes-bibliotecas.ipynb)\n",
    "* [Exercícios sobre Funções (parte 2)](22-funcoes-bibliotecas-exercicios.ipynb)\n",
    "* [Dicionários em Python](23-dicionarios.ipynb)\n",
    "\n",
    "## Exercícios"
   ]
  },
  {
   "cell_type": "markdown",
   "metadata": {},
   "source": [
    "## Programa PyProtBank\n",
    "\n",
    "Ao final desse notebook você terá desenvolvido o programa PyProtBank. Esse programa gerencia uma base de dados de sequências de proteínas semelhante ao [Protein Data Bank](https://www.rcsb.org/). O seu programa deve permitir cadastrar sequências, consultar pelo nome da proteína, listar sequências pelo organismo, ou listar todas as sequências em ordem alfabética. Usaremos uma lista de dicionários que poderá crescer ao longo da execução do programa.\n",
    "\n",
    "O programa deverá mostrar o seguinte menu de opções:\n",
    "\n",
    "```\n",
    "******* PyProtBank *******\n",
    "*  Existem: 0 sequências *\n",
    "**************************\n",
    "1. Inserir sequência\n",
    "2. Consultar sequência por nome\n",
    "3. Listar sequências por organismo\n",
    "4. Listar todas as sequências\n",
    "5. Finalizar\n",
    "\n",
    "Digite a opção desejada: \n",
    "```\n",
    "\n",
    "Observe que à medida que as sequências são inseridas, o número de sequências mostrado no topo deve mudar. \n",
    "\n",
    "\n",
    "Nós implementaremos função por função. Vamos começar com a função de inserir sequência."
   ]
  },
  {
   "cell_type": "markdown",
   "metadata": {},
   "source": [
    "### Criando sequência\n",
    "\n",
    "Nessa parte vamos implementar uma das funções para a opção `1. Inserir sequência`. Cada sequência possui as seguintes informações: \n",
    " * Nome (string)\n",
    " * Descrição (string)\n",
    " * Organismo (string)\n",
    " * Número de átomos (inteiro)\n",
    "\n",
    "Quando o usuário escolher a opção 1, você deve pedir para o usuário entrar com as informações listadas acima. \n",
    "\n",
    "Para isso crie uma função `cria_sequencia()` que vai pedir os dados do usuário, vai criar um dicionário com as informações e vai retorná-lo. \n",
    "\n",
    "Veja um exemplo de execução:\n",
    "```\n",
    "Entre com as informações da sequência:\n",
    "Nome: 6BDY\n",
    "Descrição: Crystal Structure of the MetH Reactivation Domain bound to Sinefungin\n",
    "Organismo: Escherichia coli (strain K12)\n",
    "Número de átomos: 2632\n",
    "```"
   ]
  },
  {
   "cell_type": "code",
   "execution_count": null,
   "metadata": {},
   "outputs": [],
   "source": [
    "# Defina a sua função cria_sequencia\n",
    "\n",
    "\n"
   ]
  },
  {
   "cell_type": "code",
   "execution_count": null,
   "metadata": {},
   "outputs": [],
   "source": [
    "# Teste a sua função cria_sequencia\n",
    "\n",
    "d = cria_sequencia()\n",
    "print(d)"
   ]
  },
  {
   "cell_type": "markdown",
   "metadata": {},
   "source": [
    "### Listando todas as sequências\n",
    "\n",
    "Nessa parte vamos implementar opção `4. Listar todas as sequências`. Para isso, crie duas funções, uma chamada `lista_todas(sequencias)` e outra chamada `mostra_seq(seq)`. A função lista_todas vai possuir um laço que percorre todos os elementos de sequencias e vai chamar a função mostra_seq para cada elemento (todas as informações de sequencia devem ser mostradas aqui).\n",
    "\n",
    "Veja um exemplo de execução:\n",
    "\n",
    "``` \n",
    "Lista de sequências\n",
    "Nome: 5ODY\n",
    "  Descrição: Galectin-3C in complex with dithiogalactoside derivative\n",
    "  Organismo: Homo sapiens\n",
    "  Número de átomos: 1197\n",
    "  \n",
    "Nome: 6BDY\n",
    "  Descrição: Crystal Structure of the MetH Reactivation Domain bound to Sinefungin\n",
    "  Organismo: Escherichia coli (strain K12)\n",
    "  Número de átomos: 2632\n",
    "  \n",
    "Nome:6EN9\n",
    "  Descrição: E. coli Hydrogenase-2 (hydrogen reduced form)\n",
    "  Organismo: Escherichia coli (strain K12)\n",
    "  Número de átomos: 12814\n",
    "```\n"
   ]
  },
  {
   "cell_type": "code",
   "execution_count": 1,
   "metadata": {
    "collapsed": true
   },
   "outputs": [],
   "source": [
    "# Defina a sua função mostra_seq que recebe um dicionário com as informações de uma sequência\n",
    "\n",
    "\n",
    "# Defina a sua função lista_todas que recebe uma lista de dicionários\n",
    "\n"
   ]
  },
  {
   "cell_type": "code",
   "execution_count": null,
   "metadata": {},
   "outputs": [],
   "source": [
    "# Teste as suas funções\n",
    "\n",
    "sequencias = []\n",
    "sequencias.append(cria_sequencia())\n",
    "lista_todas(sequencias)"
   ]
  },
  {
   "cell_type": "markdown",
   "metadata": {},
   "source": [
    "### Listando sequências por organismo\n",
    "\n",
    "Agora vamos implementar a função para opção `3. Listar sequências por organismo`. Crie uma função `lista_por_organismo(sequencias, organismo)` que vai mostrar as sequências que são encontradas no organismo especificado. Você vai pedir o organismo desejado no programa principal, quando implementarmos o menu.\n",
    "\n",
    "\n",
    "Exemplo de saída:\n",
    "\n",
    "```\n",
    "Lista de sequências por organismo\n",
    "Entre com o organismo desejado: Escherichia coli (strain K12)\n",
    "\n",
    "Mostrando sequências do organismo Escherichia coli (strain K12)\n",
    "\n",
    "Nome: 6BDY\n",
    "  Descrição: Crystal Structure of the MetH Reactivation Domain bound to Sinefungin\n",
    "  Organismo: Escherichia coli (strain K12)\n",
    "  Número de átomos: 2632\n",
    "\n",
    "Nome:6EN9\n",
    "  Descrição: E. coli Hydrogenase-2 (hydrogen reduced form)\n",
    "  Organismo: Escherichia coli (strain K12)\n",
    "  Número de átomos: 12814\n",
    "  \n",
    "```"
   ]
  },
  {
   "cell_type": "code",
   "execution_count": null,
   "metadata": {
    "collapsed": true
   },
   "outputs": [],
   "source": [
    "# Defina a sua função lista_por_organismo que recebe a lista de dicionários e o organismo \n",
    "# e só vai mostrar as sequências cujo organismo é o pedido\n",
    "# Você vai chamar a função mostra_seq dentro dela\n",
    "\n"
   ]
  },
  {
   "cell_type": "code",
   "execution_count": null,
   "metadata": {},
   "outputs": [],
   "source": [
    "# Teste as suas funções\n",
    "\n",
    "# adicione sequências à lista sequencias (a sequência da execução anterior já está na lista)\n",
    "\n",
    "# peça para o usuário digitar o organismo\n",
    "\n",
    "lista_por_organismo(sequencias, organismo)\n"
   ]
  },
  {
   "cell_type": "markdown",
   "metadata": {},
   "source": [
    "### Consultando sequência pelo nome\n",
    "\n",
    "Agora vamos implementar a função que vai ser utilizada na opção `2. Consultar sequência por nome`. Crie uma função `busca_nome(sequencias, nome)` que vai receber a lista de sequências e um nome e vai retornar o dicionário encontrado ou `None` caso contrário. \n",
    "\n"
   ]
  },
  {
   "cell_type": "code",
   "execution_count": null,
   "metadata": {},
   "outputs": [],
   "source": [
    "# Defina a sua função aqui\n",
    "\n"
   ]
  },
  {
   "cell_type": "code",
   "execution_count": null,
   "metadata": {},
   "outputs": [],
   "source": [
    "# Teste a sua função aqui\n",
    "# peça o nome da sequência\n",
    "\n",
    "# chame a função busca_nome. \n",
    "# Se o dicionário for encontrado, mostre as suas informações na tela usando a função mostra_seq.\n",
    "\n"
   ]
  },
  {
   "cell_type": "markdown",
   "metadata": {},
   "source": [
    "### Menu do programa principal\n",
    "\n",
    "Nessa parte vamos apenas implementar o menu. Para isso, escreva uma função chamada `mostra_menu(total)` que vai mostrar na tela o menu de opções usando o total de sequências passado por parâmetro e retornar a opção digitada pelo usuário. Você vai mostrar tudo com comandos `print` e no final da função você vai usar um `input` para receber a opção desejada. \n",
    "\n",
    "Por exemplo (suponha que temos 3 sequências na lista):\n",
    "\n",
    "```\n",
    "opt = mostra_menu(3)\n",
    "\n",
    "******* PyProtBank *******\n",
    "*  Existem: 3 sequências *\n",
    "**************************\n",
    "1. Inserir sequência\n",
    "2. Consultar sequência por nome\n",
    "3. Listar sequências por organismo\n",
    "4. Listar todas as sequências\n",
    "5. Finalizar\n",
    "\n",
    "Digite a opção desejada: 1\n",
    "```"
   ]
  },
  {
   "cell_type": "code",
   "execution_count": null,
   "metadata": {
    "collapsed": true
   },
   "outputs": [],
   "source": [
    "# Defina a sua função mostra_menu aqui\n"
   ]
  },
  {
   "cell_type": "code",
   "execution_count": null,
   "metadata": {},
   "outputs": [],
   "source": [
    "#teste a sua função aqui\n",
    "\n",
    "opt = mostra_menu(5)"
   ]
  },
  {
   "cell_type": "markdown",
   "metadata": {},
   "source": [
    "### Programa principal\n",
    "\n",
    "Finalmente podemos construir o nosso programa principal que vai utilizar todas as funções anteriores.\n",
    "\n",
    "O que você vai fazer no programa principal:\n",
    "\n",
    "1. Inicializar a lista de sequências com uma lista vazia\n",
    "2. Ficar mostrando o menu de opções (passando o número de elementos que existem na lista) enquanto o usuário não escolher `Finalizar`. Se o usuário escolher uma opção inválida, mostre uma mensagem de erro e mostre o menu novamente.\n",
    "3. Testar a opção desejada: \n",
    "  1. Se for igual a 1, chame a função cria_sequencia() e insira o dicionário retornado na lista.\n",
    "  2. Se for igual a 2, peça o nome ao usuário e chame a função busca_nome(sequencias, nome). Mostre o dicionário retornado usando a função `mostra_seq`.\n",
    "  3. Se for igual a 3, peça o organismo ao usuário e chame a função lista_por_organismo(sequencias, organismo)\n",
    "  4. Se for igual a 4, chame a função lista_todas(sequencias)\n",
    "  5. Se for igual a 5, interrompa a execução do laço\n",
    "  \n",
    "Teste o seu programa.\n",
    "\n",
    "> Dica: Para limpar a tela ao mostrar o menu, chame a função `clear_output()` da biblioteca `IPython.display` antes de mostrar o seu menu. Assim apenas versão mais recente será mostrada.\n",
    "\n",
    "```python\n",
    "from IPython.display import clear_output\n",
    "clear_output()\n",
    "```"
   ]
  },
  {
   "cell_type": "code",
   "execution_count": 4,
   "metadata": {},
   "outputs": [],
   "source": [
    "from IPython.display import clear_output\n",
    "# Escreva aqui o seu programa principal\n",
    "\n",
    "\n",
    "    "
   ]
  }
 ],
 "metadata": {
  "kernelspec": {
   "display_name": "Python 3",
   "language": "python",
   "name": "python3"
  },
  "language_info": {
   "codemirror_mode": {
    "name": "ipython",
    "version": 3
   },
   "file_extension": ".py",
   "mimetype": "text/x-python",
   "name": "python",
   "nbconvert_exporter": "python",
   "pygments_lexer": "ipython3",
   "version": "3.5.2"
  }
 },
 "nbformat": 4,
 "nbformat_minor": 2
}
