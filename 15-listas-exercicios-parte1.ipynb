{
 "cells": [
  {
   "cell_type": "markdown",
   "metadata": {},
   "source": [
    "# Exercícios sobre Vetores (Listas)\n",
    "\n",
    "> Antes de iniciar qualquer notebook, é importante que você limpe as saídas de todas as células para que você só veja o resultado de uma célula quando executá-la. Para isso, utilize o menu **Cell > All Output > Clear **.\n",
    "\n",
    "## Requisitos\n",
    "\n",
    "Certifique-se de que você concluiu os seguintes notebooks:\n",
    "* [Introdução ao Python](01-intro.ipynb)\n",
    "* [Introdução à sintaxe de Python](02-sintaxe.ipynb)\n",
    "* [Strings, saída e entrada de dados e a biblioteca math](03-strings.ipynb)\n",
    "* [Exercícios sobre Estrutura Sequencial](04-exercicios.ipynb)\n",
    "* [Estrutura condicional](05-condicoes-fluxo-controle.ipynb)\n",
    "* [O comando while](07-while.ipynb)\n",
    "* [Exercícios sobre o comando while](08-while-exercicios.ipynb)\n",
    "* [O comando for](09-for.ipynb)\n",
    "* [Exercícios sobre o comando for](11-for-exercicios-parte2.ipynb)\n",
    "* [Exercícios sobre strings](12-exercicios-strings.ipynb)\n",
    "* [Exercícios de revisão](13-exercicios-revisao.ipynb)\n",
    "* [Listas em Python](14-vetores-listas.ipynb)\n",
    "\n",
    "## Exercícios"
   ]
  },
  {
   "cell_type": "markdown",
   "metadata": {},
   "source": [
    "### Questão 1\n",
    "\n",
    "Na célula abaixo, faça um programa que preencha uma lista com cinco números inteiros, determine e mostre números pares e suas respectivas posições (índices).\n",
    "\n",
    "> **Estratégia:** Primeiro use um laço para preencher o vetor com os números digitados pelo usuário. Depois use outro laço para percorrer o vetor e para cada elemento, se ele for par, você mostra o elemento e a posição dele.\n"
   ]
  },
  {
   "cell_type": "code",
   "execution_count": 1,
   "metadata": {
    "collapsed": true
   },
   "outputs": [],
   "source": [
    "# Para criar uma lista com tamanho 5 com 0:\n",
    "lista = [0]*5\n",
    "# Escreva o seu código aqui"
   ]
  },
  {
   "cell_type": "markdown",
   "metadata": {},
   "source": [
    "### Questão 2\n",
    "Na célula abaixo, faça um programa que cria uma lista de tamanho 8. Peça ao usuário para entrar com 8 notas, armazenando-as na lista. As notas podem ser números reais. Ao final mostre a média da turma, a posição na lista e a nota dos alunos que ficaram de AF $(4.0 \\leq nota < 7.0)$.\n",
    "\n",
    "> **Estratégia:** Primeiro use um laço para preencher o vetor com as notas digitadas pelo usuário. Nesse laço você já pode calcular a soma das notas. Calcule a média e depois use outro laço para percorrer o vetor e para cada nota, se $(4.0 \\leq nota < 7.0)$, você mostra a nota e a posição dela."
   ]
  },
  {
   "cell_type": "code",
   "execution_count": null,
   "metadata": {
    "collapsed": true
   },
   "outputs": [],
   "source": [
    "# Escreva o seu código aqui\n",
    "notas = [0]*8"
   ]
  },
  {
   "cell_type": "markdown",
   "metadata": {},
   "source": [
    "### Questão 3\n",
    "Faça um programa que preencha uma lista com 5 números inteiros digitados pelo usuário e ao final, mostre os números primos e as suas posições.\n",
    "\n",
    "> **Estratégia:** Primeiro use um laço para preencher o vetor com os números digitados pelo usuário. Depois use outro laço para percorrer o vetor e para cada elemento, se ele for primo, você mostra o elemento e a posição dele.\n"
   ]
  },
  {
   "cell_type": "code",
   "execution_count": null,
   "metadata": {
    "collapsed": true
   },
   "outputs": [],
   "source": [
    "# Escreva o seu código aqui"
   ]
  },
  {
   "cell_type": "markdown",
   "metadata": {},
   "source": [
    "### Questão 4\n",
    "Na célula abaixo, modifique o programa da questão 2 para que agora além das notas, você também receba os nomes dos alunos. Para isso, use um outro vetor para guardar os nomes. Assim o nome do aluno que tirou a nota que está na posição i também está na posição i do vetor de nomes. Ao final mostre a média da turma e o nome e a nota do(a) aluno(a) que com a maior nota.\n",
    "\n",
    "> **Estratégia:** Primeiro use um laço para preencher os vetore com os nomes e as notas digitadas pelo usuário. No mesmo laço, você preenche a mesma posição nos dois vetores, em um você pede o nome e no outro a nota. Nesse laço você continua calculando a soma das notas. Depois, fora do laço, calcule a média e depois use outro laço para percorrer o vetor de notas e descobrir a maior nota. Você mostra essa nota, e usa a posição dela para descobrir o nome do(a) aluno(a)."
   ]
  },
  {
   "cell_type": "code",
   "execution_count": null,
   "metadata": {
    "collapsed": true
   },
   "outputs": [],
   "source": [
    "# Escreva o seu código aqui\n",
    "notas = [0]*8\n",
    "nomes = ['']*8 # lista com strings vazias\n"
   ]
  },
  {
   "cell_type": "markdown",
   "metadata": {},
   "source": [
    "### Questão 5\n",
    "Na célula abaixo, faça um programa que preencha uma lista com 10 números inteiros digitados pelo usuário e ao final, mostre os elementos de dois vetores resultantes. O primeiro vetor resultante deve conter os números maiores ou iguais a zero, e o segundo vetor, deve conter os números negativos. Cada vetor resultante vai ter no máximo, oito posições, mas que talvez não sejam todas utilizadas. \n",
    "\n",
    "> **Estratégia:** Primeiro use um laço para preencher o vetor com os números digitados pelo usuário e no mesmo laço já copia o número para o vetor resultante apropriado, atualizando o número de posições utilizadas nesse vetor (oura variável). Depois use um laço para percorrer cada vetor resultante, mostrando apenas até a posição ocupada. \n",
    "\n",
    "> **Observação:** Na próxima semana veremos como resolver essa questão de um modo mais simples."
   ]
  },
  {
   "cell_type": "code",
   "execution_count": null,
   "metadata": {
    "collapsed": true
   },
   "outputs": [],
   "source": [
    "# Escreva o seu código aqui"
   ]
  },
  {
   "cell_type": "markdown",
   "metadata": {},
   "source": [
    "### Questão 6\n",
    "Na célula abaixo, faça um programa que preencha dois vetores, X e Y, com dez números inteiros cada. Calcule e mostre um vetor resultante contendo a Interseção entre X e Y (apenas os elementos que aparecem nos dois vetores, sem repetições).\n",
    "\n",
    "> **Estratégia:** Usar um laço para preencher os dois vetores X e Y (ou dois laços, um para cada um). Depois percorrer o vetor X, verificando se cada elemento de X também está em Y. Se estiver, coloca o elemento no vetor de interseção, se o elemento já não estiver lá. Use o operador `in` para verificar se um elemento está no vetor."
   ]
  },
  {
   "cell_type": "code",
   "execution_count": null,
   "metadata": {
    "collapsed": true
   },
   "outputs": [],
   "source": [
    "# Escreva o seu código aqui"
   ]
  },
  {
   "cell_type": "markdown",
   "metadata": {},
   "source": [
    "### Questão 7 (Bônus)\n",
    "Faça o mesmo programa da questão 6, mas sem utilizar o operador `in`."
   ]
  },
  {
   "cell_type": "code",
   "execution_count": null,
   "metadata": {
    "collapsed": true
   },
   "outputs": [],
   "source": [
    "# Escreva o seu código aqui"
   ]
  }
 ],
 "metadata": {
  "kernelspec": {
   "display_name": "Python 3",
   "language": "python",
   "name": "python3"
  },
  "language_info": {
   "codemirror_mode": {
    "name": "ipython",
    "version": 3
   },
   "file_extension": ".py",
   "mimetype": "text/x-python",
   "name": "python",
   "nbconvert_exporter": "python",
   "pygments_lexer": "ipython3",
   "version": "3.5.2"
  }
 },
 "nbformat": 4,
 "nbformat_minor": 2
}
