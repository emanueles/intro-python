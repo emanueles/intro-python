{
 "cells": [
  {
   "cell_type": "markdown",
   "metadata": {},
   "source": [
    "# Exercícios sobre Estrutura de Repetição com while\n",
    "\n",
    "> Antes de iniciar qualquer notebook, é importante que você limpe as saídas de todas as células para que você só veja o resultado de uma célula quando executá-la. Para isso, utilize o menu **Cell > All Output > Clear **.\n",
    "\n",
    "## Requisitos\n",
    "\n",
    "Certifique-se de que você concluiu os seguintes notebooks:\n",
    "* [Introdução ao Python](01-intro.ipynb)\n",
    "* [Introdução à sintaxe de Python](02-sintaxe.ipynb)\n",
    "* [Strings, saída e entrada de dados e a biblioteca math](03-strings.ipynb)\n",
    "* [Exercícios sobre Estrutura Sequencial](04-exercicios.ipynb)\n",
    "* [Estrutura condicional](05-condicoes-fluxo-controle.ipynb)\n",
    "* [Exercícios sobre Estrutura Condicional](06-exercicios.ipynb)\n",
    "* [O comando while](07-while.ipynb)\n",
    "\n",
    "## Exercícios\n",
    "\n",
    "### Questão 1\n",
    "\n",
    "Na célula abaixo, escreva o programa em Python equivalente ao algoritmo escrito em pseudocódigo abaixo:\n",
    "\n",
    "\n",
    "<code>\n",
    "**ALGORITMO**\n",
    "  **DECLARE** CONT, SAIR, num **numérico**\n",
    "  CONT ← 0 *# inicialização da variável CONT com zero*\n",
    "  SAIR ← 0 *# inicialização da variável que controla o laço*\n",
    "  **ENQUANTO** SAIR != 1 **FAÇA**\n",
    "  **INÍCIO**\n",
    "    **ESCREVA** \"Digite um número: \"\n",
    "    **LEIA** num\n",
    "    CONT ← CONT + 1 *# aumentando em 1 o valor de CONT*\n",
    "    **ESCREVA** \"Digite 0 para continuar ou 1 para sair: \"\n",
    "    **LEIA** SAIR\n",
    "  **FIM**\n",
    "  **ESCREVA** \"Quantidade de números digitados: \", CONT\n",
    "**FIM_ALGORITMO.**\n",
    "</code>"
   ]
  },
  {
   "cell_type": "code",
   "execution_count": 1,
   "metadata": {
    "collapsed": true
   },
   "outputs": [],
   "source": [
    "# Escreva o seu código aqui"
   ]
  },
  {
   "cell_type": "markdown",
   "metadata": {},
   "source": [
    "### Questão 2\n",
    "\n",
    "Na célula abaixo, tomando como base o programa que você escreveu na questão 1, escreva um programa que peça para o usuário entrar com um número enquanto ele desejar e ao final mostre a quantos desses números eram pares."
   ]
  },
  {
   "cell_type": "code",
   "execution_count": null,
   "metadata": {
    "collapsed": true
   },
   "outputs": [],
   "source": [
    "# Escreva o seu código aqui"
   ]
  },
  {
   "cell_type": "markdown",
   "metadata": {},
   "source": [
    "### Questão 3\n",
    "\n",
    "Na célula abaixo, escreva um programa usando o comando `while` para pedir a entrada de cinco notas. Ao final, calcule e mostre a média aritmética."
   ]
  },
  {
   "cell_type": "code",
   "execution_count": null,
   "metadata": {
    "collapsed": true
   },
   "outputs": [],
   "source": [
    "# Escreva o seu código aqui"
   ]
  },
  {
   "cell_type": "markdown",
   "metadata": {},
   "source": [
    "### Questão 4\n",
    "\n",
    "Na célula abaixo, modifique o programa acima para além de mostrar a média aritmética, mostrar também quantas notas foram menores do que 7.0.\n"
   ]
  },
  {
   "cell_type": "code",
   "execution_count": 2,
   "metadata": {
    "collapsed": true
   },
   "outputs": [],
   "source": [
    "# Escreva o seu código aqui"
   ]
  },
  {
   "cell_type": "markdown",
   "metadata": {},
   "source": [
    "### Questão 5\n",
    "\n",
    "Uma pessoa gostaria de fazer uma viagem que custa uma quantia **V** em reais e precisa de ajuda com o planejamento. A pessoa está disposta a fazer uma poupança iniciando em **I** reais e irá depositar mensalmente uma quantia **M** na poupança. Sabendo que a poupança rende 0,5% ao mês, na célula abaixo, faça um programa que receba esses dados do usuário e estime em quantos meses ele conseguiria o dinheiro para viajar.\n",
    "\n",
    "Veja alguns exemplos de saída desse programa:\n",
    "\n",
    "Exemplo 1:\n",
    "\n",
    "```\n",
    "-*-*-* Planejamento de Viagem -*-*-* \n",
    "\n",
    "Entre com o custo da viagem que você deseja fazer: 1000\n",
    "Entre com a quantia inicial da sua poupança: 1000\n",
    "Entre com a quantia mensal a ser depositada: 10\n",
    "Você conseguirá fazer a sua viagem em 0 meses e terá R$1000.00.\n",
    "```\n",
    "\n",
    "Exemplo 2:\n",
    "\n",
    "```\n",
    "-*-*-* Planejamento de Viagem -*-*-* \n",
    "\n",
    "Entre com o custo da viagem que você deseja fazer: 1000\n",
    "Entre com a quantia inicial da sua poupança: 500\n",
    "Entre com a quantia mensal a ser depositada: 50\n",
    "Você conseguirá fazer a sua viagem em 10 meses e terá R$1036.97.\n",
    "```"
   ]
  },
  {
   "cell_type": "code",
   "execution_count": null,
   "metadata": {
    "collapsed": true
   },
   "outputs": [],
   "source": [
    "# Escreva o seu código aqui"
   ]
  },
  {
   "cell_type": "markdown",
   "metadata": {},
   "source": [
    "### Questão 6: Jogo adivinhe o número (nível *café com leite*)\n",
    "\n",
    "No notebook sobre [o comando while](05-while.ipynb), nós implementamos o jogo de adivinhe o número (nível *beginner*). Naquela versão, o usuário podia tentar tantas vezes até acertar o número. Nessa versão, nós iremos facilitar ainda mais a vida do usuário.\n",
    "\n",
    "Após cada tentativa incorreta, mostre uma dica para o usuário. Por exemplo, `\"Tente um número maior!\"` (se o usuário digitou um número menor do que o escolhido) ou `\"Tente um número menor!\"` (se o usuário digitou um número maior do que o escolhido). Ao final diga em quantas tentativas o usuário acertou o número.\n",
    "\n",
    "Veja um exemplo de saída do programa:\n",
    "\n",
    "```\n",
    "Adivinhe o número!\n",
    "Digite um número entre 1 e 10: 5\n",
    "Número errado. Tente um número maior.\n",
    "Digite um número: 8\n",
    "Número errado. Tente um número menor.\n",
    "Digite um número: 7\n",
    "Parabéns! Você acertou em 3 tentativas.\n",
    "```"
   ]
  },
  {
   "cell_type": "code",
   "execution_count": null,
   "metadata": {
    "collapsed": true
   },
   "outputs": [],
   "source": [
    "# Escreva o seu código aqui"
   ]
  },
  {
   "cell_type": "markdown",
   "metadata": {},
   "source": [
    "### Questão 7: Jogo adivinhe o número (nível *hard*)\n",
    "\n",
    "Na célula abaixo, modifique o programa anterior para o nível *hard* que limita o número de tentativas em 3, mas ainda mostra as dicas.\n"
   ]
  },
  {
   "cell_type": "code",
   "execution_count": null,
   "metadata": {
    "collapsed": true
   },
   "outputs": [],
   "source": [
    "# Escreva o seu código aqui"
   ]
  },
  {
   "cell_type": "markdown",
   "metadata": {},
   "source": [
    "### Questão 8\n",
    "Na célula abaixo, escreva um programa que pede para o usuário entrar com um número de nucleotídeos e depois peça um nucleotídeo (A, C, T ou G) de cada vez e mostre o complemento dele. Como no exercício da aula passada, o seu programa deve aceitar maiúsculas ou minúsculas. Se o usuário entrar com uma letra inválida, ignore a letra, mas a considere na contagem."
   ]
  },
  {
   "cell_type": "code",
   "execution_count": null,
   "metadata": {
    "collapsed": true
   },
   "outputs": [],
   "source": [
    "# Escreva o seu código aqui"
   ]
  },
  {
   "cell_type": "markdown",
   "metadata": {},
   "source": [
    "Ao terminar, você já pode ir para o próximo notebook: [Estrutura de Repetição for](09-for.ipynb)."
   ]
  }
 ],
 "metadata": {
  "kernelspec": {
   "display_name": "Python 3",
   "language": "python",
   "name": "python3"
  },
  "language_info": {
   "codemirror_mode": {
    "name": "ipython",
    "version": 3
   },
   "file_extension": ".py",
   "mimetype": "text/x-python",
   "name": "python",
   "nbconvert_exporter": "python",
   "pygments_lexer": "ipython3",
   "version": "3.5.2"
  }
 },
 "nbformat": 4,
 "nbformat_minor": 2
}
