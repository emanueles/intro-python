{
 "cells": [
  {
   "cell_type": "markdown",
   "metadata": {},
   "source": [
    "# Introdução ao Python"
   ]
  },
  {
   "cell_type": "markdown",
   "metadata": {
    "collapsed": true
   },
   "source": [
    "## Bem-vindos!\n",
    "Python é uma poderosa linguagem de programação fácil de aprender. Você pode usá-la para criar aplicações Web ou não nas mais diversas áreas.\n",
    "\n",
    "Nós estamos usando [Jupyter notebooks](http://jupyter.org/), uma aplicação Web que permite criar e compartilhar documentos contendo código fonte que pode ser executado no próprio navegador. Esses documentos podem conter também equações, imagens, visualizações e qualquer outro texto explicativo como este que você está lendo.\n",
    "\n",
    "Um notebook é formado por uma sequência de células.\n",
    "\n",
    "A célula abaixo é uma célula código. Ela contém código Python que pode ser executado no próprio notebook. Faça um teste: Selecione a célula abaixo e aperte ```Shift + Enter```"
   ]
  },
  {
   "cell_type": "code",
   "execution_count": 1,
   "metadata": {
    "scrolled": true
   },
   "outputs": [
    {
     "name": "stdout",
     "output_type": "stream",
     "text": [
      "Bem-vindos ao Python!\n"
     ]
    }
   ],
   "source": [
    "print(\"Bem-vindos ao Python!\")"
   ]
  },
  {
   "cell_type": "markdown",
   "metadata": {},
   "source": [
    "Você pode perceber que apareceu o texto **Bem-vindos ao Python!** logo abaixo da célula acima. Você também pode executar a célula selecionada clicando no botão play na barra de ferramentas acima."
   ]
  },
  {
   "cell_type": "markdown",
   "metadata": {},
   "source": [
    "Vamos começar então? \n",
    "\n",
    "Próximo passo: [Introdução à Sintaxe de Python](02-sintaxe.ipynb)."
   ]
  }
 ],
 "metadata": {
  "kernelspec": {
   "display_name": "Python 3",
   "language": "python",
   "name": "python3"
  },
  "language_info": {
   "codemirror_mode": {
    "name": "ipython",
    "version": 3
   },
   "file_extension": ".py",
   "mimetype": "text/x-python",
   "name": "python",
   "nbconvert_exporter": "python",
   "pygments_lexer": "ipython3",
   "version": "3.5.2"
  }
 },
 "nbformat": 4,
 "nbformat_minor": 2
}
