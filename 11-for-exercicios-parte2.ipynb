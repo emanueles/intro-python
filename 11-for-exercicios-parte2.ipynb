{
 "cells": [
  {
   "cell_type": "markdown",
   "metadata": {},
   "source": [
    "# Exercícios sobre Estrutura de Repetição com for\n",
    "\n",
    "> Antes de iniciar qualquer notebook, é importante que você limpe as saídas de todas as células para que você só veja o resultado de uma célula quando executá-la. Para isso, utilize o menu **Cell > All Output > Clear **.\n",
    "\n",
    "## Requisitos\n",
    "\n",
    "Certifique-se de que você concluiu os seguintes notebooks:\n",
    "* [Introdução ao Python](01-intro.ipynb)\n",
    "* [Introdução à sintaxe de Python](02-sintaxe.ipynb)\n",
    "* [Strings, saída e entrada de dados e a biblioteca math](03-strings.ipynb)\n",
    "* [Exercícios sobre Estrutura Sequencial](04-exercicios.ipynb)\n",
    "* [Estrutura condicional](05-condicoes-fluxo-controle.ipynb)\n",
    "* [O comando while](07-while.ipynb)\n",
    "* [Exercícios sobre o comando while](08-while-exercicios.ipynb)\n",
    "* [O comando for](09-for.ipynb)\n",
    "\n",
    "## Exercícios\n",
    "\n",
    "### Questão 1\n",
    "\n",
    "Na célula abaixo, escreva o programa em Python equivalente ao algoritmo escrito em pseudocódigo abaixo:\n",
    "\n",
    "\n",
    "<code>\n",
    "**ALGORITMO**\n",
    "  **DECLARE** CONT, i, num **NUMÉRICO**\n",
    "  CONT ← 0 # inicialização da variável CONT com zero\n",
    "  **PARA** i ← 1 **ATÉ** 5 **FAÇA**\n",
    "  **INÍCIO**\n",
    "    **ESCREVA** \"Digite um número: \"\n",
    "    **LEIA** num\n",
    "    **SE** num % 2 = 0\n",
    "    **ENTÃO** CONT ← CONT + 1 # aumentando em 1 o valor de CONT\n",
    "  **FIM**\n",
    "  **ESCREVA** \"Quantidade de números pares = \", CONT\n",
    "**FIM_ALGORITMO.**\n",
    "</code>"
   ]
  },
  {
   "cell_type": "code",
   "execution_count": 1,
   "metadata": {
    "collapsed": true
   },
   "outputs": [],
   "source": [
    "# Escreva o seu código aqui"
   ]
  },
  {
   "cell_type": "markdown",
   "metadata": {},
   "source": [
    "### Questão 2\n",
    "\n",
    "Na célula abaixo, usando o comando `for`, peça para o usuário entrar com um número inteiro maior que zero e calcule o fatorial desse número."
   ]
  },
  {
   "cell_type": "code",
   "execution_count": null,
   "metadata": {
    "collapsed": true
   },
   "outputs": [],
   "source": [
    "# Escreva o seu código aqui"
   ]
  },
  {
   "cell_type": "markdown",
   "metadata": {},
   "source": [
    "### Questão 3\n",
    "\n",
    "Na célula abaixo, escreva um programa usando o comando `for` para pedir a entrada de cinco notas. Ao final, calcule e mostre a média aritmética."
   ]
  },
  {
   "cell_type": "code",
   "execution_count": null,
   "metadata": {
    "collapsed": true
   },
   "outputs": [],
   "source": [
    "# Escreva o seu código aqui"
   ]
  },
  {
   "cell_type": "markdown",
   "metadata": {},
   "source": [
    "### Questão 4\n",
    "\n",
    "Na célula abaixo, modifique o programa acima para além de mostrar a média aritmética, mostrar também quantas notas foram menores do que 7.0.\n"
   ]
  },
  {
   "cell_type": "code",
   "execution_count": 2,
   "metadata": {
    "collapsed": true
   },
   "outputs": [],
   "source": [
    "# Escreva o seu código aqui"
   ]
  },
  {
   "cell_type": "markdown",
   "metadata": {},
   "source": [
    "### Questão 5\n",
    "\n",
    "Na célula abaixo, faça um programa que receba a idade de 8 pessoas, calcule e mostre baseado na tabela abaixo:\n",
    "\n",
    "| Faixa Etária | Idade            |\n",
    "|--------------|------------------|\n",
    "| 1a.          | Até 15 anos      |\n",
    "| 2a.          | De 16 a 30 anos  |\n",
    "| 3a.          | De 31 a 45 anos  |\n",
    "| 4a.          | De 46 a 60 anos  |\n",
    "| 5a.          | Acima de 60 anos |\n",
    "\n",
    "\n",
    "* a) A quantidade de pessoas em cada faixa etária;\n",
    "* b) A porcentagem de pessoas na primeira faixa etária com relação ao total de pessoas\n",
    "\n",
    "Um exemplo de saída desse programa é mostrado abaixo:\n",
    "\n",
    "```\n",
    "Pessoa 1, entre com a idade: 15\n",
    "Pessoa 2, entre com a idade: 23\n",
    "Pessoa 3, entre com a idade: 18\n",
    "Pessoa 4, entre com a idade: 38\n",
    "Pessoa 5, entre com a idade: 44\n",
    "Pessoa 6, entre com a idade: 12\n",
    "Pessoa 7, entre com a idade: 65\n",
    "Pessoa 8, entre com a idade: 21\n",
    "Quantidade de pessoas em cada faixa etária: \n",
    "  1 - Até 15 anos: 2\n",
    "  2 - De 16 a 30 anos: 3\n",
    "  3 - De 31 a 45 anos: 2\n",
    "  4 - De 46 a 60 anos: 0\n",
    "  5 - Acima de 60 anos: 1\n",
    "A porcentagem de pessoas na faixa etária 1 com relação ao total de pessoas: 25.0 %\n",
    "```"
   ]
  },
  {
   "cell_type": "code",
   "execution_count": null,
   "metadata": {
    "collapsed": true
   },
   "outputs": [],
   "source": [
    "# Escreva o seu código aqui"
   ]
  },
  {
   "cell_type": "markdown",
   "metadata": {},
   "source": [
    "### Questão 6\n",
    "\n",
    "Na célula abaixo, escreva um programa que pede para o usuário entrar com uma string de nucleotídeos e ao final mostre a string de complementos. \n",
    "\n",
    "Veja um exemplo de saída do programa:\n",
    "\n",
    "```\n",
    "Digite a sua cadeia de nucleotídeos: ACTGCGA\n",
    "Resultado: TGACGCT\n",
    "```"
   ]
  },
  {
   "cell_type": "code",
   "execution_count": null,
   "metadata": {
    "collapsed": true
   },
   "outputs": [],
   "source": [
    "# Escreva o seu código aqui"
   ]
  },
  {
   "cell_type": "markdown",
   "metadata": {},
   "source": [
    "### Questão 7: \n",
    "\n",
    "Na célula abaixo, baseando-se no programa acima, escreva um programa que inverte a cadeia de nucleotídeos antes de computar os complementos.\n",
    "\n",
    "Veja um exemplo de saída do programa:\n",
    "\n",
    "```\n",
    "Digite a sua cadeia de nucleotídeos: ACTGCGA\n",
    "Resultado: TCGCAGT\n",
    "```\n"
   ]
  },
  {
   "cell_type": "code",
   "execution_count": null,
   "metadata": {
    "collapsed": true
   },
   "outputs": [],
   "source": [
    "# Escreva o seu código aqui"
   ]
  }
 ],
 "metadata": {
  "kernelspec": {
   "display_name": "Python 3",
   "language": "python",
   "name": "python3"
  },
  "language_info": {
   "codemirror_mode": {
    "name": "ipython",
    "version": 3
   },
   "file_extension": ".py",
   "mimetype": "text/x-python",
   "name": "python",
   "nbconvert_exporter": "python",
   "pygments_lexer": "ipython3",
   "version": "3.5.2"
  }
 },
 "nbformat": 4,
 "nbformat_minor": 2
}
