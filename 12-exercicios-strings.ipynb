{
 "cells": [
  {
   "cell_type": "markdown",
   "metadata": {},
   "source": [
    "# Exercícios sobre Strings\n",
    "\n",
    "> Antes de iniciar qualquer notebook, é importante que você limpe as saídas de todas as células para que você só veja o resultado de uma célula quando executá-la. Para isso, utilize o menu **Cell > All Output > Clear **.\n",
    "\n",
    "## Requisitos\n",
    "\n",
    "Certifique-se de que você concluiu os seguintes notebooks:\n",
    "* [Introdução ao Python](01-intro.ipynb)\n",
    "* [Introdução à sintaxe de Python](02-sintaxe.ipynb)\n",
    "* [Strings, saída e entrada de dados e a biblioteca math](03-strings.ipynb)\n",
    "* [Exercícios sobre Estrutura Sequencial](04-exercicios.ipynb)\n",
    "* [Estrutura condicional](05-condicoes-fluxo-controle.ipynb)\n",
    "* [O comando while](07-while.ipynb)\n",
    "* [Exercícios sobre o comando while](08-while-exercicios.ipynb)\n",
    "* [O comando for](09-for.ipynb)\n",
    "* [Exercícios sobre o comando for](11-for-exercicios-parte2.ipynb)\n",
    "\n",
    "## Exercícios\n",
    "### Questão 1"
   ]
  },
  {
   "cell_type": "code",
   "execution_count": null,
   "metadata": {
    "collapsed": true
   },
   "outputs": [],
   "source": [
    "s1 = 'ant'\n",
    "s2 = 'bat'\n",
    "s3 = 'cod'"
   ]
  },
  {
   "cell_type": "markdown",
   "metadata": {},
   "source": [
    "Execute a célula acima. Depois em cada uma das células abaixo, escreva um comando print usando s1, s2 e s3 e os operadores + e * a fim de obter os seguintes resultados:\n",
    "\n",
    "`ant bat cod`"
   ]
  },
  {
   "cell_type": "code",
   "execution_count": 1,
   "metadata": {
    "collapsed": true
   },
   "outputs": [],
   "source": [
    "# Escreva o seu comando aqui"
   ]
  },
  {
   "cell_type": "markdown",
   "metadata": {},
   "source": [
    "`ant ant ant ant ant ant ant ant ant ant`"
   ]
  },
  {
   "cell_type": "code",
   "execution_count": null,
   "metadata": {
    "collapsed": true
   },
   "outputs": [],
   "source": [
    "# Escreva o seu comando aqui"
   ]
  },
  {
   "cell_type": "markdown",
   "metadata": {},
   "source": [
    "`ant bat bat cod cod cod`"
   ]
  },
  {
   "cell_type": "code",
   "execution_count": null,
   "metadata": {
    "collapsed": true
   },
   "outputs": [],
   "source": [
    "# Escreva o seu comando aqui"
   ]
  },
  {
   "cell_type": "markdown",
   "metadata": {},
   "source": [
    "`ant bat ant bat ant bat ant bat ant bat ant bat ant bat`"
   ]
  },
  {
   "cell_type": "code",
   "execution_count": null,
   "metadata": {
    "collapsed": true
   },
   "outputs": [],
   "source": [
    "# Escreva o seu comando aqui"
   ]
  },
  {
   "cell_type": "markdown",
   "metadata": {},
   "source": [
    "`batbatcod batbatcod batbatcod batbatcod batbatcod`"
   ]
  },
  {
   "cell_type": "code",
   "execution_count": null,
   "metadata": {
    "collapsed": true
   },
   "outputs": [],
   "source": [
    "# Escreva o seu comando aqui"
   ]
  },
  {
   "cell_type": "markdown",
   "metadata": {},
   "source": [
    "### Questão 2\n",
    "Escreva um programa que aceita uma string como entrada, conta e exibe o número de ocorrências de vogais na string.\n",
    "\n",
    "Por exemplo:\n",
    "```\n",
    "Digite uma string: Le Tour de France\n",
    "a, e, i, o, u aparecem, respectivamente, 1, 3, 0, 1, 1 vezes.\n",
    "```"
   ]
  },
  {
   "cell_type": "code",
   "execution_count": null,
   "metadata": {
    "collapsed": true
   },
   "outputs": [],
   "source": [
    "# Escreva o seu código aqui"
   ]
  },
  {
   "cell_type": "markdown",
   "metadata": {},
   "source": [
    "### Questão 3\n",
    "\n",
    "Na célula abaixo, escreva um programa que peça para o usuário digitar duas strings. Verifique se a segunda string ocorre dentro da primeira e mostre a posição de início.\n",
    "\n",
    "> Observação: Não diferencie maiúsculas e minúsculas.\n",
    "\n",
    "Exemplo:\n",
    "\n",
    "```\n",
    "Digite a primeira string: ASDFGHJKL\n",
    "Digite a segunda string: hj\n",
    "Resultado: hj encontrada na posição 5 de ASDFGHJKL\n",
    "```\n",
    "\n"
   ]
  },
  {
   "cell_type": "code",
   "execution_count": null,
   "metadata": {
    "collapsed": true
   },
   "outputs": [],
   "source": [
    "# Escreva o seu código aqui"
   ]
  },
  {
   "cell_type": "markdown",
   "metadata": {},
   "source": [
    "### Questão 4\n",
    "\n",
    "Um palíndromo é uma palavra ou qualquer sequência de caracteres que tenha a propriedade de ser lida tanto da esquerda para a direita como da direita para esquerda. Num palíndromo, normalmente são desconsiderados os sinais ortográficos, pontuação e espaços em branco.\n",
    "\n",
    "Por exemplo:\n",
    "\n",
    "**A cara rajada da jararaca** é um palíndromo.\n",
    "\n",
    "Na célula abaixo, escreva um programa que pede para o usuário digitar uma frase e diga se a frase é palíndroma ou não.\n",
    "\n",
    "Teste o seu programa com as seguintes frases:\n",
    "\n",
    "```\n",
    "A cara rajada da jararaca\n",
    "madam\n",
    "Madam, I'm Adam.\n",
    "Never odd or even\n",
    "Was it a car or a cat I saw?\n",
    "Doc, note: I dissent. A fast never prevents a fatness. I diet on cod.\n",
    "```"
   ]
  },
  {
   "cell_type": "code",
   "execution_count": null,
   "metadata": {
    "collapsed": true
   },
   "outputs": [],
   "source": [
    "# Escreva o seu código aqui"
   ]
  },
  {
   "cell_type": "markdown",
   "metadata": {},
   "source": [
    "### Questão 5\n",
    "\n",
    "Na última aula em laboratório, você escreveu um programa que pedia para o usuário entrar com uma string de nucleotídeos e ao final mostre a string de complementos. Modifique o seu programa para que ele primeiro construa a string de complementos usando o operador + e só a mostre no final.\n",
    "\n",
    "Veja um exemplo de saída do programa:\n",
    "\n",
    "```\n",
    "Digite a sua cadeia de nucleotídeos: ACTGCGA\n",
    "Resultado: TGACGCT\n",
    "```"
   ]
  },
  {
   "cell_type": "code",
   "execution_count": null,
   "metadata": {
    "collapsed": true
   },
   "outputs": [],
   "source": [
    "# Escreva o seu código aqui"
   ]
  },
  {
   "cell_type": "markdown",
   "metadata": {},
   "source": [
    "### Questão 6\n",
    "\n",
    "Também na última aula em laboratório, você fez um programa que invertia a cadeia de nucleotídeos antes de computar os complementos usando a função `reversed`. Modifique o seu programa para não usar a função reversed. Use acesso por índice percorrendo a cadeia de nucleotídeos da direita para a esquerda.\n",
    "\n",
    "Veja um exemplo de saída do programa:\n",
    "\n",
    "```\n",
    "Digite a sua cadeia de nucleotídeos: ACTGCGA\n",
    "Resultado: TCGCAGT\n",
    "```\n"
   ]
  },
  {
   "cell_type": "code",
   "execution_count": null,
   "metadata": {
    "collapsed": true
   },
   "outputs": [],
   "source": [
    "# Escreva o seu código aqui"
   ]
  }
 ],
 "metadata": {
  "kernelspec": {
   "display_name": "Python 3",
   "language": "python",
   "name": "python3"
  },
  "language_info": {
   "codemirror_mode": {
    "name": "ipython",
    "version": 3
   },
   "file_extension": ".py",
   "mimetype": "text/x-python",
   "name": "python",
   "nbconvert_exporter": "python",
   "pygments_lexer": "ipython3",
   "version": "3.5.2"
  }
 },
 "nbformat": 4,
 "nbformat_minor": 2
}
