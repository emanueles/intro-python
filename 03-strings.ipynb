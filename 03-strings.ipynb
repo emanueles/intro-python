{
 "cells": [
  {
   "cell_type": "markdown",
   "metadata": {},
   "source": [
    "# Strings e saída de dados\n",
    "\n",
    "> Antes de iniciar qualquer notebook, é importante que você limpe as saídas de todas as células para que você só veja o resultado de uma célula quando executá-la. Para isso, utilize o menu **Cell > All Output > Clear **.\n",
    "\n",
    "Outro tipo de dado muito útil é a **string**. Uma string pode conter letras, números e símbolos, mas será sempre interpretada como texto.\n",
    "\n",
    "Veja os exemplos:"
   ]
  },
  {
   "cell_type": "code",
   "execution_count": null,
   "metadata": {
    "collapsed": true
   },
   "outputs": [],
   "source": [
    "nome = \"Paula\"\n",
    "idade = \"22\"\n",
    "comida = \"batata frita\""
   ]
  },
  {
   "cell_type": "markdown",
   "metadata": {},
   "source": [
    "Na célula acima, nós criamos uma variável nome e lhe atribuímos o valor string \"Paula\".\n",
    "Nós também atribuímos \"22\" à variável idade e comida recebeu o valor \"batata frita\".\n",
    "\n",
    "Veja que strings precisam vir entre aspas, elas podem ser duplas ou simples. O importante é usar o mesmo tipo de aspas no início e no final da string.\n",
    "\n",
    "Na linha 1 da célula abaixo, crie uma nova variável chamada ```chaves``` que recebe a string ```\"Que puxa!\"```."
   ]
  },
  {
   "cell_type": "code",
   "execution_count": null,
   "metadata": {
    "collapsed": true
   },
   "outputs": [],
   "source": [
    "chaves = \n",
    "print(chaves)"
   ]
  },
  {
   "cell_type": "markdown",
   "metadata": {},
   "source": [
    "Vejamos mais alguns exercícios com strings.\n",
    "\n",
    "Crie as seguintes variáveis com as suas respectivas strings:\n",
    "\n",
    "1. ```esporte``` igual a ```\"Basquete\"```\n",
    "2. ```jogador``` igual a ```\"Oscar\"```\n",
    "3. ```lugar``` igual a ```\"quadra\"```\n"
   ]
  },
  {
   "cell_type": "code",
   "execution_count": null,
   "metadata": {
    "collapsed": true
   },
   "outputs": [],
   "source": [
    "# Crie as suas variáveis no espaço abaixo, cada uma na sua própria linha\n",
    "\n",
    "\n",
    "\n",
    "\n",
    "# Escreva suas variáveis acima dessa linha\n",
    "print(esporte)\n",
    "print(jogador)\n",
    "print(lugar)"
   ]
  },
  {
   "cell_type": "markdown",
   "metadata": {},
   "source": [
    "## Usando aspas dentro da string\n",
    "\n",
    "E se quisermos mostrar a aspa dupla dentro da string o que acontece?\n",
    "\n",
    "Tente executar a célula abaixo. Você verá que ela irá causar um erro.\n"
   ]
  },
  {
   "cell_type": "code",
   "execution_count": null,
   "metadata": {
    "collapsed": true
   },
   "outputs": [],
   "source": [
    "frase = \"O Chaves disse \"Que puxa!\"\"\n",
    "print(frase)"
   ]
  },
  {
   "cell_type": "markdown",
   "metadata": {},
   "source": [
    "Ocorre erro nesse código porque o Python pensa que as aspas duplas que aparecem logo depois de disse finaliza a string. Nós usamos a barra invertida para corrigir o problema:\n"
   ]
  },
  {
   "cell_type": "code",
   "execution_count": null,
   "metadata": {
    "collapsed": true
   },
   "outputs": [],
   "source": [
    "frase = \"O Chaves disse \\\"Que puxa!\\\"\"\n",
    "print(frase)"
   ]
  },
  {
   "cell_type": "markdown",
   "metadata": {},
   "source": [
    "Outra maneira é usar outro tipo de aspas para delimitar a string e assim não é necessário usar a barra invertida. Veja o exemplo abaixo:"
   ]
  },
  {
   "cell_type": "code",
   "execution_count": null,
   "metadata": {
    "collapsed": true
   },
   "outputs": [],
   "source": [
    "frase = 'O Chaves disse: \"Que puxa!\"'\n",
    "print(frase)"
   ]
  },
  {
   "cell_type": "markdown",
   "metadata": {},
   "source": [
    "Conserte o erro na célula abaixo e depois execute-a (Shift+Enter):"
   ]
  },
  {
   "cell_type": "code",
   "execution_count": null,
   "metadata": {
    "collapsed": true
   },
   "outputs": [],
   "source": [
    "frase = \"Depois o Chaves reclamou: \"Comigo ninguém tem paciência!\"\"\n",
    "print(frase)"
   ]
  },
  {
   "cell_type": "markdown",
   "metadata": {},
   "source": [
    "## Métodos de strings\n",
    "\n",
    "Agora que sabemos como armazenar strings, vamos ver como podemos modificá-las usando **métodos de strings**.\n",
    "\n",
    "Métodos (também chamados de funções) de strings permitem que você execute tarefas específicas para strings.\n",
    "\n",
    "Nós focaremos em quatro métodos:\n",
    "\n",
    "```\n",
    "len()\n",
    "lower()\n",
    "upper()\n",
    "str()\n",
    "```\n",
    "\n",
    "### len()\n",
    "Vamos começar com ```len()```, o qual obtém o tamanho (o número de caracteres) de uma string.\n",
    "\n",
    "Na célula abaixo, faça o seguinte:\n",
    "1. Na primeira linha, crie uma variável chamada ```cachorro``` e lhe atribua a string ```\"Pastor Alemão\"```.\n",
    "2. Na segunda linha, digite ```len(cachorro)``` dentro dos parênteses do comando print, de forma que fique ```print(len(cachorro))```. Ao executar a célula será mostrado o número de letras em ```\"Pastor Alemão\"```, incluindo o espaço."
   ]
  },
  {
   "cell_type": "code",
   "execution_count": null,
   "metadata": {
    "collapsed": true
   },
   "outputs": [],
   "source": [
    "\n",
    "print()"
   ]
  },
  {
   "cell_type": "markdown",
   "metadata": {},
   "source": [
    "### lower()\n",
    "\n",
    "Você pode usar o método ```lower()``` para converter a string para caracteres minúsculos. Você chama ```lower()``` da seguinte maneira:"
   ]
  },
  {
   "cell_type": "code",
   "execution_count": null,
   "metadata": {
    "collapsed": true
   },
   "outputs": [],
   "source": [
    "\"Oscar\".lower()"
   ]
  },
  {
   "cell_type": "markdown",
   "metadata": {},
   "source": [
    "Que retornará ```'oscar'```.\n",
    "\n",
    "Nós podemos chamar o método diretamente em variáveis do tipo string:\n"
   ]
  },
  {
   "cell_type": "code",
   "execution_count": null,
   "metadata": {
    "collapsed": true
   },
   "outputs": [],
   "source": [
    "jogador = \"Oscar\"\n",
    "print(jogador.lower())"
   ]
  },
  {
   "cell_type": "markdown",
   "metadata": {},
   "source": [
    "> Observação: Nós usamos com frequência a expressão **chamar um método** ou **invocar um método**.\n",
    "\n",
    "Na linha abaixo, mostre a raça do cachorro somente em letras minúsculas, chamando o método ```lower()```:"
   ]
  },
  {
   "cell_type": "code",
   "execution_count": null,
   "metadata": {
    "collapsed": true
   },
   "outputs": [],
   "source": [
    "cachorro = \"Pastor Alemão\"\n",
    "print()"
   ]
  },
  {
   "cell_type": "markdown",
   "metadata": {},
   "source": [
    "### upper()\n",
    "\n",
    "Um método similar chamado ```upper()``` existe para converter as letras de uma string para maiúsculas.\n",
    "\n",
    "Na linha abaixo use upper(), para mostrar a raça do cachorro toda em maiúsculas:\n"
   ]
  },
  {
   "cell_type": "code",
   "execution_count": null,
   "metadata": {
    "collapsed": true
   },
   "outputs": [],
   "source": [
    "cachorro = \"pastor alemão\"\n",
    "print()"
   ]
  },
  {
   "cell_type": "markdown",
   "metadata": {},
   "source": [
    "## str()\n",
    "\n",
    "Agora vejamos o que ```str()``` faz. O método ```str()``` transforma qualquer tipo de dado em strings. Por exemplo:"
   ]
  },
  {
   "cell_type": "code",
   "execution_count": null,
   "metadata": {
    "collapsed": true
   },
   "outputs": [],
   "source": [
    "str(2)"
   ]
  },
  {
   "cell_type": "markdown",
   "metadata": {},
   "source": [
    "Na célula acima, ```str(2)``` tranformou 2 em \"2\".\n",
    "\n",
    "Agora tente você:\n",
    "\n",
    "Na célula abaixo, crie uma variável ```pi``` e lhe atribua o valor 3.14\n",
    "\n",
    "Chame ```str(pi)``` dentro dos parênteses do ```print```.\n"
   ]
  },
  {
   "cell_type": "code",
   "execution_count": null,
   "metadata": {
    "collapsed": true
   },
   "outputs": [],
   "source": [
    "\n",
    "print()"
   ]
  },
  {
   "cell_type": "markdown",
   "metadata": {},
   "source": [
    "## Notação de Ponto\n",
    "\n",
    "Agora vamos analisar porque usamos len(string) e str(objeto), mas usamos a notação de ponto (como em \"Oscar\".upper()) para o resto."
   ]
  },
  {
   "cell_type": "code",
   "execution_count": null,
   "metadata": {
    "collapsed": true
   },
   "outputs": [],
   "source": [
    "cachorro = \"auauauau\"\n",
    "len(cachorro)\n",
    "cachorro.upper()"
   ]
  },
  {
   "cell_type": "markdown",
   "metadata": {},
   "source": [
    "Métodos que usam a notação de ponto só funcionam com strings. O tipo da variável antes do \".\" precisa ser string.\n",
    "\n",
    "Por outro lado, ```len()``` e ```str()``` funcionam com outros tipos de dados.\n",
    "\n",
    "Na célula abaixo, no primeiro print, mostre o número de caracteres em instituto, ou seja, use a função ```len()```.\n",
    "No segundo print, mostre o valor de instituto usando a função ```upper()```.\n"
   ]
  },
  {
   "cell_type": "code",
   "execution_count": null,
   "metadata": {
    "collapsed": true
   },
   "outputs": [],
   "source": [
    "instituto = \"Instituto Universal para os Aprendizes de Python\"\n",
    "print()\n",
    "print()"
   ]
  },
  {
   "cell_type": "markdown",
   "metadata": {},
   "source": [
    "## Saída de dados com print()\n",
    "\n",
    "O comando print simplesmente mostra caracteres na tela. Se estivéssemos trabalhando com um editor e o interpretador Python instalado localmente, veríamos o resultado do comando print no terminal, também chamado de console.\n",
    "\n",
    "Na célula abaixo, use o comando ```print()``` para mostrar ```\"Estou aprendendo Python\"``` na tela. Você não precisa criar uma variável para isso, use o comando ```print()``` diretamente com a string. Não se esqueça dos parênteses."
   ]
  },
  {
   "cell_type": "code",
   "execution_count": null,
   "metadata": {
    "collapsed": true
   },
   "outputs": [],
   "source": []
  },
  {
   "cell_type": "markdown",
   "metadata": {},
   "source": [
    "Você já sabe como mostrar strings. Agora vamos usar variáveis no comando print().\n",
    "\n",
    "Na célula abaixo, crie uma variável chamada ```o_computador_disse``` e lhe atribua o valor \"Ping!\"\n",
    "Depois mostre o valor de ```o_computador_disse``` usando ```print()``` na linha seguinte."
   ]
  },
  {
   "cell_type": "code",
   "execution_count": null,
   "metadata": {
    "collapsed": true
   },
   "outputs": [],
   "source": []
  },
  {
   "cell_type": "markdown",
   "metadata": {},
   "source": [
    "No comando print(), também podemos mostrar múltiplas variáveis separadas por vírgula:\n"
   ]
  },
  {
   "cell_type": "code",
   "execution_count": null,
   "metadata": {
    "collapsed": true
   },
   "outputs": [],
   "source": [
    "esporte = \"Futebol\"\n",
    "jogador = \"Pelé\"\n",
    "print(esporte, jogador)"
   ]
  },
  {
   "cell_type": "markdown",
   "metadata": {},
   "source": [
    "Veja que o Python já separou as strings com espaços automaticamente.\n",
    "\n",
    "## Formatação de strings com %\n",
    "\n",
    "Quando você quiser mostrar uma variável dentro de uma frase, existe uma maneira melhor de fazer isso.\n"
   ]
  },
  {
   "cell_type": "code",
   "execution_count": null,
   "metadata": {
    "collapsed": true
   },
   "outputs": [],
   "source": [
    "nome = \"Oscar\"\n",
    "print(\"Olá, %s. Tudo bem?\" % (nome))"
   ]
  },
  {
   "cell_type": "markdown",
   "metadata": {},
   "source": [
    "O operador ```%```, quando usado depois de uma string, irá substituir o ```%s``` dentro da string com a variável que vem em parênteses depois dele.\n",
    "\n",
    "Dê uma olhada no código da célula abaixo. Ao executá-la, o que você acha que será mostrado. Só execute a célula depois que achar que sabe."
   ]
  },
  {
   "cell_type": "code",
   "execution_count": null,
   "metadata": {
    "collapsed": true
   },
   "outputs": [],
   "source": [
    "string_1 = \"Paris\"\n",
    "string_2 = \"cidade\"\n",
    "\n",
    "print(\"E foram todos para %s, a %s-luz.\" % (string_1, string_2))"
   ]
  },
  {
   "cell_type": "markdown",
   "metadata": {},
   "source": [
    "Veja que você o número de elementos ```%s``` dentro da string deve ser igual ao número de termos entre parênteses.\n",
    "\n",
    "Outra tipo de formatação útil é quando queremos mostrar um determinado número de casas decimais. Por exemplo, sempre que mostrarmos algum valor monetário, o ideal é mostrar apenas duas casas decimais. Por exemplo:"
   ]
  },
  {
   "cell_type": "code",
   "execution_count": 2,
   "metadata": {},
   "outputs": [
    {
     "name": "stdout",
     "output_type": "stream",
     "text": [
      "O total da compra é R$1000.00 e cada parcela é R$166.67\n"
     ]
    }
   ],
   "source": [
    "total = 1000\n",
    "parcela = 1000/6\n",
    "print(\"O total da compra é R$%.2f e cada parcela é R$%.2f\" % (total, parcela))"
   ]
  },
  {
   "cell_type": "markdown",
   "metadata": {},
   "source": [
    "No comando acima usamos o ```%.2f``` para dizer que vamos arredondar um float em **duas** casas decimais.\n",
    "\n",
    "Na célula abaixo, crie uma variável que vai receber o valor da raiz quadrada de dois. Mostre o valor arredondado para **quatro** casas decimais.\n"
   ]
  },
  {
   "cell_type": "code",
   "execution_count": null,
   "metadata": {
    "collapsed": true
   },
   "outputs": [],
   "source": []
  },
  {
   "cell_type": "markdown",
   "metadata": {},
   "source": [
    "## Entrada de dados com input\n",
    "\n",
    "Sempre que quisermos que o usuário entre com alguma informação no nosso programa, usamos a função ```input```.\n",
    "\n",
    "A função ```input``` mostra um texto que será mostrado para o usuário e retorna o que o usuário digitou (sempre do tipo texto). Você deve sempre digitar ```Enter``` ao final da entrada de dados. Guardamos o valor retornado pela função input em uma variável.\n",
    "\n",
    "Exemplos:"
   ]
  },
  {
   "cell_type": "code",
   "execution_count": 5,
   "metadata": {},
   "outputs": [
    {
     "name": "stdout",
     "output_type": "stream",
     "text": [
      "Qual o seu nome?Emanuele\n",
      "Emanuele, quantos anos você tem?39\n",
      "Emanuele\n",
      "39\n"
     ]
    }
   ],
   "source": [
    "nome = input('Qual o seu nome?')\n",
    "idade = input('%s, quantos anos você tem?' % (nome))\n",
    "print(nome)\n",
    "print(idade)"
   ]
  },
  {
   "cell_type": "markdown",
   "metadata": {},
   "source": [
    "Como o resultado de ```input``` é sempre um texto, precisamos converter o valor retornado por ela para número se quisermos fazer alguma operação com esse número. Por exemplo:\n"
   ]
  },
  {
   "cell_type": "code",
   "execution_count": 8,
   "metadata": {},
   "outputs": [
    {
     "name": "stdout",
     "output_type": "stream",
     "text": [
      "Quantos anos você tem? 39\n",
      "Você sabia que já viveu 14235 dias?\n"
     ]
    }
   ],
   "source": [
    "idade = int(input('Quantos anos você tem? ' ))\n",
    "dias = idade * 365\n",
    "print(\"Você sabia que já viveu %s dias?\" % dias)"
   ]
  },
  {
   "cell_type": "markdown",
   "metadata": {},
   "source": [
    "Agora vamos praticar:\n",
    "\n",
    "1. Na linha 1, crie uma variável chamada apelido, peça para o(a) usuário(a) digitar como ele ou ela gosta de ser chamada.\n",
    "2. Na linha 2, pergunte ao usuário qual a sua cor favorita e guarde na variável cor.\n",
    "3. Ao final, mostre: ```\"____ , sua cor favorita é ____.\"```, trocando ``` ____``` pelo conteúdo das variáveis."
   ]
  },
  {
   "cell_type": "code",
   "execution_count": null,
   "metadata": {
    "collapsed": true
   },
   "outputs": [],
   "source": []
  },
  {
   "cell_type": "markdown",
   "metadata": {},
   "source": [
    "## Acesso por índice\n",
    "Em uma string, a cada **caractere** é atribuído um **número**. Esse número é chamado **índice**. Veja o diagrama abaixo:\n",
    "```\n",
    "A string \"PYTHON\" possui seis caracteres,\n",
    "numerados de 0 a 5, como mostrado abaixo:\n",
    "\n",
    "+---+---+---+---+---+---+\n",
    "| P | Y | T | H | O | N |\n",
    "+---+---+---+---+---+---+\n",
    "  0   1   2   3   4   5\n",
    "\n",
    "Então, se você quisesse acessar a letra \"Y\", você pode digitar apenas\n",
    "\"PYTHON\"[1] (sempre comece a contar do zero!)\n",
    "```\n",
    "\n",
    "Veja esses outros exemplos:"
   ]
  },
  {
   "cell_type": "code",
   "execution_count": null,
   "metadata": {},
   "outputs": [],
   "source": [
    "g = \"gatos\"[0]\n",
    "r = \"Oscar\"[4]"
   ]
  },
  {
   "cell_type": "markdown",
   "metadata": {},
   "source": [
    "Nos exemplos acima, nós criamos uma nova variável chamada g e lhe atribuímos \"g\", o caractere no índice 0 da string \"gatos\".\n",
    "\n",
    "Depois, nós criamos uma nova variável r e lhe atribuímos \"r\", o caractere no índice quatro da string \"Oscar\".\n",
    "\n",
    "Em Python, **nós começamos a contar o índice a partir do 0 (zero) em vez de 1.**\n",
    "\n",
    "Na célula abaixo atribua à variável ```terceira_letra```, a terceira letra da string ```\"REPLICAÇÃO\"```.  **Mais uma vez, lembre-se de que a terceira letra não está no índice 3. Comece a contar os índices do zero.**"
   ]
  },
  {
   "cell_type": "code",
   "execution_count": null,
   "metadata": {},
   "outputs": [],
   "source": [
    "terceira_letra = \"REPLICAÇÃO\"[??]\n",
    "\n",
    "print(terceira_letra)"
   ]
  },
  {
   "cell_type": "markdown",
   "metadata": {},
   "source": [
    "## Fatiamento de strings\n",
    "\n",
    "Às vezes queremos ter acesso a uma parte da string, e não a apenas um caractere. Para isso usamos o fatiamento (do inglês, *slicing*). Vejamos alguns exemplos:\n"
   ]
  },
  {
   "cell_type": "code",
   "execution_count": null,
   "metadata": {},
   "outputs": [],
   "source": [
    "frase = \"Eu estou aprendendo Python\"\n",
    "# obtendo os dois primeiros caracteres:\n",
    "print(frase[0:2])"
   ]
  },
  {
   "cell_type": "markdown",
   "metadata": {},
   "source": [
    "O fatiamento funciona utilizando dois pontos **(:)** no índice de uma string para indicar um intervalo. Veja a explicação abaixo:\n",
    "\n",
    "![Como funciona o fatiamento](images/fatiamento.png)\n",
    "\n",
    "Observe que o índice do fim é não inclusivo, ou seja, os caracteres usados vão até o índice anterior ao índice do fim.\n",
    "\n",
    "Nós podemos omitir o índice da esquerda para indicar que o índice usado é o zero, representando o início da string:"
   ]
  },
  {
   "cell_type": "code",
   "execution_count": null,
   "metadata": {},
   "outputs": [],
   "source": [
    "frase = \"Eu estou aprendendo Python\"\n",
    "# obtendo os dois primeiros caracteres:\n",
    "print(frase[:2])"
   ]
  },
  {
   "cell_type": "markdown",
   "metadata": {},
   "source": [
    "Da mesma forma que podemos omitir o da direita para indicar que sejam usados os caracteres até o final da string:"
   ]
  },
  {
   "cell_type": "code",
   "execution_count": 1,
   "metadata": {},
   "outputs": [
    {
     "name": "stdout",
     "output_type": "stream",
     "text": [
      "estou aprendendo Python\n"
     ]
    }
   ],
   "source": [
    "frase = \"Eu estou aprendendo Python\"\n",
    "# obtendo uma substring a partir do quarto caractere até o final:\n",
    "print(frase[3:])"
   ]
  },
  {
   "cell_type": "markdown",
   "metadata": {},
   "source": [
    "Usando apenas os dois pontos, a string inteira é utilizada (ou melhor, uma cópia dela):"
   ]
  },
  {
   "cell_type": "code",
   "execution_count": null,
   "metadata": {},
   "outputs": [],
   "source": [
    "frase = \"Eu estou aprendendo Python\"\n",
    "# obtendo uma cópia da string completa\n",
    "print(frase[:])"
   ]
  },
  {
   "cell_type": "markdown",
   "metadata": {},
   "source": [
    "Índices negativos indicam posições a partir do fim:"
   ]
  },
  {
   "cell_type": "code",
   "execution_count": null,
   "metadata": {},
   "outputs": [],
   "source": [
    "frase = \"Eu estou aprendendo Python\"\n",
    "# obtendo apenas o último caractere\n",
    "print(frase[-1:])"
   ]
  },
  {
   "cell_type": "markdown",
   "metadata": {},
   "source": [
    "Tente adivinhar o que será mostrado abaixo, antes de executar a célula."
   ]
  },
  {
   "cell_type": "code",
   "execution_count": null,
   "metadata": {},
   "outputs": [],
   "source": [
    "frase = \"Eu estou aprendendo Python\"\n",
    "# o que será mostrado abaixo?\n",
    "print(frase[9:-7])"
   ]
  },
  {
   "cell_type": "markdown",
   "metadata": {},
   "source": [
    "## Importando módulos\n",
    "\n",
    "Em Python, muitas vezes as funções estão organizadas em arquivos chamados módulos. Por sua vez, os módulos são organizados em pacotes ou bibliotecas e Python possui várias bibliotecas disponíveis.\n",
    "\n",
    "Por exemplo, a biblioteca `math`. Para usá-la precisamos importá-la:\n",
    "```python\n",
    "import math\n",
    "```\n",
    "\n",
    "Depois de importá-la, podemos usar a notação de ponto para acessar as funções disponíveis na biblioteca. Veja o exemplo abaixo, no qual usamos a função sqrt (que calcula a raiz quadrada)."
   ]
  },
  {
   "cell_type": "code",
   "execution_count": 1,
   "metadata": {},
   "outputs": [
    {
     "name": "stdout",
     "output_type": "stream",
     "text": [
      "3.0\n"
     ]
    }
   ],
   "source": [
    "import math\n",
    "print(math.sqrt(9))"
   ]
  },
  {
   "cell_type": "markdown",
   "metadata": {},
   "source": [
    "Quando usamos import dessa maneira estamos importando toda a biblioteca math. Às vezes, precisamos usar apenas uma função ou variável da biblioteca. Nesse caso nós podemos importar apenas a função desejada:\n",
    "```python\n",
    "from math import sqrt\n",
    "```\n",
    "\n",
    "E nesse caso, nós não precisamos usar a notação de ponto, chamando `sqrt` diretamente. Por exemplo:"
   ]
  },
  {
   "cell_type": "code",
   "execution_count": 2,
   "metadata": {},
   "outputs": [
    {
     "name": "stdout",
     "output_type": "stream",
     "text": [
      "3.0\n"
     ]
    }
   ],
   "source": [
    "from math import sqrt\n",
    "print(sqrt(9))"
   ]
  },
  {
   "cell_type": "markdown",
   "metadata": {},
   "source": [
    "A biblioteca math também inclui a variável `pi`. Na célula abaixo, peça ao usuário para digitar um raio de uma circunferência (guarde em uma variável `raio` do tipo `float`) e mostre o comprimento da circunferência ( $2*\\pi*r$). Não se esqueça de importar a variável pi no início da célula."
   ]
  },
  {
   "cell_type": "code",
   "execution_count": null,
   "metadata": {
    "collapsed": true
   },
   "outputs": [],
   "source": []
  },
  {
   "cell_type": "markdown",
   "metadata": {},
   "source": [
    "O código abaixo mostra como ver todas as variáveis e funções disponíveis em uma biblioteca em python:"
   ]
  },
  {
   "cell_type": "code",
   "execution_count": 3,
   "metadata": {},
   "outputs": [
    {
     "name": "stdout",
     "output_type": "stream",
     "text": [
      "['__doc__', '__file__', '__loader__', '__name__', '__package__', '__spec__', 'acos', 'acosh', 'asin', 'asinh', 'atan', 'atan2', 'atanh', 'ceil', 'copysign', 'cos', 'cosh', 'degrees', 'e', 'erf', 'erfc', 'exp', 'expm1', 'fabs', 'factorial', 'floor', 'fmod', 'frexp', 'fsum', 'gamma', 'gcd', 'hypot', 'inf', 'isclose', 'isfinite', 'isinf', 'isnan', 'ldexp', 'lgamma', 'log', 'log10', 'log1p', 'log2', 'modf', 'nan', 'pi', 'pow', 'radians', 'sin', 'sinh', 'sqrt', 'tan', 'tanh', 'tau', 'trunc']\n"
     ]
    }
   ],
   "source": [
    "import math \n",
    "tudo = dir(math) # Atribui a tudo uma lista de coisas de math\n",
    "print(tudo) # Mostra tudo"
   ]
  },
  {
   "cell_type": "markdown",
   "metadata": {},
   "source": [
    "## Revisão\n",
    "\n",
    "Aprendemos bastante nesse notebook, incluindo:\n",
    "\n",
    "#### Três maneiras de criar strings:\n",
    "\n",
    "```python\n",
    "'Alfa'\n",
    "\"Beta\"\n",
    "str(4)\n",
    "```\n",
    "\n",
    "#### Métodos de strings:\n",
    "\n",
    "```python\n",
    "len(\"Casa\")\n",
    "\"Dado\".upper()\n",
    "\"Escola\".lower()\n",
    "```\n",
    "\n",
    "####  Fatiamento de strings\n",
    "```python\n",
    "\"Python é massa!\"[0:6] \n",
    "\"Vamos em frente!\"[-7:]\n",
    "```\n",
    "\n",
    "#### Mostrar uma string:\n",
    "\n",
    "```python\n",
    "print(\"Fortaleza\")\n",
    "```\n",
    "\n",
    "#### Entrada de dados\n",
    "\n",
    "```python\n",
    "idade = int(input(\"Qual o seu nome? \"))\n",
    "```\n",
    "\n",
    "\n",
    "#### E técnicas mais avançadas de formatação de strings:\n",
    "\n",
    "```python\n",
    "g = \"Geladeira\"\n",
    "h = \"Horizontal\"\n",
    "print (\"%s, %s\" % (g, h))\n",
    "```\n",
    "\n",
    "### Exercícios\n",
    "\n",
    "Na célula abaixo, faça:\n",
    "1. Crie a variável minha_string e lhe atribua qualquer string que você desejar\n",
    "2. Na linha abaixo, mostre o tamanho de minha_string\n",
    "3. Na próxima linha, mostre a versão de minha_string contendo apenas caracteres maiúsculos."
   ]
  },
  {
   "cell_type": "code",
   "execution_count": null,
   "metadata": {
    "collapsed": true
   },
   "outputs": [],
   "source": []
  },
  {
   "cell_type": "markdown",
   "metadata": {},
   "source": [
    "Ao terminar, você já pode ir para o próximo notebook: [Exercícios sobre Estrutura Sequencial](04-exercicios.ipynb)."
   ]
  }
 ],
 "metadata": {
  "kernelspec": {
   "display_name": "Python 3",
   "language": "python",
   "name": "python3"
  },
  "language_info": {
   "codemirror_mode": {
    "name": "ipython",
    "version": 3
   },
   "file_extension": ".py",
   "mimetype": "text/x-python",
   "name": "python",
   "nbconvert_exporter": "python",
   "pygments_lexer": "ipython3",
   "version": "3.5.2"
  }
 },
 "nbformat": 4,
 "nbformat_minor": 2
}
