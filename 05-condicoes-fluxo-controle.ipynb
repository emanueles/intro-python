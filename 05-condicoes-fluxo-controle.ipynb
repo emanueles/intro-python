{
 "cells": [
  {
   "cell_type": "markdown",
   "metadata": {
    "collapsed": true
   },
   "source": [
    "# Seguindo o fluxo\n",
    "\n",
    "> Antes de iniciar qualquer notebook, é importante que você limpe as saídas de todas as células para que você só veja o resultado de uma célula quando executá-la. Para isso, utilize o menu **Cell > All Output > Clear **.\n",
    "\n",
    "Assim como na vida real, às vezes queremos que o nosso código seja capaz de tomar decisões.\n",
    "\n",
    "Os códigos que escrevemos até agora possuíam, por assim dizer, apenas uma \"linha de raciocínio\": eles podiam somar dois números ou mostrar alguma coisa na tela, mas eles não tinham a capacidade de escolher uma das duas coisas.\n",
    "\n",
    "O **controle de fluxo** nos dá essa capacidade de escolha entre resultados baseado no que esteja acontecendo no programa.\n",
    "\n",
    "Veja o código na célula abaixo. Esse é o tipo de código que você será capaz de escrever uma vez tendo dominado controle de fluxo. \n",
    "\n",
    "Execute a célula abaixo (```Shift + Enter```) para ver o que acontece."
   ]
  },
  {
   "cell_type": "code",
   "execution_count": 1,
   "metadata": {},
   "outputs": [
    {
     "name": "stdout",
     "output_type": "stream",
     "text": [
      "Você acabou de entrar no castelo!\n",
      "Existem duas portas. Você abre a porta da esquerda ou da direita?\n",
      "\n",
      "Digite esquerda ou direita e pressione 'Enter': Esquerda\n",
      "Esta é a câmara das torturas, prepare-se para sofrer!\n"
     ]
    }
   ],
   "source": [
    "print(\"Você acabou de entrar no castelo!\")\n",
    "print(\"Existem duas portas. Você abre a porta da esquerda ou da direita?\")\n",
    "print()\n",
    "resposta = input(\"Digite esquerda ou direita e pressione 'Enter': \").lower()\n",
    "if resposta == \"esquerda\" or resposta == \"e\":\n",
    "    print(\"Esta é a câmara das torturas, prepare-se para sofrer!\")\n",
    "elif resposta == \"direita\" or resposta == \"d\":\n",
    "    print(\"Esta é a sala das armas, prepare-se para pilhar!\")\n",
    "else:\n",
    "    print(\"Você não escolheu esquerda ou direita! Tente novamente!\")"
   ]
  },
  {
   "cell_type": "markdown",
   "metadata": {},
   "source": [
    "## Operadores relacionais\n",
    "\n",
    "Começaremos com o aspecto mais simples de controle de fluxo: **operadores relacionais**. Existem seis deles:\n",
    "\n",
    "* **igual a (==)**\n",
    "* **diferente de (!=)**\n",
    "* **menor que (<)**\n",
    "* **menor que ou igual a (<=)**\n",
    "* **maior que (>)**\n",
    "* **maior que ou igual a (>=)**\n",
    "\n",
    "Operadores de comparação verificam se um valor é (ou não) igual a, maior que (ou igual a), ou menor que (ou igual a) outro valor.\n",
    "\n",
    "> **Observação: Note que **==** compara se dois valores são iguais, e **=** atribui um valor a uma variável.**\n",
    "\n",
    "Siga as instruções nos comentários da célula abaixo:"
   ]
  },
  {
   "cell_type": "code",
   "execution_count": null,
   "metadata": {
    "collapsed": true
   },
   "outputs": [],
   "source": [
    "# Atribua True ou False de forma apropriada nas linhas abaixo\n",
    "\n",
    "# Atribua True se 17 < 328 ou False caso contrário.\n",
    "bool_um = True   # Já fizemos essa pra você.\n",
    "\n",
    "# Atribua True se 100 == (2 * 50) ou False caso contrário.\n",
    "bool_dois = \n",
    "\n",
    "# Atribua True se 19 <= 19 ou False caso contrário.\n",
    "bool_tres = \n",
    "\n",
    "# Atribua True se -22 >= -18 ou False caso contrário.\n",
    "bool_quatro = \n",
    "\n",
    "# Atribua True se 99 != (98 + 1) ou False caso contrário.\n",
    "bool_cinco = "
   ]
  },
  {
   "cell_type": "markdown",
   "metadata": {},
   "source": [
    "Repita o exercício na célula abaixo, só que agora vamos usar expressões mais complexas:"
   ]
  },
  {
   "cell_type": "code",
   "execution_count": null,
   "metadata": {
    "collapsed": true
   },
   "outputs": [],
   "source": [
    "# Atribua True ou False de forma apropriada nas linhas abaixo\n",
    "\n",
    "# (20 - 10) > 15\n",
    "bool_um = False    # Já fizemos essa pra você.\n",
    "\n",
    "# (10 + 17) == 3**16\n",
    "# Lembre-se de que ** pode ser lido como 'elevado a'. 3**16 é aproximadamente 43 milhões.\n",
    "bool_dois = \n",
    "\n",
    "# 1**2 <= -1\n",
    "bool_tres = \n",
    "\n",
    "# 40 * 4 >= -4\n",
    "bool_quatro = \n",
    "\n",
    "# 100 != 10**2\n",
    "bool_cinco = "
   ]
  },
  {
   "cell_type": "markdown",
   "metadata": {},
   "source": [
    "Comparações resultam em True ou False, os quais são booleanos como aprendemos no notebook [Introdução à Sintaxe do Python](02-sintaxe.ipynb).\n",
    "\n",
    "```python\n",
    "# Faça-me verdadeira!\n",
    "bool_um = 3 < 5\n",
    "```\n",
    "\n",
    "Agora vamos inverter: nós lhe daremos o booleano e você irá escrever uma expressão cujo resultado é o booleano pedido, assim como no exemplo acima."
   ]
  },
  {
   "cell_type": "code",
   "execution_count": null,
   "metadata": {
    "collapsed": true
   },
   "outputs": [],
   "source": [
    "# Crie expressões relacionais apropriadas nas linhas abaixo:\n",
    "\n",
    "# Faça-me verdadeira!\n",
    "bool_um = 3 < 5  # Já fizemos essa pra você.\n",
    "\n",
    "# Faça-me falsa!\n",
    "bool_dois = \n",
    "\n",
    "# Faça-me verdadeira!\n",
    "bool_tres = \n",
    "\n",
    "# Faça-me falsa!\n",
    "bool_quatro = \n",
    "\n",
    "# Faça-me verdadeira!\n",
    "bool_cinco = "
   ]
  },
  {
   "cell_type": "markdown",
   "metadata": {},
   "source": [
    "## Operadores booleanos (ou lógicos)\n",
    "\n",
    "Operadores booleanos atuam em expressões booleanas e o resultado é um valor booleano. Existem três operadores booleanos:\n",
    "\n",
    "* **and**, do inglês e (conjunção), checa se as duas expressões são verdadeiras;\n",
    "* **or**, do inglês ou (disjunção), checa se pelo menos uma das expressões é verdadeira;\n",
    "* **not**, do inglês não (negação), que retorna o oposto da expressão.\n",
    "\n",
    "É comum contruirmos as tabelas-verdade dos operadores. Uma tabela-verdade é o conjunto de todas as possibilidades combinatórias entre os valores de diversas variáveis booleanas e um conjunto de operadores booleanos. Veja a Figura abaixo:\n",
    "\n",
    "![Tabelas-verdade](images/tabelas-verdade.png)\n",
    "\n",
    "### O operador and\n",
    "\n",
    "O operador **and** retorna **True** quando as expressões nos dois lados de **and** são verdadeiras. Por exemplo:\n",
    "\n",
    "```\n",
    "1 < 2 and 2 < 3 é True;\n",
    "1 < 2 and 2 > 3 é False.\n",
    "```\n",
    "\n",
    "Vamos praticar o uso de **and**. \n",
    "\n",
    "Na célula abaixo, atribua a cada variável o valor booleano apropriado. Não copie a expressão, apenas o resultado dela.\n",
    "\n",
    "1. Faça bool_um igual ao resultado de  **``` False and False```**\n",
    "2. Faça bool_dois igual ao resultado de  ``` -(-(-(-2))) == -2 and 4 >= 16 ** 0.5```\n",
    "3. Faça bool_tres igual ao resultado de **``` 19 % 4 != 300 / 10 / 10 and False```**\n",
    "4. Faça bool_quatro igual ao resultado de ```  -(1 ** 2) < 2 ** 0 and 10 % 10 <= 20 - 10 * 2```\n",
    "5. Faça bool_cinco igual ao resultado de **``` True and True```**\n"
   ]
  },
  {
   "cell_type": "code",
   "execution_count": null,
   "metadata": {},
   "outputs": [],
   "source": [
    "bool_um = \n",
    "\n",
    "bool_dois = \n",
    "\n",
    "bool_tres = \n",
    "\n",
    "bool_quatro = \n",
    "\n",
    "bool_cinco = "
   ]
  },
  {
   "cell_type": "markdown",
   "metadata": {},
   "source": [
    "### O Operador or\n",
    "\n",
    "O operador **or** retorna **True** quando pelo menos uma das expressões nos dois lados de **or** for verdadeira. Por exemplo:\n",
    "\n",
    "```\n",
    "1 < 2 or 2 > 3 é True;\n",
    "1 > 2 or 2 > 3 é False.\n",
    "```\n",
    "\n",
    "Vamos praticar o uso de **or**. \n",
    "\n",
    "Na célula abaixo, atribua a cada variável o valor booleano apropriado. Não copie a expressão, apenas o resultado dela.\n",
    "\n",
    "1. Faça bool_um igual ao resultado de  ``` 2 ** 3 == 108 % 100 or 'Clark' == 'Rei Artur' ```\n",
    "2. Faça bool_dois igual ao resultado de **```True or False```**\n",
    "3. Faça bool_tres igual ao resultado de ```100 ** 0.5 >= 50 or False```\n",
    "4. Faça bool_quatro igual ao resultado de **```True or True```**\n",
    "5. Faça bool_cinco igual ao resultado de ``` 1 ** 100 == 100 ** 1 or 3 * 2 * 1 != 3 + 2 + 1```"
   ]
  },
  {
   "cell_type": "code",
   "execution_count": null,
   "metadata": {
    "collapsed": true
   },
   "outputs": [],
   "source": [
    "bool_um = \n",
    "\n",
    "bool_dois = \n",
    "\n",
    "bool_tres = \n",
    "\n",
    "bool_quatro = \n",
    "\n",
    "bool_cinco = "
   ]
  },
  {
   "cell_type": "markdown",
   "metadata": {},
   "source": [
    "### O Operador not\n",
    "\n",
    "O operador **not** retorna **True** para expressões falsas e **False** para expressões verdadeiras. Por exemplo:\n",
    "\n",
    "```\n",
    "not False vai ser avaliado como True,\n",
    "enquanto que not 41 > 40 retornará False.\n",
    "```\n",
    "\n",
    "Vamos praticar o uso de **not**. \n",
    "\n",
    "Na célula abaixo, atribua a cada variável o valor booleano apropriado. Não copie a expressão, apenas o resultado dela.\n",
    "\n",
    "1. Faça bool_um igual ao resultado de  **``` not True ```**\n",
    "2. Faça bool_dois igual ao resultado de ``` not 3 ** 4 < 4 ** 3```\n",
    "3. Faça bool_tres igual ao resultado de **```not 10 % 3 <= 10 % 2```**\n",
    "4. Faça bool_quatro igual ao resultado de ```not 3 ** 2 + 4 ** 2 != 5 ** 2```\n",
    "5. Faça bool_cinco igual ao resultado de **``` not not False```**"
   ]
  },
  {
   "cell_type": "code",
   "execution_count": null,
   "metadata": {
    "collapsed": true
   },
   "outputs": [],
   "source": [
    "bool_um = \n",
    "\n",
    "bool_dois = \n",
    "\n",
    "bool_tres = \n",
    "\n",
    "bool_quatro = \n",
    "\n",
    "bool_cinco = "
   ]
  },
  {
   "cell_type": "markdown",
   "metadata": {},
   "source": [
    "### Precedência de operadores booleanos\n",
    "\n",
    "Os operadores booleanos também possuem uma ordem de prioridade para \n",
    "serem resolvidos conforme ilustrado na figura abaixo: \n",
    "\n",
    "![Ordem de precedência dos operadores booleanos](images/operadores_booleanos_precedencia.png)\n",
    "\n",
    "> **Observação: Lembre-se de que parênteses possuem sempre a prioridade mais alta e são resolvidos primeiro.**\n",
    "\n",
    "Vamos praticar. \n",
    "\n",
    "Na célula abaixo, atribua a cada variável o valor booleano apropriado. Não copie a expressão, apenas o resultado dela.\n",
    "\n",
    "1. Faça bool_um igual ao resultado de  **``` False or not True and True ```**\n",
    "2. Faça bool_dois igual ao resultado de **``` False and not True or True```**\n",
    "3. Faça bool_tres igual ao resultado de **```True and not (False or False)```**\n",
    "4. Faça bool_quatro igual ao resultado de **```not not True or False and not True```**\n",
    "5. Faça bool_cinco igual ao resultado de **``` False or not (True and True)```**"
   ]
  },
  {
   "cell_type": "code",
   "execution_count": null,
   "metadata": {
    "collapsed": true
   },
   "outputs": [],
   "source": [
    "bool_um = \n",
    "\n",
    "bool_dois = \n",
    "\n",
    "bool_tres = \n",
    "\n",
    "bool_quatro = \n",
    "\n",
    "bool_cinco = "
   ]
  },
  {
   "cell_type": "markdown",
   "metadata": {},
   "source": [
    "Estamos quase terminando com operadores booleanos.\n",
    "\n",
    "```python\n",
    "# Faça-me falsa!\n",
    "bool_um = (2 <= 2) and \"Alfa\" == \"Beta\"\n",
    "```\n",
    "Dessa vez, nós lhe daremos o resultado esperado e você usará alguma combinação de operadores booleanos para obter o mesmo resultado.\n",
    "\n",
    "Lembre-se de que os operadores booleanos são **and, or** e **not**. Use cada um deles pelo menos uma vez.\n"
   ]
  },
  {
   "cell_type": "code",
   "execution_count": null,
   "metadata": {
    "collapsed": true
   },
   "outputs": [],
   "source": [
    "# Crie expressões booleanas apropriadas nas linhas abaixo:\n",
    "\n",
    "# Faça-me falsa!\n",
    "bool_um = (2 <= 2) and \"Alfa\" == \"Beta\" # Já fizemos essa pra você.\n",
    "\n",
    "# Faça-me verdadeira!\n",
    "bool_dois = \n",
    "\n",
    "# Faça-me falsa!\n",
    "bool_tres = \n",
    "\n",
    "# Faça-me verdadeira!\n",
    "bool_quatro = \n",
    "\n",
    "# Faça-me verdadeira!\n",
    "bool_cinco = "
   ]
  },
  {
   "cell_type": "markdown",
   "metadata": {},
   "source": [
    "### Prioridade de todos os operadores \n",
    "\n",
    "![Prioridade de todos os operadores](images/prioridade_operadores.png)\n"
   ]
  },
  {
   "cell_type": "markdown",
   "metadata": {},
   "source": [
    "## Estrutura Condicional\n",
    "\n",
    "**if** é uma estrutura condicional que executa um **código específico** se o valor da **condição verificada** for True.\n",
    "\n",
    "![Estrutura condicional simples](images/if_simples.png)\n",
    "\n",
    "Aqui está um exemplo do comando if:\n",
    "\n",
    "```python\n",
    "if 8 < 9:\n",
    "    print(\"Oito é menor do que nove!\")\n",
    "```  \n",
    "\n",
    "Nesse exemplo, `8 < 9` é a condição verificada e `print(\"Oito é menor do que nove!\")` é o código específico.\n",
    "\n",
    "Na célula abaixo, se você achar que o comando print será executado, atribua 'S' à variável console, caso contrário, atribua 'N'."
   ]
  },
  {
   "cell_type": "code",
   "execution_count": null,
   "metadata": {},
   "outputs": [],
   "source": [
    "resposta = \"Esquerda\"\n",
    "if resposta == \"Esquerda\":\n",
    "    print(\"Esta é a câmara das torturas, prepare-se para sofrer!\")\n",
    "    \n",
    "# O comando print acima será executado? Tente responder antes de executar a célula."
   ]
  },
  {
   "cell_type": "markdown",
   "metadata": {},
   "source": [
    "Vamos praticar mais o comando if.\n",
    "\n",
    "Na célula abaixo, complete os dois comandos if com uma expressão que retorne **True**:"
   ]
  },
  {
   "cell_type": "code",
   "execution_count": null,
   "metadata": {
    "collapsed": true
   },
   "outputs": [],
   "source": [
    "if :\n",
    "    print(\"Sucesso 1!\")\n",
    "\n",
    "if :\n",
    "    print(\"Sucesso 2!\")"
   ]
  },
  {
   "cell_type": "markdown",
   "metadata": {},
   "source": [
    "## Estrutura Condicional Composta\n",
    "\n",
    "O comando `else` complementa o comando `if`. Um par **if/else** diz o seguinte: \"Se essa expressão for verdadeira, execute esse bloco de código indentado. Senão, execute esse outro bloco de código depois do comando else.\" \n",
    "\n",
    "Diferentemente do if, o else não é acompanhado de uma expressão. Por exemplo:\n",
    "\n",
    "```python\n",
    "if 8 > 9:\n",
    "    print(\"Não serei mostrado porque 8 não é maior do que 9!\")\n",
    "else:\n",
    "    print(\"Eu serei mostrado!\")\n",
    "```\n",
    "\n",
    "Complete os comandos else abaixo. **Observe a indentação de cada linha!**"
   ]
  },
  {
   "cell_type": "code",
   "execution_count": null,
   "metadata": {
    "collapsed": true
   },
   "outputs": [],
   "source": [
    "personagem = input(\"Escolha o personagem (chapolim ou cerebro): \")\n",
    "\n",
    "# o comando print deve ser mostrado para a personagem correspondente\n",
    "if :\n",
    "    print(\"Não contavam com a minha astúcia!\")\n",
    "else:             \n",
    "    print(\"Pink, iremos dominar o mundo!\")\n"
   ]
  },
  {
   "cell_type": "markdown",
   "metadata": {},
   "source": [
    "**`elif`** é uma abreviação para \"else if.\" Significa exatamente o que parece: \"senão, se a expressão seguinte for verdadeira, faça isso!\"\n",
    "```python\n",
    "if 8 > 9:\n",
    "    print(\"Não serei mostrado!\")\n",
    "elif 8 < 9:\n",
    "    print(\"Eu serei mostrado!\")\n",
    "else:\n",
    "    print(\"Também não serei mostrado!\")\n",
    "```    \n",
    "\n",
    "No exemplo acima, o comando `elif` só será verificado se o comando if original retornar False.\n",
    "\n",
    "Na célula abaixo, faça o que se pede:\n",
    "\n",
    "* Na linha 2, preencha o comando if para verificar que numero é maior do que 5.\n",
    "* Na linha 4, preencha o comando elif para verificar que numero é menor do que 5."
   ]
  },
  {
   "cell_type": "code",
   "execution_count": null,
   "metadata": {},
   "outputs": [],
   "source": [
    "numero = 5\n",
    "if ...:\n",
    "    print(\"numero é maior do que 5\")\n",
    "elif ...:\n",
    "    print(\"numero é menor do que 5\")\n",
    "else:\n",
    "    print(\"numero é igual a 5\")"
   ]
  },
  {
   "cell_type": "markdown",
   "metadata": {},
   "source": [
    "## Revisão\n",
    "\n",
    "Veja o que você aprendeu nesse notebook:\n",
    "\n",
    "#### Operadores Relacionais\n",
    "\n",
    "* 3 < 4\n",
    "* 5 >= 5\n",
    "* 10 == 10\n",
    "* 12 != 13\n",
    "\n",
    "#### Operadores booleanos\n",
    "\n",
    "* True or False \n",
    "* (3 < 4) and (5 >= 5)\n",
    "* isso() and not aquilo()\n",
    "\n",
    "#### Estruturas condicionais\n",
    "\n",
    "```python\n",
    "if isso_pode_ser_verdadeiro:\n",
    "    print(\"Isso é realmente verdadeiro.\")\n",
    "elif aquilo_pode_ser_verdadeiro:\n",
    "    print(\"Aquilo é verdadeiro.\")\n",
    "else:\n",
    "    print(\"Nenhuma das anteriores.\")\n",
    "```\n",
    "\n",
    "### Exercícios de revisão\n",
    "\n",
    "Na célula abaixo, escreva uma estrutura condicional composta.<br>\n",
    "A estrutura deve incluir:\n",
    "\n",
    "* comandos if, elif, e else ;\n",
    "* Pelo menos um operador dentre and, or, ou not;\n",
    "* Um operador relacional (==, !=, <, <=, >, or >=);"
   ]
  },
  {
   "cell_type": "code",
   "execution_count": null,
   "metadata": {
    "collapsed": true
   },
   "outputs": [],
   "source": [
    "if ...:# Comece o seu código aqui!\n",
    "    # Não se esqueça de indentar com 4 espaços\n",
    "    # todo o código dentro desse bloco!\n",
    "elif ...:\n",
    "    # Continue com o seu código.\n",
    "else: # Você também deve usar um comando else"
   ]
  },
  {
   "cell_type": "markdown",
   "metadata": {},
   "source": [
    "Ao terminar, você já pode ir para o próximo notebook: [Exercícios sobre Estrutura Condicional](06-exercicios.ipynb)."
   ]
  }
 ],
 "metadata": {
  "kernelspec": {
   "display_name": "Python 3",
   "language": "python",
   "name": "python3"
  },
  "language_info": {
   "codemirror_mode": {
    "name": "ipython",
    "version": 3
   },
   "file_extension": ".py",
   "mimetype": "text/x-python",
   "name": "python",
   "nbconvert_exporter": "python",
   "pygments_lexer": "ipython3",
   "version": "3.5.2"
  }
 },
 "nbformat": 4,
 "nbformat_minor": 2
}
