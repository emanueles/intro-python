{
 "cells": [
  {
   "cell_type": "markdown",
   "metadata": {},
   "source": [
    "# Matrizes em Python\n",
    "\n",
    "Uma matriz é uma variável composta homogênea multidimensional. Ela representa um conjunto de variáveis do mesmo tipo utilizando apenas um único identificador. As variáveis que compõem o conjunto são alocadas sequencialmente na memória. O que distingue as variáveis são **índices** que referenciam sua posição/localização na estrutura (conjunto). Utiliza-se um **índice para cada uma de suas dimensões**.\n",
    "\n",
    "Exemplo de uma matriz $A_{3x3}$:\n",
    "\n",
    "$A = \\left[\\begin{array}{ccc}\n",
    "1 & 3 & 5\\\\\n",
    "3 & 10 & 2\\\\\n",
    "5 & 2 & 8\\\\\n",
    "\\end{array}\\right]$\n",
    "\n",
    "Assim como em vetores, a maneira da qual uma matriz é implementada em um programa varia de linguagem para linguagem.\n",
    "\n",
    "Em Python, matrizes são implementadas como listas de listas. Os índices das dimensões de uma matriz também iniciam em zero.\n",
    "\n",
    "## Definindo uma matriz diretamente no código\n",
    "\n",
    "Para criar a matriz A definida acima em Python, fazemos da seguinte forma:"
   ]
  },
  {
   "cell_type": "code",
   "execution_count": null,
   "metadata": {},
   "outputs": [],
   "source": [
    "A = [[1, 3,  5],\n",
    "     [3, 10, 2],\n",
    "     [5, 2,  8]]\n",
    "print(A)"
   ]
  },
  {
   "cell_type": "markdown",
   "metadata": {},
   "source": [
    "Veja que ao imprimir a matriz A, o python a considera como se fosse uma lista de listas. Assim precisamos formatar a matriz ao mostrá-la na tela:"
   ]
  },
  {
   "cell_type": "code",
   "execution_count": null,
   "metadata": {},
   "outputs": [],
   "source": [
    "A = [[1, 3,  5],\n",
    "     [3, 10, 2],\n",
    "     [5, 2,  8]]\n",
    "\n",
    "# Laço para mostrar a Matriz:\n",
    "\n",
    "for i in range(len(A)):\n",
    "    # para cada linha de A\n",
    "    print(A[i])"
   ]
  },
  {
   "cell_type": "markdown",
   "metadata": {},
   "source": [
    "## Inicializando uma matriz com 0s\n",
    "\n",
    "Para inicializar uma matriz com 0s, usamos uma técnica parecida com a utilizada na inicialização de vetores. Lembre que para inicializar um vetor com 0s, fizemos assim:\n",
    "\n",
    "```python\n",
    "v = [0]*5\n",
    "```\n",
    "\n",
    "O código acima irá criar um vetor v com 5 elementos iguais a 0:\n",
    "```python\n",
    "v = [0, 0, 0, 0, 0]\n",
    "```\n",
    "Para uma matriz 3x4, fazemos assim:"
   ]
  },
  {
   "cell_type": "code",
   "execution_count": null,
   "metadata": {},
   "outputs": [],
   "source": [
    "A = []\n",
    "for i in range(3): #vamos criar uma linha com 0s na matriz\n",
    "    linha = [0]*4 # a linha contém 4 colunas\n",
    "    A.append(linha) # a linha é adicionada à matriz\n",
    "\n",
    "# Laço para mostrar a Matriz:\n",
    "\n",
    "for i in range(len(A)):\n",
    "    # para cada linha de A\n",
    "    print(A[i])"
   ]
  },
  {
   "cell_type": "markdown",
   "metadata": {},
   "source": [
    "Na célula abaixo, crie uma matriz 4x3 com 1s e a mostre ao final usando o laço acima."
   ]
  },
  {
   "cell_type": "code",
   "execution_count": null,
   "metadata": {
    "collapsed": true
   },
   "outputs": [],
   "source": [
    "# Escreva o seu código aqui"
   ]
  },
  {
   "cell_type": "markdown",
   "metadata": {},
   "source": [
    "## Acessando elementos de uma matriz\n",
    "\n",
    "Você pode acessar um elemento individual na matriz pelos seus índices. O primeiro índice indica o número da linha (sempre iniciando em zero) e o segundo índice indica o número da coluna (também sempre iniciando em zero). Os índices aparecem diretamente depois do nome da matriz, usando um par de colchetes para cada:\n",
    "```python\n",
    "matriz[i_linha][i_coluna]\n",
    "```\n",
    "Seja a matriz B:\n",
    "\n",
    "$B = \\left[\\begin{array}{ccc}\n",
    "1 & 4 & 5\\\\\n",
    "3 & 10 & 2\\\\\n",
    "7 & 6 & 8\\\\\n",
    "\\end{array}\\right]$\n",
    "\n",
    "Para mostrar o elemento 1, que está na linha 0, coluna 0:"
   ]
  },
  {
   "cell_type": "code",
   "execution_count": null,
   "metadata": {},
   "outputs": [],
   "source": [
    "B = [[1,4,5],\n",
    "     [3,10,2],\n",
    "     [7, 6, 8]]\n",
    "print(B[0][0])"
   ]
  },
  {
   "cell_type": "markdown",
   "metadata": {},
   "source": [
    "Na célula abaixo, escreva os comandos `print` para mostrar os elementos **4, 2, 8** da matriz **B**, mostrando cada um deles em uma linha."
   ]
  },
  {
   "cell_type": "code",
   "execution_count": null,
   "metadata": {
    "collapsed": true
   },
   "outputs": [],
   "source": [
    "# Escreva o seu código aqui"
   ]
  },
  {
   "cell_type": "markdown",
   "metadata": {},
   "source": [
    "## Alterando elementos de uma matriz\n",
    "\n",
    "Para alterar um elemento de uma matriz, usamos os índices da mesma maneira:\n",
    "```python\n",
    "matriz[i_linha][i_coluna] = novo elemento\n",
    "```\n",
    "\n",
    "Seja a seguinte matriz C:\n",
    "\n",
    "$C = \\left[\\begin{array}{cccc}\n",
    "0 & 0 & 5 & 0\\\\\n",
    "0 & 11 & 0 & 0\\\\\n",
    "7 & 0 & 0 & 8\\\\\n",
    "\\end{array}\\right]$\n",
    "\n",
    "Na célula abaixo, complete com os comandos que vão deixar a matriz C criada com 0s igual a matriz C acima:"
   ]
  },
  {
   "cell_type": "code",
   "execution_count": null,
   "metadata": {},
   "outputs": [],
   "source": [
    "C = []\n",
    "for i in range(3): #vamos criar uma linha com 0s na matriz\n",
    "    linha = [0]*4 # a linha contém 4 colunas\n",
    "    C.append(linha) # a linha é adicionada à matriz\n",
    "    \n",
    "# inserindo o elemento 5\n",
    "C[0][2] = 5\n",
    "\n",
    "# Insira os outros elementos abaixo\n",
    "\n",
    "\n",
    "\n",
    "# Agora mostre a matriz formatada e confira a sua resposta\n",
    "\n",
    "\n"
   ]
  },
  {
   "cell_type": "markdown",
   "metadata": {},
   "source": [
    "## Preenchendo uma matriz\n",
    "Para preencher uma matriz com números digitados pelo usuário, utilizamos dois laços.\n",
    "\n",
    "Por exemplo, para preencher uma matriz 2x3:"
   ]
  },
  {
   "cell_type": "code",
   "execution_count": null,
   "metadata": {},
   "outputs": [],
   "source": [
    "# modo 1: a matriz é criada antes da entrada do usuário\n",
    "A = []\n",
    "for i in range(2): #vamos criar uma linha com 0s na matriz\n",
    "    linha = [0]*3 # a linha contém 3 colunas\n",
    "    A.append(linha) # a linha é adicionada à matriz\n",
    "    \n",
    "# pede os dados do usuário:\n",
    "for i in range(2): # for para as linhas\n",
    "    for j in range(3): #for para as colunas\n",
    "        A[i][j] = float(input(\"Digite o número na linha %d, coluna %d: \"%(i,j)))\n",
    "\n",
    "# laço para mostrar a matriz\n",
    "for i in range(2): # for para as linhas\n",
    "    print(A[i])"
   ]
  },
  {
   "cell_type": "code",
   "execution_count": null,
   "metadata": {},
   "outputs": [],
   "source": [
    "# modo 2: A matriz é criada juntamente com a entrada do usuário\n",
    "A = []\n",
    "for i in range(2): # for para as linhas\n",
    "    A.append([0]*3) # adiciona uma linha com 3 colunas à matriz    \n",
    "    for j in range(3): #for para as colunas\n",
    "        A[i][j] = float(input(\"Digite o número na linha %d, coluna %d: \"%(i,j)))\n",
    "        \n",
    "# laço para mostrar a matriz\n",
    "for i in range(2): # for para as linhas\n",
    "    print(A[i])"
   ]
  },
  {
   "cell_type": "markdown",
   "metadata": {},
   "source": [
    "Na célula abaixo, peça para o usuário preencher uma matriz de inteiros definida por ele. Peça para ele entrar com o número de linhas e o número de colunas e depois peça para ele entrar com cada elemento da matriz. Use qualquer um dos modos acima. Ao final, mostre a matriz formatada."
   ]
  },
  {
   "cell_type": "code",
   "execution_count": null,
   "metadata": {},
   "outputs": [],
   "source": [
    "# Escreva o seu código acima"
   ]
  },
  {
   "cell_type": "markdown",
   "metadata": {},
   "source": [
    "## Percorrendo uma matriz (forma 1)\n",
    "\n",
    "Para percorrer todos os elementos de uma matriz, percorrendo todos os elementos de uma linha antes de ir para a próxima linha, o primeiro `for` deve ser para as linhas e o segundo para as colunas:"
   ]
  },
  {
   "cell_type": "code",
   "execution_count": null,
   "metadata": {},
   "outputs": [],
   "source": [
    "mat = [[4, 5, 1, 10],\n",
    "       [16,11,76, 8],\n",
    "       [9, 54, 32, 89]]\n",
    "\n",
    "for i in range(3):\n",
    "    for j in range(4):\n",
    "        print(mat[i][j])"
   ]
  },
  {
   "cell_type": "markdown",
   "metadata": {},
   "source": [
    "## Percorrendo uma matriz (forma 2)\n",
    "Para percorrer todos os elementos de uma matriz, percorrendo todos os elementos de uma coluna antes de ir para a próxima coluna, o primeiro `for` deve ser para as colunas e o segundo para as linhas:"
   ]
  },
  {
   "cell_type": "code",
   "execution_count": null,
   "metadata": {},
   "outputs": [],
   "source": [
    "mat = [[4, 5, 1, 10],\n",
    "       [16,11,76, 8],\n",
    "       [9, 54, 32, 89]]\n",
    "\n",
    "for j in range(4):\n",
    "    for i in range(3):\n",
    "        print(mat[i][j]) # a posição do elemento continua a mesma linha i coluna j"
   ]
  },
  {
   "cell_type": "markdown",
   "metadata": {},
   "source": [
    "Na célula abaixo, faça um programa que mostre somente os elementos da diagonal principal de B. Você deve definir a matriz B antes de mostrar os elementos da diagonal.\n",
    "\n",
    "$B = \\left[\\begin{array}{ccc}\n",
    "1 & 4 & 5\\\\\n",
    "3 & 10 & 2\\\\\n",
    "7 & 6 & 8\\\\\n",
    "\\end{array}\\right]$\n",
    "\n",
    "> **Dica:** A diagonal principal contém os elementos cujo índice da linha é igual ao índice da coluna\n"
   ]
  },
  {
   "cell_type": "code",
   "execution_count": null,
   "metadata": {},
   "outputs": [],
   "source": [
    "# Escreva o seu código aqui"
   ]
  },
  {
   "cell_type": "markdown",
   "metadata": {
    "collapsed": true
   },
   "source": [
    "Ao terminar, você já pode ir para o próximo notebook: [Exercícios sobre Matrizes](18-matrizes-exercicios.ipynb)."
   ]
  }
 ],
 "metadata": {
  "kernelspec": {
   "display_name": "Python 3",
   "language": "python",
   "name": "python3"
  },
  "language_info": {
   "codemirror_mode": {
    "name": "ipython",
    "version": 3
   },
   "file_extension": ".py",
   "mimetype": "text/x-python",
   "name": "python",
   "nbconvert_exporter": "python",
   "pygments_lexer": "ipython3",
   "version": "3.5.2"
  }
 },
 "nbformat": 4,
 "nbformat_minor": 2
}
