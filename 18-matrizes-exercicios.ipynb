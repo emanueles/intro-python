{
 "cells": [
  {
   "cell_type": "markdown",
   "metadata": {},
   "source": [
    "# Exercícios sobre Matrizes\n",
    "\n",
    "> Antes de iniciar qualquer notebook, é importante que você limpe as saídas de todas as células para que você só veja o resultado de uma célula quando executá-la. Para isso, utilize o menu **Cell > All Output > Clear **.\n",
    "\n",
    "## Requisitos\n",
    "\n",
    "Certifique-se de que você concluiu os seguintes notebooks:\n",
    "ão ao Python](01-intro.ipynb)\n",
    "* [Introdução à sintaxe de Python](02-sintaxe.ipynb)\n",
    "* [Strings, saída e entrada de dados e a biblioteca math](03-strings.ipynb)\n",
    "* [Exercícios sobre Estrutura Sequencial](04-exercicios.ipynb)\n",
    "* [Estrutura condicional](05-condicoes-fluxo-controle.ipynb)\n",
    "* [O comando while](07-while.ipynb)\n",
    "* [Exercícios sobre o comando while](08-while-exercicios.ipynb)\n",
    "* [O comando for](09-for.ipynb)\n",
    "* [Exercícios sobre o comando for](11-for-exercicios-parte2.ipynb)\n",
    "* [Exercícios sobre strings](12-exercicios-strings.ipynb)\n",
    "* [Exercícios de revisão](13-exercicios-revisao.ipynb)\n",
    "* [Listas em Python](14-vetores-listas.ipynb)\n",
    "* [Exercícios sobre Vetores (Listas)](15-listas-exercicios-parte1.ipynb)\n",
    "* [Exercícios sobre Listas (parte 2)](16-listas-exercicios-parte2.ipynb)\n",
    "* [ Matrizes em Python](17-matrizes.ipynb)\n",
    "\n",
    "## Exercícios"
   ]
  },
  {
   "cell_type": "markdown",
   "metadata": {},
   "source": [
    "### Questão 1\n",
    "\n",
    "Na célula abaixo, faça um programa que preencha uma matriz bidimensional 4 x 3 com números inteiros e que mostre a posição (linha e coluna) dos números pares.\n",
    "\n",
    "> **Estratégia:** Primeiro use um laço para preencher a matriz com os números digitados pelo usuário. Depois use outro laço para percorrer a matriz e para cada elemento, se ele for par, você mostra o elemento e a linha e coluna dele.\n"
   ]
  },
  {
   "cell_type": "code",
   "execution_count": 1,
   "metadata": {
    "collapsed": true
   },
   "outputs": [],
   "source": [
    "# Escreva o seu código aqui"
   ]
  },
  {
   "cell_type": "markdown",
   "metadata": {},
   "source": [
    "### Questão 2\n",
    "\n",
    "Na célula abaixo, faça um programa que preencha uma matriz bidimensional 3 x 2 com números inteiros e que mostre a posição (linha e coluna) dos números primos.\n",
    "\n",
    "> **Estratégia:** Primeiro use um laço para preencher a matriz com os números digitados pelo usuário. Depois use outro laço para percorrer a matriz e para cada elemento, se ele for primo, você mostra o elemento e a linha e coluna dele. Use o código que você escreveu para números primos usado na aula passada."
   ]
  },
  {
   "cell_type": "code",
   "execution_count": null,
   "metadata": {
    "collapsed": true
   },
   "outputs": [],
   "source": [
    "# Escreva o seu código aqui"
   ]
  },
  {
   "cell_type": "markdown",
   "metadata": {},
   "source": [
    "### Questão 3\n",
    "\n",
    "Na célula abaixo, escreva um programa que crie e mostre uma matriz identidade de ordem n. A ordem é entrada pelo usuário. Uma matriz identidade é uma matriz quadrada cujos elementos na diagonal principal são iguais a 1 e os demais são iguais a 0. Veja um exemplo de uma matriz identidade de ordem 3:\n",
    "\n",
    "$I = \\left[\\begin{array}{ccc}\n",
    "1 & 0 & 0\\\\\n",
    "0 & 1 & 0\\\\\n",
    "0 & 0 & 1\\\\\n",
    "\\end{array}\\right]$"
   ]
  },
  {
   "cell_type": "code",
   "execution_count": null,
   "metadata": {
    "collapsed": true
   },
   "outputs": [],
   "source": [
    "# Escreva o seu código aqui"
   ]
  },
  {
   "cell_type": "markdown",
   "metadata": {},
   "source": [
    "### Questão 4\n",
    "\n",
    "Na célula abaixo, faça um programa que preencha duas matrizes, A e B, de tamanho m x n (entrados pelo usuário), contendo números reais, calcule e mostre a matriz resultante C como a soma de A e B. As matrizes devem ser preenchidas uma após a outra. Note que as matrizes devem ter o mesmo tamanho e portanto peça o número de linhas e colunas apenas uma vez. A matriz C deve ser exibida formatada.\n",
    "\n",
    "> **Estratégia:** \n",
    "> 1. Peça o número de linhas e colunas das matrizes e guarde nas variáveis m e n, respectivamente. \n",
    "> 2. Use um laço aninhado para preencher a matriz A e outro laço aninhado para preencher a matriz B.\n",
    "> 3. Use um terceiro laço aninhado para preencher C.\n",
    "> 4. Finalmente, use um último laço para mostrar a matriz C formatada."
   ]
  },
  {
   "cell_type": "code",
   "execution_count": null,
   "metadata": {
    "collapsed": true
   },
   "outputs": [],
   "source": [
    "# Escreva o seu código aqui"
   ]
  },
  {
   "cell_type": "markdown",
   "metadata": {},
   "source": [
    "### Questão 5\n",
    "\n",
    "Na célula abaixo, dada a matriz M, calcule dois vetores: um vetor `soma_linhas` contendo a soma dos elementos de cada linha e um vetor `soma_colunas` contendo a soma dos elementos de cada coluna. Escreva o seu código de tal maneira que se o número de linhas e colunas de M for alterado, o seu código ainda funciona, ou seja, use sempre a função `len` quando precisar acessar o número de linhas e colunas de M."
   ]
  },
  {
   "cell_type": "code",
   "execution_count": null,
   "metadata": {
    "collapsed": true
   },
   "outputs": [],
   "source": [
    "M = [[3, 4, 2, -8],\n",
    "     [1, 10, 5, 7],\n",
    "     [9, -4, 2, 6],\n",
    "     [2, 7, 6, 3],\n",
    "     [8, -6, 15, 7]]\n",
    "\n",
    "# Escreva o seu código aqui"
   ]
  },
  {
   "cell_type": "markdown",
   "metadata": {},
   "source": [
    "### Questão 6\n",
    "Na célula abaixo, peça para o usuário entrar com uma matriz A de inteiros de tamanho m x n e calcule e mostre uma nova matriz B que é a transposta de A. A matriz transposta de uma matriz é uma matriz com as suas linhas e colunas trocadas.\n",
    "\n"
   ]
  },
  {
   "cell_type": "code",
   "execution_count": null,
   "metadata": {
    "collapsed": true
   },
   "outputs": [],
   "source": [
    "# Escreva o seu código aqui"
   ]
  }
 ],
 "metadata": {
  "kernelspec": {
   "display_name": "Python 3",
   "language": "python",
   "name": "python3"
  },
  "language_info": {
   "codemirror_mode": {
    "name": "ipython",
    "version": 3
   },
   "file_extension": ".py",
   "mimetype": "text/x-python",
   "name": "python",
   "nbconvert_exporter": "python",
   "pygments_lexer": "ipython3",
   "version": "3.5.2"
  }
 },
 "nbformat": 4,
 "nbformat_minor": 2
}
