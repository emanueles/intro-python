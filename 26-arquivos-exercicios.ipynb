{
 "cells": [
  {
   "cell_type": "markdown",
   "metadata": {},
   "source": [
    "# Exercícios sobre Arquivos\n",
    "\n",
    "> Antes de iniciar qualquer notebook, é importante que você limpe as saídas de todas as células para que você só veja o resultado de uma célula quando executá-la. Para isso, utilize o menu **Cell > All Output > Clear **.\n",
    "\n",
    "## Requisitos\n",
    "\n",
    "Certifique-se de que você concluiu os seguintes notebooks:\n",
    "* [Introdução ao Python](01-intro.ipynb)\n",
    "* [Introdução à sintaxe de Python](02-sintaxe.ipynb)\n",
    "* [Strings, saída e entrada de dados e a biblioteca math](03-strings.ipynb)\n",
    "* [Exercícios sobre Estrutura Sequencial](04-exercicios.ipynb)\n",
    "* [Estrutura condicional](05-condicoes-fluxo-controle.ipynb)\n",
    "* [O comando while](07-while.ipynb)\n",
    "* [Exercícios sobre o comando while](08-while-exercicios.ipynb)\n",
    "* [O comando for](09-for.ipynb)\n",
    "* [Exercícios sobre o comando for](11-for-exercicios-parte2.ipynb)\n",
    "* [Exercícios sobre strings](12-exercicios-strings.ipynb)\n",
    "* [Exercícios de revisão](13-exercicios-revisao.ipynb)\n",
    "* [Listas em Python](14-vetores-listas.ipynb)\n",
    "* [Exercícios sobre Vetores (Listas)](15-listas-exercicios-parte1.ipynb)\n",
    "* [Exercícios sobre Listas (parte 2)](16-listas-exercicios-parte2.ipynb)\n",
    "* [Matrizes em Python](17-matrizes.ipynb)\n",
    "* [Exercícios sobre Matrizes)](18-matrizes-exercicios.ipynb)\n",
    "* [Funções](19-funcoes.ipynb)\n",
    "* [Exercícios sobre Funções](20-funcoes-exercicios.ipynb)\n",
    "* [Começando a sua biblioteca de funções](21-funcoes-bibliotecas.ipynb)\n",
    "* [Exercícios sobre Funções (parte 2)](22-funcoes-bibliotecas-exercicios.ipynb)\n",
    "* [Dicionários em Python](23-dicionarios.ipynb)\n",
    "* [Exercícios sobre dicionários](24-dicionarios-exercicios.ipynb)\n",
    "* [Arquivos em Python](25-arquivos.ipynb)\n",
    "\n",
    "## Exercícios"
   ]
  },
  {
   "cell_type": "markdown",
   "metadata": {},
   "source": [
    "## Programa PyProtBank\n",
    "\n",
    "Ao final desse notebook você terá desenvolvido o programa PyProtBank. Esse programa gerencia uma base de dados de sequências de proteínas semelhante ao [Protein Data Bank](https://www.rcsb.org/). O seu programa deve permitir cadastrar sequências, consultar pelo nome da proteína, listar sequências pelo organismo, ou listar todas as sequências em ordem alfabética. Usaremos uma lista de dicionários que poderá crescer ao longo da execução do programa. Além disso, seu programa deve permitir carregar e salvar os dados de arquivo.\n",
    "\n",
    "O programa deverá mostrar o seguinte menu de opções:\n",
    "\n",
    "```\n",
    "******* PyProtBank *******\n",
    "*  Existem: 0 sequências *\n",
    "**************************\n",
    "1. Inserir sequência\n",
    "2. Consultar sequência por nome\n",
    "3. Listar sequências por organismo\n",
    "4. Listar todas as sequências\n",
    "5. Carregar dados de arquivo\n",
    "6. Salvar dados em arquivo\n",
    "7. Finalizar\n",
    "\n",
    "Digite a opção desejada: \n",
    "```\n",
    "\n",
    "Observe que à medida que as sequências são inseridas, o número de sequências mostrado no topo deve mudar. \n",
    "\n",
    "\n",
    "Na célula abaixo, copie as definições das funções criadas no [notebook sobre dicionários](11-exercicios-dicionarios.ipynb):\n",
    "\n",
    "* `cria_sequencia()`\n",
    "* `lista_todas(sequencias)`\n",
    "* `mostra_seq(seq)`\n",
    "* `lista_por_organismo(sequencias, organismo)`\n",
    "* `busca_nome(sequencias, nome)`\n",
    "* `mostra_menu(total)`\n",
    "\n",
    "Você já deve modificar a função `mostra_menu(total)` para incluir as duas novas opções mostradas acima."
   ]
  },
  {
   "cell_type": "code",
   "execution_count": null,
   "metadata": {},
   "outputs": [],
   "source": [
    "# defina as suas funções já criadas anteriormente aqui\n"
   ]
  },
  {
   "cell_type": "markdown",
   "metadata": {},
   "source": [
    "### Carregando dados de arquivo\n",
    "\n",
    "Nessa parte você vai precisar fazer o upload do arquivo [pdb.txt](https://drive.google.com/open?id=1HyFDbtZLjieAHyrAn6fpuAwfmiMPiUAC) para a sua pasta arquivos na Azure. \n",
    "\n",
    "Esse arquivo contém várias sequências publicadas no site do [Protein Data Bank](https://www.rcsb.org/). \n",
    "Veja as três primeiras linhas do arquivo:\n",
    "\n",
    "```\n",
    "6B0B;Discosoma sp.,Escherichia coli,Homo sapiens;Crystal structure of human APOBEC3H;6930\n",
    "5U10;Escherichia coli;E. coli dihydropteroate synthase complexed with pteroic acid;4162\n",
    "5OPW;Escherichia coli;Crystal structure of the GroEL mutant A109C;53984\n",
    "```\n",
    "Cada linha possui as seguintes informações separadas por `;`: \n",
    " * Nome (string)\n",
    " * Organismo(s) (string)\n",
    " * Descrição (string)\n",
    " * Número de átomos (inteiro)\n",
    "\n",
    "Na célula abaixo, crie uma função `carrega_arquivo(sequencias, nome_arquivo)` que vai carregar os dados do arquivo `nome_arquivo`, vai criar um dicionário para cada linha e vai inseri-lo na lista `sequencias`. "
   ]
  },
  {
   "cell_type": "code",
   "execution_count": null,
   "metadata": {},
   "outputs": [],
   "source": [
    "# Defina a sua função carrega_arquivo(sequencias, nome_arquivo)\n",
    "\n",
    "## Não se esqueça de fechar o arquivo depois de lê-lo\n",
    "\n"
   ]
  },
  {
   "cell_type": "code",
   "execution_count": null,
   "metadata": {},
   "outputs": [],
   "source": [
    "# Teste a sua função carrega_arquivo\n",
    "teste = []\n",
    "carrega_arquivo(teste,'arquivos/pdb.txt')\n",
    "print(len(teste)) # é para mostrar 98"
   ]
  },
  {
   "cell_type": "markdown",
   "metadata": {},
   "source": [
    "### Salvando dados para arquivo\n",
    "\n",
    "Nessa parte você vai implementar uma função `salva_arquivo(sequencias, nome_arquivo)` que vai receber uma lista de dicionários e gerar um arquivo chamado `nome_arquivo` no mesmo formato do arquivo lido na função `carrega_arquivo`, com a diferença que no arquivo as linhas estarão em ordem alfabética dos nomes.\n",
    "\n"
   ]
  },
  {
   "cell_type": "code",
   "execution_count": 1,
   "metadata": {
    "collapsed": true
   },
   "outputs": [],
   "source": [
    "# Defina a sua função salva_arquivo(sequencias)\n",
    "\n",
    "\n",
    "## Não se esqueça de fechar o arquivo antes de terminar a função.\n",
    "\n"
   ]
  },
  {
   "cell_type": "code",
   "execution_count": null,
   "metadata": {},
   "outputs": [],
   "source": [
    "# Teste a sua função salva_arquivo\n",
    "teste = []\n",
    "carrega_arquivo(teste,'arquivos/pdb.txt')\n",
    "salva_arquivo(teste, 'arquivos/pdb2.txt')\n",
    "teste = []\n",
    "carrega_arquivo(teste,'arquivos/pdb2.txt')\n",
    "print(len(teste)) # é para mostrar 98"
   ]
  },
  {
   "cell_type": "markdown",
   "metadata": {},
   "source": [
    "### Programa principal\n",
    "\n",
    "Finalmente podemos atualizar o nosso programa principal para incluir as novas funcionalidades.\n",
    "\n",
    "Você pode copiar a versão do notebook anterior e modificá-la tal que:\n",
    "\n",
    "* Se o usuário digitar 5 no menu, o programa vai carregar os dados de `arquivos/pdb.txt`.\n",
    "* Se o usuário digitar 6 no menu, o programa vai salvar os dados em `arquivos/pdb2.txt`\n",
    " "
   ]
  },
  {
   "cell_type": "code",
   "execution_count": 4,
   "metadata": {},
   "outputs": [],
   "source": [
    "from IPython.display import clear_output\n",
    "# Escreva aqui o seu programa principal\n",
    "\n",
    "\n",
    "    "
   ]
  },
  {
   "cell_type": "markdown",
   "metadata": {},
   "source": [
    "Teste o seu programa da seguinte maneira:\n",
    "\n",
    "1. Carregue os dados do arquivo\n",
    "2. Insira a sequência:\n",
    "```\n",
    "Nome:6EN9\n",
    "  Descrição: E. coli Hydrogenase-2 (hydrogen reduced form)\n",
    "  Organismo: Escherichia coli (strain K12)\n",
    "  Número de átomos: 12814\n",
    "```\n",
    "Por fim, salve os dados para o arquivo."
   ]
  },
  {
   "cell_type": "code",
   "execution_count": null,
   "metadata": {},
   "outputs": [],
   "source": []
  }
 ],
 "metadata": {
  "kernelspec": {
   "display_name": "Python 3",
   "language": "python",
   "name": "python3"
  },
  "language_info": {
   "codemirror_mode": {
    "name": "ipython",
    "version": 3
   },
   "file_extension": ".py",
   "mimetype": "text/x-python",
   "name": "python",
   "nbconvert_exporter": "python",
   "pygments_lexer": "ipython3",
   "version": "3.5.2"
  }
 },
 "nbformat": 4,
 "nbformat_minor": 2
}
