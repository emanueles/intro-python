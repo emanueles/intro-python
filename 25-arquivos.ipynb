{
  "cells": [
    {
      "metadata": {
        "slideshow": {
          "slide_type": "slide"
        }
      },
      "cell_type": "markdown",
      "source": "# Arquivos em Python\n\n"
    },
    {
      "metadata": {
        "slideshow": {
          "slide_type": "subslide"
        }
      },
      "cell_type": "markdown",
      "source": "## Motivação\nPrecisamos de uma forma de armazenar dados permanentemente.\n\nAlém disso, precisamos de uma forma simples de entrada e saída de dados para programas. Afinal, ficar digitando sempre várias entradas pode levar muito tempo.\n\nA maneira mais simples de se resolver isso é através de **arquivos**.\n"
    },
    {
      "metadata": {
        "slideshow": {
          "slide_type": "subslide"
        }
      },
      "cell_type": "markdown",
      "source": "## Arquivos\n\nUm **arquivo** é uma área em um disco, gerenciada pelo sistema operacional, onde podemos ler e gravar informações.\n\nDo ponto de vista do programa, só precisamos saber do seu nome e como os dados serão lidos e/ou gravados (se em modo texto ou binário)."
    },
    {
      "metadata": {
        "slideshow": {
          "slide_type": "slide"
        }
      },
      "cell_type": "markdown",
      "source": "## Abrindo arquivos\n\nPara acessar um arquivo, antes de mais nada, precisamos abri-lo.\n\nDurante a abertura, dizemos o **nome do arquivo** (inclusive com o nome do diretório onde ele está) e o tipo de operação que queremos realizar: leitura e/ou escrita."
    },
    {
      "metadata": {
        "slideshow": {
          "slide_type": "fragment"
        }
      },
      "cell_type": "markdown",
      "source": "Em Python abrimos arquivos com a função open e ela retorna um objeto para acessar o arquivo.\n\n```python\narquivo = open( nome_do_arquivo, modo)\n```"
    },
    {
      "metadata": {
        "slideshow": {
          "slide_type": "slide"
        }
      },
      "cell_type": "markdown",
      "source": "## Modos de abertura\n\n* `r` : leitura, o arquivo já deve existir (padrão)\n* `w`: escrita, apaga o conteúdo se já existir. Cria um novo arquivo se não existir.\n* `a`: escrita, mas preserva o conteúdo se já existir. O a é de append.\n* `t`: modo texto (padrão)\n* `b`: modo binário\n* `+`: atualização: leitura e escrita"
    },
    {
      "metadata": {
        "slideshow": {
          "slide_type": "fragment"
        }
      },
      "cell_type": "markdown",
      "source": "Alguns modos podem ser combinados: \"r+\", \"w+\", \"a+\", \"r+b\", \"w+b\".\n\nPara outros modos e mais detalhes consulte a [documentação do Python](https://docs.python.org/3/library/functions.html#open)."
    },
    {
      "metadata": {
        "slideshow": {
          "slide_type": "slide"
        }
      },
      "cell_type": "markdown",
      "source": "## Fechando arquivos\n\nDepois quando não precisarmos mais do arquivo (a leitura ou escrita já foram concluídas), é necessário fechá-lo.\n\n```python\narquivo.close()\n```\n\n> **Lembre-se sempre de fechar o arquivo quando terminar de lidar com ele. Deixar um arquivo aberto pode corrompê-lo se outros programas tentarem acessá-lo ao mesmo tempo.**"
    },
    {
      "metadata": {
        "slideshow": {
          "slide_type": "slide"
        },
        "trusted": true
      },
      "cell_type": "code",
      "source": "# Abrindo um arquivo para leitura em modo texto\narquivo = open(\"arquivos/exemplo.txt\",\"r\")\nprint(type(arquivo))\narquivo.close()",
      "execution_count": 1,
      "outputs": [
        {
          "output_type": "error",
          "ename": "FileNotFoundError",
          "evalue": "[Errno 2] No such file or directory: 'arquivos/exemplo.txt'",
          "traceback": [
            "\u001b[0;31m---------------------------------------------------------------------------\u001b[0m",
            "\u001b[0;31mFileNotFoundError\u001b[0m                         Traceback (most recent call last)",
            "\u001b[0;32m<ipython-input-1-e9d2ec38c7da>\u001b[0m in \u001b[0;36m<module>\u001b[0;34m()\u001b[0m\n\u001b[1;32m      1\u001b[0m \u001b[0;31m# Abrindo um arquivo para leitura em modo texto\u001b[0m\u001b[0;34m\u001b[0m\u001b[0;34m\u001b[0m\u001b[0m\n\u001b[0;32m----> 2\u001b[0;31m \u001b[0marquivo\u001b[0m \u001b[0;34m=\u001b[0m \u001b[0mopen\u001b[0m\u001b[0;34m(\u001b[0m\u001b[0;34m\"arquivos/exemplo.txt\"\u001b[0m\u001b[0;34m,\u001b[0m\u001b[0;34m\"r\"\u001b[0m\u001b[0;34m)\u001b[0m\u001b[0;34m\u001b[0m\u001b[0m\n\u001b[0m\u001b[1;32m      3\u001b[0m \u001b[0mprint\u001b[0m\u001b[0;34m(\u001b[0m\u001b[0mtype\u001b[0m\u001b[0;34m(\u001b[0m\u001b[0marquivo\u001b[0m\u001b[0;34m)\u001b[0m\u001b[0;34m)\u001b[0m\u001b[0;34m\u001b[0m\u001b[0m\n\u001b[1;32m      4\u001b[0m \u001b[0marquivo\u001b[0m\u001b[0;34m.\u001b[0m\u001b[0mclose\u001b[0m\u001b[0;34m(\u001b[0m\u001b[0;34m)\u001b[0m\u001b[0;34m\u001b[0m\u001b[0m\n",
            "\u001b[0;31mFileNotFoundError\u001b[0m: [Errno 2] No such file or directory: 'arquivos/exemplo.txt'"
          ]
        }
      ]
    },
    {
      "metadata": {
        "slideshow": {
          "slide_type": "slide"
        },
        "trusted": false
      },
      "cell_type": "code",
      "source": "# Abrindo um arquivo para escrita. Se o arquivo não existir, ele será criado.\n# Se o arquivo já existe, ele será apagado. Cuidado!!\narq2 = open(\"arquivos/apagueme.txt\",\"w\")\narq2.close()",
      "execution_count": 2,
      "outputs": []
    },
    {
      "metadata": {
        "slideshow": {
          "slide_type": "slide"
        }
      },
      "cell_type": "markdown",
      "source": "## Leitura e Escrita de arquivos\n\nDepois de abrir um arquivo, usamos as seguintes funções:\n\n* `conteudo = arquivo.read()`: lê todo o conteúdo de arquivo de uma vez como uma string.\n* `linhas = arquivo.readlines()`: lê todo o conteúdo de arquivo de uma vez, separando cada linha de texto como um elemento da lista linhas \n* `arquivo.write(conteudo)`: para escrever o conteúdo no arquivo."
    },
    {
      "metadata": {
        "slideshow": {
          "slide_type": "slide"
        },
        "trusted": false
      },
      "cell_type": "code",
      "source": "# Abrindo um arquivo para leitura em modo texto\narq1 = open(\"arquivos/exemplo.txt\",\"r\")\n# Ler todo o arquivo de uma só vez\ntexto = arq1.read()\nprint(texto)\narq1.close()",
      "execution_count": 3,
      "outputs": [
        {
          "name": "stdout",
          "output_type": "stream",
          "text": "Isso deve ser o arquivo inteiro.\n\n"
        }
      ]
    },
    {
      "metadata": {
        "slideshow": {
          "slide_type": "slide"
        }
      },
      "cell_type": "markdown",
      "source": "Arquivos só podem ser lidos uma vez depois de abertos. \n\nPara lê-los novamente, você precisa fechá-los e abri-los, ou mover o cursor para o início do arquivo novamente:"
    },
    {
      "metadata": {
        "slideshow": {
          "slide_type": "fragment"
        },
        "trusted": false
      },
      "cell_type": "code",
      "source": "# Abrindo um arquivo para leitura em modo texto\narq1 = open(\"arquivos/exemplo.txt\",\"r\")\n# Ler todo o arquivo de uma só vez\ntexto = arq1.read()\nprint(\"texto: \", texto)\n# Tentar ler o arquivo mais uma vez\ntexto2 = arq1.read()\nprint(\"texto2:\", texto2)\narq1.close()",
      "execution_count": null,
      "outputs": []
    },
    {
      "metadata": {
        "slideshow": {
          "slide_type": "slide"
        },
        "trusted": false
      },
      "cell_type": "code",
      "source": "# Abrindo um arquivo para leitura em modo texto\narq1 = open(\"arquivos/exemplo.txt\",\"r\")\n# Ler todo o arquivo de uma só vez\ntexto = arq1.read()\nprint(\"texto: \", texto)\n# Movendo o cursor para o início do arquivo antes de lê-lo novamente:\narq1.seek(0)\ntexto2 = arq1.read()\nprint(\"texto2:\", texto2)\narq1.close()",
      "execution_count": null,
      "outputs": []
    },
    {
      "metadata": {
        "slideshow": {
          "slide_type": "slide"
        }
      },
      "cell_type": "markdown",
      "source": "Quando quisermos guardar as linhas do arquivo em uma lista em memória, usamos a função `.readlines()`:"
    },
    {
      "metadata": {
        "slideshow": {
          "slide_type": "fragment"
        },
        "trusted": false
      },
      "cell_type": "code",
      "source": "# Abrindo um arquivo para leitura em modo texto\narq2 = open(\"arquivos/exemplo2.txt\",\"r\")\n# Ler as linhas do arquivo de uma vez, guardando-as em uma lista:\nlinhas = arq2.readlines()\nprint(linhas)\narq2.close()",
      "execution_count": null,
      "outputs": []
    },
    {
      "metadata": {
        "slideshow": {
          "slide_type": "slide"
        }
      },
      "cell_type": "markdown",
      "source": "Outra maneira de ler as linhas de um arquivo é através do comando for:\n\n```python\nfor linha in arquivo:\n    # faça alguma coisa com a linha\n```\n"
    },
    {
      "metadata": {
        "slideshow": {
          "slide_type": "slide"
        },
        "trusted": false
      },
      "cell_type": "code",
      "source": "# Abrindo um arquivo para leitura em modo texto\narq2 = open(\"arquivos/exemplo2.txt\",\"r\")\n# Ler uma linha do arquivo de cada vez \nfor linha in arq2:\n    print(linha)\narq2.close()",
      "execution_count": null,
      "outputs": []
    },
    {
      "metadata": {
        "slideshow": {
          "slide_type": "slide"
        }
      },
      "cell_type": "markdown",
      "source": "Vejamos um exemplo com a função `.write(conteudo)`:"
    },
    {
      "metadata": {
        "slideshow": {
          "slide_type": "slide"
        },
        "trusted": false
      },
      "cell_type": "code",
      "source": "# Abrindo um arquivo para escrita em modo texto\n# Se o arquivo numeros.txt na pasta arquivos já existir, ele será apagado.\n# Se ele não existir, será criado\narquivo = open(\"arquivos/numeros.txt\",\"w\")\n# Vamos escrever um número para cada linha do arquivo, de 1 a 100\nfor numero in range(1,101):\n    arquivo.write(\"%d\\n\" % numero)\narquivo.close()\nprint(\"Fim.\")",
      "execution_count": 4,
      "outputs": [
        {
          "name": "stdout",
          "output_type": "stream",
          "text": "Fim.\n"
        }
      ]
    },
    {
      "metadata": {
        "slideshow": {
          "slide_type": "slide"
        }
      },
      "cell_type": "markdown",
      "source": "# Exercícios"
    },
    {
      "metadata": {
        "slideshow": {
          "slide_type": "subslide"
        }
      },
      "cell_type": "markdown",
      "source": "## Exercício 1\n\nComo primeiro exercício, leia o conteúdo do arquivo criado na célula anterior e mostre os números na tela. Não se esqueça de fechar o arquivo quando terminar de lê-lo. Você pode usar qualquer uma das funções de leitura que vimos anteriormente."
    },
    {
      "metadata": {
        "slideshow": {
          "slide_type": "subslide"
        },
        "trusted": false
      },
      "cell_type": "code",
      "source": "# Escreva o seu código aqui\n\n# Abra o arquivo para leitura\n\n# Leia o conteúdo do arquivo e mostre na tela\n\n# Feche o arquivo",
      "execution_count": null,
      "outputs": []
    },
    {
      "metadata": {
        "slideshow": {
          "slide_type": "subslide"
        }
      },
      "cell_type": "markdown",
      "source": "## Exercício 2\n\nEscreva um programa que lê o arquivo `arquivos/v_cholerae_ori.txt` que contém a sequência de nucleotídeos que formam a origem do genoma de *Vibrio Cholerae* e mostra quantos nucleotídeos existem na origem."
    },
    {
      "metadata": {
        "slideshow": {
          "slide_type": "subslide"
        },
        "trusted": false
      },
      "cell_type": "code",
      "source": "# Escreva o seu código aqui\n\n# Abra o arquivo para leitura\n\n# Leia o arquivo e calcule o tamanho da string\n\n# Feche o arquivo",
      "execution_count": 5,
      "outputs": []
    },
    {
      "metadata": {
        "slideshow": {
          "slide_type": "subslide"
        }
      },
      "cell_type": "markdown",
      "source": "## Exercício 3\n\nEscreva um programa que gera dois arquivos com 500 linhas cada. No primeiro arquivo, o programa escreve apenas os números pares de 1 a 1000 e no outro os ímpares."
    },
    {
      "metadata": {
        "slideshow": {
          "slide_type": "subslide"
        },
        "trusted": false
      },
      "cell_type": "code",
      "source": "# Escreva o seu código aqui\n\n# Abra os arquivos para escrita\n\n# Escreva os números apropriados nos arquivos\n\n# Feche os arquivos",
      "execution_count": null,
      "outputs": []
    },
    {
      "metadata": {
        "slideshow": {
          "slide_type": "subslide"
        }
      },
      "cell_type": "markdown",
      "source": "## Exercício 4\nNa pasta arquivos, existe um arquivo chamado `notas.txt` que contém um número inteiro de 0 a 100 em cada linha. Leia esse arquivo, calcule e mostre a média das notas."
    },
    {
      "metadata": {
        "slideshow": {
          "slide_type": "subslide"
        },
        "trusted": false
      },
      "cell_type": "code",
      "source": "# Escreva o seu código aqui\n\n# Abra o arquivo para leitura\n\n# Leia o conteúdo do arquivo\n\n# Calcule a média e mostre na tela\n\n# Feche o arquivo",
      "execution_count": null,
      "outputs": []
    },
    {
      "metadata": {
        "slideshow": {
          "slide_type": "slide"
        }
      },
      "cell_type": "markdown",
      "source": "## Arquivos mais complexos\n\nAlgumas vezes os arquivos que precisamos ler possuem várias informações em cada linha (imagine uma planilha de dados).\n\nNesse caso, usaremos outras funções que nos ajudarão a processar as informações.\n"
    },
    {
      "metadata": {
        "collapsed": true,
        "slideshow": {
          "slide_type": "slide"
        }
      },
      "cell_type": "markdown",
      "source": "## Exemplo: Agenda de telefones\n\nPor exemplo, suponha que tenhamos um arquivo de nomes e telefones (`telefones.txt`), cujo conteúdo é mostrado abaixo:\n\n```\nringo,6543\nelvis,7723\npaul,4897\nmary,1234\njohn,1475\nmark,2003\ngeorge,1029\npeter,4456\n```"
    },
    {
      "metadata": {
        "slideshow": {
          "slide_type": "subslide"
        }
      },
      "cell_type": "markdown",
      "source": "Queremos ler os dados e guardá-los em uma agenda de telefones: no nosso caso, usaremos um dicionário onde as chaves são os nomes e os valores serão os telefones (iremos supor que não existam nomes repetidos).\n\nIremos precisar das seguintes funções:\n"
    },
    {
      "metadata": {
        "slideshow": {
          "slide_type": "subslide"
        }
      },
      "cell_type": "markdown",
      "source": "## Função `.split(sep)`\n\nUsamos a função `split(sep)` para transformar uma string em uma lista, quebrando os elementos em `sep`, sep é uma string separadora que será ignorada e não será inserida na lista.\n\nPor exemplo:"
    },
    {
      "metadata": {
        "slideshow": {
          "slide_type": "fragment"
        },
        "trusted": false
      },
      "cell_type": "code",
      "source": "linha = \"ringo,6543\\n\"\nlista = linha.split(',')\nprint(lista)",
      "execution_count": 4,
      "outputs": [
        {
          "name": "stdout",
          "output_type": "stream",
          "text": "['ringo', '6543\\n']\n"
        }
      ]
    },
    {
      "metadata": {
        "slideshow": {
          "slide_type": "subslide"
        }
      },
      "cell_type": "markdown",
      "source": "## Função `.strip()`\n\nUsamos a função `strip()` para remover os caracteres em branco e quebras de linha do começo e do final de uma string.\n\nSão removidos brancos, tabs e \\n (você também pode passar uma string de outros caracteres que queira remover. Por exemplo:"
    },
    {
      "metadata": {
        "slideshow": {
          "slide_type": "fragment"
        },
        "trusted": false
      },
      "cell_type": "code",
      "source": "linha = \"ringo,6543\\n\"\nlista = linha.split(',')\nlista[1] = lista[1].strip()\nprint(lista)",
      "execution_count": 5,
      "outputs": [
        {
          "name": "stdout",
          "output_type": "stream",
          "text": "['ringo', '6543']\n"
        }
      ]
    },
    {
      "metadata": {
        "slideshow": {
          "slide_type": "subslide"
        }
      },
      "cell_type": "markdown",
      "source": "## Função `.join(list)`\n\nPara salvar a agenda para um arquivo, você pode usar formatação de string ou a função `join(list)`.\n\nA função `join(list)` é uma função de string que cria uma outra string concatenando todas as strings em `list`. O separador utilizado é a própria string que chamou o join(list). Por exemplo:"
    },
    {
      "metadata": {
        "slideshow": {
          "slide_type": "fragment"
        },
        "trusted": false
      },
      "cell_type": "code",
      "source": "lista = ['ringo', '6543']\nlinha = ','.join(lista)\nprint(linha)",
      "execution_count": null,
      "outputs": []
    },
    {
      "metadata": {
        "slideshow": {
          "slide_type": "slide"
        }
      },
      "cell_type": "markdown",
      "source": "Exemplo completo nas próximas células:"
    },
    {
      "metadata": {
        "slideshow": {
          "slide_type": "subslide"
        },
        "trusted": false
      },
      "cell_type": "code",
      "source": "# Definindo a agenda como um dicionário:\nagenda = {}\n# Abrindo o arquivo de telefones\narquivo = open('arquivos/telefones.txt', 'r')\nfor linha in arquivo:\n    dados = linha.split(',')\n    nome = dados[0]\n    telefone = dados[1].strip()\n    agenda[nome] = telefone # Inserindo no dicionário\narquivo.close()\nprint('Agenda carregada com sucesso.')",
      "execution_count": 6,
      "outputs": [
        {
          "name": "stdout",
          "output_type": "stream",
          "text": "Agenda carregada com sucesso.\n"
        }
      ]
    },
    {
      "metadata": {
        "slideshow": {
          "slide_type": "fragment"
        },
        "trusted": false
      },
      "cell_type": "code",
      "source": "",
      "execution_count": 8,
      "outputs": [
        {
          "name": "stdout",
          "output_type": "stream",
          "text": "1234\n"
        }
      ]
    },
    {
      "metadata": {
        "slideshow": {
          "slide_type": "skip"
        },
        "trusted": false
      },
      "cell_type": "code",
      "source": "# inserindo um novo contato na agenda\nagenda['phil'] = '9873'",
      "execution_count": 9,
      "outputs": []
    },
    {
      "metadata": {
        "slideshow": {
          "slide_type": "subslide"
        },
        "trusted": false
      },
      "cell_type": "code",
      "source": "# Abrindo o arquivo de telefones para escrita\narquivo = open('arquivos/telefones.txt', 'w')\nfor nome in agenda:\n    arquivo.write('%s,%s\\n' % (nome,agenda[nome]))\narquivo.close()\nprint('Agenda salva com sucesso.')",
      "execution_count": 11,
      "outputs": [
        {
          "name": "stdout",
          "output_type": "stream",
          "text": "Agenda salva com sucesso.\n"
        }
      ]
    },
    {
      "metadata": {
        "slideshow": {
          "slide_type": "slide"
        }
      },
      "cell_type": "markdown",
      "source": "# Exercícios"
    },
    {
      "metadata": {
        "slideshow": {
          "slide_type": "subslide"
        }
      },
      "cell_type": "markdown",
      "source": "## Exercício 5\n\nLer um arquivo de notas em `'arquivos/notas2.txt'` (nomes e notas separados por tab). Mostre a lista de alunos aprovados e a lista de alunos reprovados (ambas em ordem alfabética). Para ser aprovado a média deve ser maior ou igual a 7.0"
    },
    {
      "metadata": {
        "slideshow": {
          "slide_type": "subslide"
        },
        "trusted": false
      },
      "cell_type": "code",
      "source": "# Escreva o seu código aqui\n\n# Abra o arquivo para leitura\n\n# Leia o conteúdo do arquivo\n\n# Calcule os resultados dos alunos \n\n# Mostre a lista de alunos aprovados e reprovados\n\n# Feche o arquivo",
      "execution_count": null,
      "outputs": []
    },
    {
      "metadata": {
        "slideshow": {
          "slide_type": "subslide"
        }
      },
      "cell_type": "markdown",
      "source": "## Exercício 6\n\nLer um arquivo de notas em `'arquivos/notas3.txt'` (nome, nota1 e nota2 separados por tab, com uma linha de cabeçalho). Mostre a lista de alunos aprovados e a lista de alunos reprovados (ambas em ordem alfabética). Para ser aprovado, a média das notas deve ser superior ou igual a 7.0."
    },
    {
      "metadata": {
        "slideshow": {
          "slide_type": "subslide"
        },
        "trusted": false
      },
      "cell_type": "code",
      "source": "# Escreva o seu código aqui\n\n# Abra o arquivo para leitura\n\n# Leia o conteúdo do arquivo\n\n# Calcule os resultados dos alunos \n\n# Mostre a lista de alunos aprovados e reprovados\n\n# Feche o arquivo",
      "execution_count": null,
      "outputs": []
    },
    {
      "metadata": {},
      "cell_type": "markdown",
      "source": "Ao terminar, você já pode ir para o próximo notebook: [Exercícios sobre Arquivos](26-arquivos-exercicios.ipynb)."
    }
  ],
  "metadata": {
    "celltoolbar": "Slideshow",
    "kernelspec": {
      "name": "python3",
      "display_name": "Python 3",
      "language": "python"
    },
    "language_info": {
      "mimetype": "text/x-python",
      "nbconvert_exporter": "python",
      "name": "python",
      "file_extension": ".py",
      "version": "3.5.4",
      "pygments_lexer": "ipython3",
      "codemirror_mode": {
        "version": 3,
        "name": "ipython"
      }
    }
  },
  "nbformat": 4,
  "nbformat_minor": 2
}